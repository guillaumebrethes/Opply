{
  "cells": [
    {
      "cell_type": "code",
      "execution_count": 848,
      "metadata": {
        "colab": {
          "base_uri": "https://localhost:8080/"
        },
        "id": "xOuMJJYR3EG7",
        "outputId": "5ad94fde-a7c8-4b17-bc4c-997f553d8fc7"
      },
      "outputs": [],
      "source": [
        "# from google.colab import drive\n",
        "# drive.mount('/content/drive/')"
      ]
    },
    {
      "cell_type": "markdown",
      "metadata": {
        "id": "2pVfCjqV_U7i"
      },
      "source": [
        "### Importation module"
      ]
    },
    {
      "cell_type": "code",
      "execution_count": 849,
      "metadata": {
        "id": "MlnDOsJN_UfJ"
      },
      "outputs": [],
      "source": [
        "import numpy as np\n",
        "%matplotlib inline\n",
        "import pandas as pd\n",
        "import seaborn as sns\n",
        "import calendar\n",
        "import matplotlib.pyplot as plt\n"
      ]
    },
    {
      "cell_type": "markdown",
      "metadata": {},
      "source": [
        "### Connection with Colab / VSC"
      ]
    },
    {
      "cell_type": "code",
      "execution_count": 850,
      "metadata": {},
      "outputs": [],
      "source": [
        "# colab\n",
        "# quotes = pd.read_csv(\"/content/drive/MyDrive/Opply/Opply/d5d9348e5c87368cc1b74e6d4dde9794/Quotes.csv\")\n",
        "# request = pd.read_csv('/content/drive/MyDrive/Opply/Opply/d5d9348e5c87368cc1b74e6d4dde9794/Requests.csv')\n",
        "\n",
        "# vsc\n",
        "\n",
        "quotes = pd.read_csv(\"Quotes.csv\")\n",
        "requests = pd.read_csv(\"Requests.csv\")"
      ]
    },
    {
      "cell_type": "markdown",
      "metadata": {
        "id": "P828RoZsBO5B"
      },
      "source": [
        "# 1 - Exploration"
      ]
    },
    {
      "cell_type": "code",
      "execution_count": 851,
      "metadata": {
        "colab": {
          "base_uri": "https://localhost:8080/"
        },
        "id": "wcGKDAHy_4dj",
        "outputId": "6665b686-67b8-4b2b-eaf8-b820555c498d"
      },
      "outputs": [
        {
          "name": "stdout",
          "output_type": "stream",
          "text": [
            "(389, 4)\n",
            "(492, 6)\n"
          ]
        }
      ],
      "source": [
        "print(requests.shape)\n",
        "print(quotes.shape)"
      ]
    },
    {
      "cell_type": "code",
      "execution_count": 852,
      "metadata": {
        "id": "nUiZCozBA9Mm"
      },
      "outputs": [
        {
          "data": {
            "text/html": [
              "<div>\n",
              "<style scoped>\n",
              "    .dataframe tbody tr th:only-of-type {\n",
              "        vertical-align: middle;\n",
              "    }\n",
              "\n",
              "    .dataframe tbody tr th {\n",
              "        vertical-align: top;\n",
              "    }\n",
              "\n",
              "    .dataframe thead th {\n",
              "        text-align: right;\n",
              "    }\n",
              "</style>\n",
              "<table border=\"1\" class=\"dataframe\">\n",
              "  <thead>\n",
              "    <tr style=\"text-align: right;\">\n",
              "      <th></th>\n",
              "      <th>Request UUID</th>\n",
              "      <th>Current Unit Price</th>\n",
              "      <th>Target Unit Price</th>\n",
              "      <th>Supply Priority</th>\n",
              "    </tr>\n",
              "  </thead>\n",
              "  <tbody>\n",
              "    <tr>\n",
              "      <th>0</th>\n",
              "      <td>820412eb-8d4d-4d6c-a5e3-cfc977cd6d48</td>\n",
              "      <td>£3.50</td>\n",
              "      <td>£3.00</td>\n",
              "      <td>Price</td>\n",
              "    </tr>\n",
              "    <tr>\n",
              "      <th>1</th>\n",
              "      <td>08f1a913-1318-4656-9418-ce580a9871cb</td>\n",
              "      <td>£0.01</td>\n",
              "      <td>£0.01</td>\n",
              "      <td>Price</td>\n",
              "    </tr>\n",
              "    <tr>\n",
              "      <th>2</th>\n",
              "      <td>8cd6fd33-a1bc-43cb-9c63-df7d629d5362</td>\n",
              "      <td>£0.01</td>\n",
              "      <td>£0.01</td>\n",
              "      <td>Price</td>\n",
              "    </tr>\n",
              "    <tr>\n",
              "      <th>3</th>\n",
              "      <td>9388fbf6-410b-4f85-999a-1ff4d4cb733b</td>\n",
              "      <td>£0.01</td>\n",
              "      <td>£0.01</td>\n",
              "      <td>Price</td>\n",
              "    </tr>\n",
              "    <tr>\n",
              "      <th>4</th>\n",
              "      <td>37d05dfe-7f47-4eed-8e78-9f74c303bcad</td>\n",
              "      <td>£0.01</td>\n",
              "      <td>£0.01</td>\n",
              "      <td>Price</td>\n",
              "    </tr>\n",
              "  </tbody>\n",
              "</table>\n",
              "</div>"
            ],
            "text/plain": [
              "                           Request UUID Current Unit Price Target Unit Price  \\\n",
              "0  820412eb-8d4d-4d6c-a5e3-cfc977cd6d48              £3.50             £3.00   \n",
              "1  08f1a913-1318-4656-9418-ce580a9871cb              £0.01             £0.01   \n",
              "2  8cd6fd33-a1bc-43cb-9c63-df7d629d5362              £0.01             £0.01   \n",
              "3  9388fbf6-410b-4f85-999a-1ff4d4cb733b              £0.01             £0.01   \n",
              "4  37d05dfe-7f47-4eed-8e78-9f74c303bcad              £0.01             £0.01   \n",
              "\n",
              "  Supply Priority  \n",
              "0           Price  \n",
              "1           Price  \n",
              "2           Price  \n",
              "3           Price  \n",
              "4           Price  "
            ]
          },
          "execution_count": 852,
          "metadata": {},
          "output_type": "execute_result"
        }
      ],
      "source": [
        "requests.head()"
      ]
    },
    {
      "cell_type": "code",
      "execution_count": 853,
      "metadata": {
        "id": "vN_7N1m6BAiY"
      },
      "outputs": [
        {
          "data": {
            "text/html": [
              "<div>\n",
              "<style scoped>\n",
              "    .dataframe tbody tr th:only-of-type {\n",
              "        vertical-align: middle;\n",
              "    }\n",
              "\n",
              "    .dataframe tbody tr th {\n",
              "        vertical-align: top;\n",
              "    }\n",
              "\n",
              "    .dataframe thead th {\n",
              "        text-align: right;\n",
              "    }\n",
              "</style>\n",
              "<table border=\"1\" class=\"dataframe\">\n",
              "  <thead>\n",
              "    <tr style=\"text-align: right;\">\n",
              "      <th></th>\n",
              "      <th>Request UUID</th>\n",
              "      <th>Quote Unit Price</th>\n",
              "      <th>Status</th>\n",
              "      <th>Decline Reason</th>\n",
              "      <th>Samples Available</th>\n",
              "      <th>Documents Provided</th>\n",
              "    </tr>\n",
              "  </thead>\n",
              "  <tbody>\n",
              "    <tr>\n",
              "      <th>0</th>\n",
              "      <td>94ba38d1-57ed-4a60-92d1-47b55a40a6dd</td>\n",
              "      <td>£5.10</td>\n",
              "      <td>Available</td>\n",
              "      <td>NaN</td>\n",
              "      <td>NaN</td>\n",
              "      <td>NaN</td>\n",
              "    </tr>\n",
              "    <tr>\n",
              "      <th>1</th>\n",
              "      <td>820412eb-8d4d-4d6c-a5e3-cfc977cd6d48</td>\n",
              "      <td>£3.50</td>\n",
              "      <td>Available</td>\n",
              "      <td>NaN</td>\n",
              "      <td>Yes</td>\n",
              "      <td>NaN</td>\n",
              "    </tr>\n",
              "    <tr>\n",
              "      <th>2</th>\n",
              "      <td>08f1a913-1318-4656-9418-ce580a9871cb</td>\n",
              "      <td>£1,768.89</td>\n",
              "      <td>Available</td>\n",
              "      <td>NaN</td>\n",
              "      <td>Yes</td>\n",
              "      <td>Yes</td>\n",
              "    </tr>\n",
              "    <tr>\n",
              "      <th>3</th>\n",
              "      <td>4dedeeb1-12a5-4589-82ee-015e46d85790</td>\n",
              "      <td>£4.65</td>\n",
              "      <td>Declined</td>\n",
              "      <td>pricing: Too high</td>\n",
              "      <td>NaN</td>\n",
              "      <td>NaN</td>\n",
              "    </tr>\n",
              "    <tr>\n",
              "      <th>4</th>\n",
              "      <td>820412eb-8d4d-4d6c-a5e3-cfc977cd6d48</td>\n",
              "      <td>£13.00</td>\n",
              "      <td>Available</td>\n",
              "      <td>NaN</td>\n",
              "      <td>NaN</td>\n",
              "      <td>NaN</td>\n",
              "    </tr>\n",
              "  </tbody>\n",
              "</table>\n",
              "</div>"
            ],
            "text/plain": [
              "                           Request UUID Quote Unit Price     Status  \\\n",
              "0  94ba38d1-57ed-4a60-92d1-47b55a40a6dd            £5.10  Available   \n",
              "1  820412eb-8d4d-4d6c-a5e3-cfc977cd6d48            £3.50  Available   \n",
              "2  08f1a913-1318-4656-9418-ce580a9871cb        £1,768.89  Available   \n",
              "3  4dedeeb1-12a5-4589-82ee-015e46d85790            £4.65   Declined   \n",
              "4  820412eb-8d4d-4d6c-a5e3-cfc977cd6d48           £13.00  Available   \n",
              "\n",
              "      Decline Reason Samples Available Documents Provided  \n",
              "0                NaN               NaN                NaN  \n",
              "1                NaN               Yes                NaN  \n",
              "2                NaN               Yes                Yes  \n",
              "3  pricing: Too high               NaN                NaN  \n",
              "4                NaN               NaN                NaN  "
            ]
          },
          "execution_count": 853,
          "metadata": {},
          "output_type": "execute_result"
        }
      ],
      "source": [
        "quotes.head()"
      ]
    },
    {
      "cell_type": "code",
      "execution_count": 854,
      "metadata": {
        "id": "no95GHsWBvSx"
      },
      "outputs": [
        {
          "name": "stdout",
          "output_type": "stream",
          "text": [
            "<class 'pandas.core.frame.DataFrame'>\n",
            "RangeIndex: 389 entries, 0 to 388\n",
            "Data columns (total 4 columns):\n",
            " #   Column              Non-Null Count  Dtype \n",
            "---  ------              --------------  ----- \n",
            " 0   Request UUID        389 non-null    object\n",
            " 1   Current Unit Price  389 non-null    object\n",
            " 2   Target Unit Price   389 non-null    object\n",
            " 3   Supply Priority     287 non-null    object\n",
            "dtypes: object(4)\n",
            "memory usage: 12.3+ KB\n"
          ]
        }
      ],
      "source": [
        "requests.info()"
      ]
    },
    {
      "cell_type": "code",
      "execution_count": 855,
      "metadata": {
        "id": "3QTmlZX8B1rG"
      },
      "outputs": [
        {
          "name": "stdout",
          "output_type": "stream",
          "text": [
            "<class 'pandas.core.frame.DataFrame'>\n",
            "RangeIndex: 492 entries, 0 to 491\n",
            "Data columns (total 6 columns):\n",
            " #   Column              Non-Null Count  Dtype \n",
            "---  ------              --------------  ----- \n",
            " 0   Request UUID        492 non-null    object\n",
            " 1   Quote Unit Price    492 non-null    object\n",
            " 2   Status              492 non-null    object\n",
            " 3   Decline Reason      58 non-null     object\n",
            " 4   Samples Available   275 non-null    object\n",
            " 5   Documents Provided  279 non-null    object\n",
            "dtypes: object(6)\n",
            "memory usage: 23.2+ KB\n"
          ]
        }
      ],
      "source": [
        "quotes.info()"
      ]
    },
    {
      "cell_type": "code",
      "execution_count": null,
      "metadata": {},
      "outputs": [],
      "source": []
    },
    {
      "cell_type": "markdown",
      "metadata": {
        "id": "mriIf9jUC5RP"
      },
      "source": [
        "* Identified unique values for each column.\n"
      ]
    },
    {
      "cell_type": "code",
      "execution_count": 856,
      "metadata": {
        "id": "-7yjMJDcC3J9"
      },
      "outputs": [
        {
          "name": "stdout",
          "output_type": "stream",
          "text": [
            "> : Request UUID ==> : ['94ba38d1-57ed-4a60-92d1-47b55a40a6dd'\n",
            " '820412eb-8d4d-4d6c-a5e3-cfc977cd6d48'\n",
            " '08f1a913-1318-4656-9418-ce580a9871cb'\n",
            " '4dedeeb1-12a5-4589-82ee-015e46d85790'\n",
            " '37d05dfe-7f47-4eed-8e78-9f74c303bcad'\n",
            " '50ef47ee-1cb8-44bf-9444-2c057fdc72ca'\n",
            " '4963b6de-4d98-4f0d-8ee5-47d2a227279b'\n",
            " '164cd9f1-fef3-41f5-89b6-14f3ca3acdf5'\n",
            " '8d378ea3-c746-4816-8856-905dff39bb8a'\n",
            " '60d19385-41bd-4b71-96e4-e6c2a93040ea'\n",
            " '4e98d968-c92f-4b55-af32-1f9d41ef7260'\n",
            " '57878c43-4147-4260-b99e-54105f29e860'\n",
            " 'fca03c4f-3f16-40d0-b87c-16d9343e4a52'\n",
            " 'd596642b-c417-49e6-aa3b-ec6185fb2b9f'\n",
            " 'dd82336a-4eff-4b2e-af80-ec2825b7bd33'\n",
            " 'a1ef94d7-7a8c-4c3d-b60f-a40e93401198'\n",
            " '531a47f6-3862-40e4-985a-46743751cce0'\n",
            " '39c19049-87c7-44b9-b5aa-3b6bac20d7d4'\n",
            " 'd9564a3f-ea2c-472a-8d8c-8362b4b1c411'\n",
            " '4d7c0088-27eb-43a0-b88d-2c199568d656'\n",
            " '8b0aa667-04d0-481d-8d49-5a7c71e41163'\n",
            " '17666e5e-933d-4cf0-9017-47b351784d57'\n",
            " '15a80e87-9e27-4f3e-abb6-dff075964505'\n",
            " 'cc66f476-9f26-426c-9216-0150c87f8c78'\n",
            " 'e42a5914-1b6e-4465-9c28-b081f9a05e27'\n",
            " '52fc0262-ed22-40f7-b983-a8df4c6d7a0d'\n",
            " '1c0a5675-bc9e-4a4f-8e1f-eb1f673e0038'\n",
            " '93d399d2-0b4c-4dc1-a4d6-7e84e7fb1ee7'\n",
            " 'aeffa5a7-193b-4f1a-8f68-944de8306cf9'\n",
            " 'a5e8415b-3519-4f95-9745-7415d007b1fb'\n",
            " '60e327a1-e148-4f88-bf9b-f3525c578d59'\n",
            " 'f83be172-6912-45af-9048-987aef354316'\n",
            " 'ad423960-dcd9-418e-9f38-19999e9530ec'\n",
            " 'b9701840-f486-4e5a-989e-bfaf42c0ca65'\n",
            " 'fbc694e3-9dd3-47c0-9f21-ebdf30123c87'\n",
            " 'cb038d53-c959-463e-b2fe-3d64154b4d6a'\n",
            " 'de9fea0e-d82f-4bb6-9953-7c4ea82b0b20'\n",
            " '739b0b10-d82d-4dd9-b1c0-8e81491bb749'\n",
            " 'c13f1780-dd15-47b7-b3fe-5ba056f25c26'\n",
            " '29868c82-9389-437e-82a6-d1046d4d800d'\n",
            " 'a12b7050-9288-4efc-aa22-ca0ca8e2d94a'\n",
            " '9cf11f62-7b1e-4a7f-9c40-c12ad721a72b'\n",
            " '3c583881-a99d-42ca-a81b-648bc6884976'\n",
            " '2473d2dc-0a5c-4a61-a73d-3050faf0f7a0'\n",
            " '2d77a5f6-72f9-4f80-833e-2c746739000f'\n",
            " 'ccbedbf7-def1-4e55-a97f-8535ab796960'\n",
            " '26137052-6469-47ef-9ac2-a0fd353acdaf'\n",
            " '141aeffb-21ce-418f-a9ab-76127b793f31'\n",
            " '335e4424-c1f5-49ac-8e84-ac580076a926'\n",
            " '614a0fa6-1e4e-4384-ae82-a639edf26f15'\n",
            " '9222ac19-26f5-4720-9e22-16f23719bbb6'\n",
            " 'c1bd88b5-6b72-4dd9-9943-f69649805cd4'\n",
            " '4754675a-455e-48bc-8e78-9a6ce7731e6e'\n",
            " 'e2df726c-e0d2-4543-9b8e-e17a0e0a6475'\n",
            " '440703b0-596a-4ea1-82b1-8ae0a2c4fc24'\n",
            " 'e22e5345-30e6-4ea8-824e-eceec5ff119f'\n",
            " 'ecffa75d-8be3-4574-bb19-dec66fe8d758'\n",
            " '3e8573ef-da7d-4768-9872-cc91b01f1d6c'\n",
            " 'ff9f3177-c577-45ac-bbca-1cbcb1558500'\n",
            " '15cf7139-ed13-45fa-b755-ea230177dd37'\n",
            " '80651b6e-b283-4706-9252-8b9a6d6a45e8'\n",
            " '43d59c22-d2d1-4295-8a9e-b3f78c34cdf5'\n",
            " '8087c135-d9d7-4f44-b53f-2957a317d342'\n",
            " '0e3a5cf8-6242-4842-af9b-83718a40632c'\n",
            " '49a62576-4031-4248-9429-acecfee9e963'\n",
            " '5fd5ea2b-21d4-47f0-9edc-a3147ed0c544'\n",
            " '8342c9fa-1c8f-4e05-bf75-b3303c3910ac'\n",
            " '49ce21ea-4c19-4631-8495-e2e654aab896'\n",
            " '69ab183c-efbc-44c3-a9df-ebd758f14137'\n",
            " '402caae0-e1ea-453e-bf2f-a6a426827b20'\n",
            " '512fa0d7-13a0-4ba7-b3d0-dfe53b97759e'\n",
            " '974536d6-fad7-4d69-805e-72eb287f1691'\n",
            " 'fc24a58c-9cac-43a0-a198-136e8a89e2ba'\n",
            " '6ad03418-7979-4bee-a565-cdd492518c34'\n",
            " 'c5db9117-0cf1-474c-839e-52da40643238'\n",
            " '9efb20f5-0cb9-462c-b696-52d1897681c1'\n",
            " '5c065d56-2463-4885-bdf0-9060ddc8af30'\n",
            " '719bf28d-9b8f-4f62-bab4-6a6dc0125770'\n",
            " 'c0776168-cc90-46ec-9df9-299e4d3edac8'\n",
            " '8fe4a0ae-6c32-476c-95a5-9b39ff4c3d70'\n",
            " '96bc9a0c-6e89-4a06-9598-ddb95147d427'\n",
            " '26dbea72-f57b-4282-a3af-b03535b68b04'\n",
            " '08b216c4-018f-4d86-a7ed-7b90541efed8'\n",
            " '4ec57884-d2bf-407f-802a-488763fae7d3'\n",
            " 'fe3f99c0-ba66-46b2-96bf-897e7b787404'\n",
            " 'd8580f81-ba44-492c-9836-3ec968657984'\n",
            " 'af3c133e-d52f-4723-98d6-f20755f6316d'\n",
            " '498c6a7c-a18b-496c-a599-f680093998df'\n",
            " 'cb1c1bbc-4202-4add-afa9-280134f90359'\n",
            " 'e3042531-96d1-4663-a1d1-7fcd26ea7fc6'\n",
            " 'c7eff9d2-3afe-4fc5-b973-17f600a21727'\n",
            " '949f8ecf-d8e8-4122-9558-cbc6a8847aba'\n",
            " 'eea3a233-1bed-4407-8178-c9585583b709'\n",
            " '84f79c03-3cfc-4588-b5c8-f920b1399311'\n",
            " '50b38988-5f65-4d28-a623-9cb3560d1714'\n",
            " 'e0b2cd6b-caab-45bd-9807-a9b4b68300cc'\n",
            " '2ec4bab8-d774-4b74-a29a-3ce0db0250b3'\n",
            " 'af3bcc02-9542-424d-b61e-b356600a3fdd'\n",
            " '539fa824-0507-4809-ad55-72b69104d84e'\n",
            " '11d46e94-8a6e-4085-b209-852bd4a5415c'\n",
            " 'ecf9c5f5-5f97-489c-a977-2a4ed0c27014'\n",
            " '8b03b8f3-b5b4-42b6-86d3-09ddb6e64f83'\n",
            " 'e0a0633c-6dae-4840-acc6-d0d491a437b2'\n",
            " '8e24415e-0e99-4312-89df-1a549ac60892'\n",
            " '8e24e2a6-d8b2-447f-9490-378035b7477e'\n",
            " 'cf681319-06b4-43d8-b68b-fdd27a5e4a82'\n",
            " '355a49d3-00a9-4db0-ba57-e7c848b60dc6'\n",
            " '86bf4f69-f7a7-4835-95e8-b796a64d7273'\n",
            " '634f75c2-3121-4bd3-bc8e-ec85ce755034'\n",
            " '4f358d38-39d9-4d90-a67e-db8b798ef162'\n",
            " 'b607c568-5bcf-4c0e-add8-d4b33558c716'\n",
            " '1abdb362-d404-4715-9d94-6bcb898847e1'\n",
            " 'b49bfaea-f0e6-415e-a255-3be5f5720ce1'\n",
            " 'f2f0582a-3499-46e7-9a78-9a176343ae84'\n",
            " '9c1dadc4-a31f-4b2e-9210-055463a8dade'\n",
            " '948a71e4-5ecf-4d98-bed5-2841ae1a9124'\n",
            " 'b1869a6b-dcd4-4769-b34f-73e56cf4c8c5'\n",
            " 'bf0b207d-3ff2-4a9f-ba21-a79936360a16'\n",
            " '561c7ed4-bc57-4b6b-89df-58c7ea2a03a4'\n",
            " 'f98f3833-3363-469b-a575-dc66d6156826'\n",
            " 'c4cf044f-1b36-423e-b7a2-654fad7223a2'\n",
            " 'd22a6095-3445-498d-bfaa-c855f2a6f083'\n",
            " 'ad4e8c90-4e20-4f04-9925-5fa6414ca765'\n",
            " 'd70107e8-b285-4730-99d3-5de428ea6895'\n",
            " 'ec55e03e-42a7-486c-9291-b16b51b8134f'\n",
            " 'e6f032a7-d5af-4b81-8dc4-b91213eca9f3'\n",
            " 'ee3aed01-2963-49f6-8e1f-49d84748e50b'\n",
            " 'e3c25748-c18c-4d5a-ac50-95f6d2e52448'\n",
            " 'db86c256-aa37-4449-8750-57c0b7928d22'\n",
            " '2e3c7299-4212-42b7-8fbd-ac3d666c337c'\n",
            " '083e1055-bf51-4104-96b5-2c116592d0ac'\n",
            " '58014e34-3946-4d12-a7b4-471e95064d70'\n",
            " '817f4b38-5aed-458e-9c4c-0d074c9cc7a6'\n",
            " '36862df1-12d3-41ac-b41e-4ea18331d0ae'\n",
            " 'a0d0d1f1-1bb2-4204-8255-a82b18129677'\n",
            " '64466127-7cdc-4894-b573-72281e386122'\n",
            " '8fc8957d-4435-449b-a769-56a36061330c'\n",
            " '7c9a1581-8ba2-4ddf-8f90-76a2bf833048'\n",
            " '38fd426c-3851-40ca-aca9-6e55a1c2be56'\n",
            " 'af7365ca-d7db-4e2d-aada-8e4a456177d8'\n",
            " '797b4732-83a5-4b83-a954-e039fd29b7eb'\n",
            " '10f36d9e-3551-4968-afe6-2c88271d31e7'\n",
            " 'c817009c-66de-4ae0-85a1-9957327ea71d'\n",
            " '6ab1b280-11f8-41da-b85a-c2381a5a944e'\n",
            " '08b10157-5e50-4bf8-a641-c4f90ace60cf'\n",
            " '59bc7a13-e8a5-4041-958f-87bb5ade24e0'\n",
            " 'afd6f2c2-7d47-4ea2-885f-a1e35ccf2267'\n",
            " 'a0713343-8638-4b6b-a5ba-bcc2bf5ecd89'\n",
            " '6eb74f65-61e1-4bb8-8641-dc1889f0ed4b'\n",
            " 'b2340ce9-ecbd-4cb1-aac8-12b5f995b6ca'\n",
            " '49e8c612-30db-49f2-a23b-b14e0e4a9054'\n",
            " '46bbd00f-e573-4209-9877-38e1eff980d1'\n",
            " 'c2cca233-872c-499a-b801-2d388ec6fe61'\n",
            " '50bc5b6c-537e-4db9-aa86-c94c85a639fb'\n",
            " '32e484e3-0df5-4530-9288-a1401a2bf777'\n",
            " '83c57620-4e26-4bad-a81b-1fc0ffcbcc01'\n",
            " 'ef4cafba-0e6f-4b54-b7d8-ea12fc4ac7cf'\n",
            " '2fe7180c-55d6-4d8c-8197-c4c610f1bf2c'\n",
            " '79bde329-0d8a-4f3d-b2b6-990262a6ec39'\n",
            " '04664cba-2db8-47a2-8b38-16cb2fcd294b'\n",
            " 'd35a6bce-2c71-4d78-b38d-46a278dc35ff'\n",
            " '8543382d-8886-4882-8488-3731f75f4ab3'\n",
            " '2e91f4a9-b4b8-4fdd-ab4b-da39d280c788'\n",
            " '89478ffe-8386-4653-833d-917dbb18f9ef'\n",
            " 'd3bbc9ad-bd7e-4848-9b51-cae5a04b00ba'\n",
            " 'f66516fb-3381-4cf9-84d8-c2eef794666b'\n",
            " '3cb2d8e5-f31a-490b-bcca-f910aed29f16'\n",
            " '939eae46-835d-40ff-8e5a-1a3ec7c25fee'\n",
            " '3be76df3-d44b-4513-af7c-50f436857831'\n",
            " '712ae658-4cf3-486e-9236-1daf7bf8d913'\n",
            " '3647b929-b97a-4471-82f5-b5edd61ee57d'\n",
            " 'ed0aacd5-a3c6-4149-96f6-100a1280ad66'\n",
            " 'd641b75c-a427-4772-8924-91e3d3a3f19d'\n",
            " '6034176e-b73e-4990-82fc-fcae53bfda4b'\n",
            " '6e3bd450-c9f9-427c-89d1-fc70449d37de'\n",
            " '67806b93-f10f-41f3-9a34-56e679fd9a82'\n",
            " 'e42b279a-5d64-43f2-ba97-e8c47957da70'\n",
            " '64b16410-bf7d-46ec-b95d-fe180f1889e4'\n",
            " 'f55e5323-b30d-4000-ad79-cc0f7626bed9'\n",
            " 'dc838735-4b30-4333-ba29-f10196deb235'\n",
            " '40584236-a798-49da-9161-7ad2840710b6'\n",
            " '41adf72c-6000-4f8e-ab5d-5f14f08a3a65'\n",
            " 'bcb8c5ab-900c-416a-8fbb-068d06abf307'\n",
            " '966a15db-8148-4e55-ba0f-fea91e79da66'\n",
            " '906ac17f-83b2-4e4c-8467-45cb8e8994fd'\n",
            " '0a8e05f2-ae2d-410a-9017-57ce2795726f'\n",
            " 'e3661a9a-f819-4491-8cb1-71bc6ab403fd'\n",
            " 'e019d55c-60ef-46fd-9807-d308b4f0b743'\n",
            " 'ddd0225d-7110-46d5-83af-2d98c1084e7e'\n",
            " 'c5bae2e0-d1a1-4bfd-8235-8484bbea9e97'\n",
            " '08fc77a8-b8f0-4050-ac19-d1b92166c09a'\n",
            " '7cb8ce39-b102-4bcc-be2e-f39aec3c0dcd'\n",
            " 'ee249f2b-7415-42b9-a4e7-84653e597209'\n",
            " 'e312ccc0-2c00-493a-9f9b-bfd1ab7e5f73'\n",
            " '5e2c9a05-cc90-4323-8f9f-4e7ec45f0874'\n",
            " '96d42297-df82-4734-b33e-96efccd41c1b'\n",
            " '6f39a515-609d-4a45-a77a-9e233cffb2aa'\n",
            " '9c82912c-da94-4693-875e-ed271496f1ed'\n",
            " '7c669dc9-340f-4d05-be1b-c2fa41786647'\n",
            " 'bebbe1eb-078d-45b7-88a4-13dcb8a7792a'\n",
            " '49227f09-ce4d-4baf-b8d7-9473b53e239d'\n",
            " '02cf6d34-6274-473f-9b8f-a5455d6d4500'\n",
            " 'b45ccf1c-4e50-4dfc-8741-e74405d5f0d0'\n",
            " '41f5df36-a8ba-475f-bcc5-16e105b3cc11'\n",
            " '07106bdb-2bb5-4269-bdaa-2faca9dfaa61'\n",
            " '1d509afa-c722-4064-8910-bf55ef08d5f0'\n",
            " '17d4c823-d165-4075-9d76-34f7dbd14b2b'\n",
            " '8156094a-a4f0-4557-856e-e9abd43ae6a5'\n",
            " 'e144be5f-6fb9-4d9e-bb7c-6466d75d55e9'\n",
            " '8c32eba1-c10a-4895-b759-66043992432c'\n",
            " '151e9c99-6a7f-42ae-b4e9-3c15599f918e'\n",
            " 'b9d3e165-a635-42de-8199-15a84f9b05d8'\n",
            " '6babfaee-7c59-4ff1-8bb5-f4473ec837f0'\n",
            " '4ab4526f-2e43-4936-9c97-a3def237356b'\n",
            " 'a3a2976a-c60f-4630-a202-4892ecf74b40'\n",
            " '1614c7f6-64cf-4691-b11b-449c68633f52'\n",
            " '6a833e2e-8419-41b0-846d-e7bf107f12f4'\n",
            " '3ad14126-782c-41f6-8f07-6d4751691994'\n",
            " '3dfdf450-b651-4dba-b424-75ba6db13e52'\n",
            " 'e22f9d6e-adb3-439a-846b-12bb60ba5bd2'\n",
            " '5f5443c2-7421-4fa2-9f63-8eb484f91b09'\n",
            " '7272a5aa-c633-4488-9a87-e1b151562739'\n",
            " 'e9507302-5a31-4899-a434-4c9f16428e55'\n",
            " 'cb04a62f-6b51-4859-9f4a-559774a3b5c7'\n",
            " '31cd59e5-97fb-4bb4-aa00-444c56dfd452'\n",
            " '41db3127-d13c-421a-b6a9-a33dc1333108'\n",
            " 'f426764f-8c18-4cac-bb96-4decdf21c678'\n",
            " '957b9aeb-1107-4fcc-8b34-aff02b4bf9a7'\n",
            " '756012da-92d2-4b53-9ac5-801bd1a18025'\n",
            " 'b343e7bb-8d0b-456e-b904-671ef9b35e08'\n",
            " '974008dd-7c62-4e8a-866f-d49961300948'\n",
            " '47331a6a-d647-4466-b141-93748cdada4e']\n",
            "Request UUID\n",
            "4963b6de-4d98-4f0d-8ee5-47d2a227279b    2.00 %\n",
            "4dedeeb1-12a5-4589-82ee-015e46d85790    1.00 %\n",
            "94ba38d1-57ed-4a60-92d1-47b55a40a6dd    1.00 %\n",
            "49a62576-4031-4248-9429-acecfee9e963    1.00 %\n",
            "0e3a5cf8-6242-4842-af9b-83718a40632c    1.00 %\n",
            "                                         ...  \n",
            "31cd59e5-97fb-4bb4-aa00-444c56dfd452    0.00 %\n",
            "41db3127-d13c-421a-b6a9-a33dc1333108    0.00 %\n",
            "1614c7f6-64cf-4691-b11b-449c68633f52    0.00 %\n",
            "4ab4526f-2e43-4936-9c97-a3def237356b    0.00 %\n",
            "cb038d53-c959-463e-b2fe-3d64154b4d6a    0.00 %\n",
            "Name: proportion, Length: 232, dtype: object\n",
            "- object -\n",
            "---------------------------\n",
            "> : Quote Unit Price ==> : ['£5.10' '£3.50' '£1,768.89' '£4.65' '£13.00' '£3.88' '£2.97' '£0.88'\n",
            " '£3.20' '£3.51' '£1.70' '£2.86' '£2.95' '£3.90' '£2.77' '£1.99' '£8.50'\n",
            " '£3,800.00' '£5.00' '£5.80' '£4.46' '£3.34' '£3.55' '£3.29' '£4.35'\n",
            " '£3.12' '£6.69' '£1.26' '£11.00' '£0.58' '£5.70' '£5.65' '£11.25'\n",
            " '£35.00' '£23.80' '£3.04' '£13.16' '£44.33' '£1.04' '£2.05' '£2.85'\n",
            " '£4,650.00' '£4,200.00' '£1.35' '£90.00' '£9.50' '£11.50' '£77.00'\n",
            " '£1.30' '£12.00' '£9.63' '£2.45' '£1.24' '£1.02' '£2.38' '£5.58' '£40.00'\n",
            " '£12.25' '£20.00' '£4.12' '£7.20' '£2.00' '£3.32' '£2.66' '£7.22'\n",
            " '£10.25' '£8.70' '£10.50' '£4.16' '£13.80' '£10.00' '£15.00' '£9.40'\n",
            " '£7.12' '£1.66' '£1.58' '£1.05' '£6.70' '£2.50' '£3.77' '£1.50' '£15.85'\n",
            " '£1.60' '£7.26' '£6.80' '£0.94' '£16.63' '£33.60' '£52.50' '£3.42'\n",
            " '£8.06' '£2.55' '£10.45' '£4.86' '£4.05' '£1.62' '£3.65' '£5.25' '£3.10'\n",
            " '£34.30' '£14.90' '£11.35' '£78.46' '£56.56' '£4.91' '£4.10' '£1.32'\n",
            " '£2.25' '£21.00' '£1.98' '£85.00' '£3.13' '£4.97' '£8.52' '£5.28'\n",
            " '£11.80' '£99.04' '£3.80' '£2.92' '£5.89' '£1.10' '£4.95' '£3.60'\n",
            " '£15.56' '£8.40' '£55.95' '£5.90' '£7.19' '£2.76' '£12.35' '£11.75'\n",
            " '£4.80' '£18.00' '£23.95' '£5.20' '£1.43' '£10.96' '£8.07' '£4.06'\n",
            " '£8.00' '£5.66' '£5.85' '£43.35' '£1.59' '£7.17' '£2.65' '£14.00' '£2.80'\n",
            " '£5.81' '£1.75' '£6.35' '£65.00' '£1.65' '£6.50' '£4.40' '£7.11' '£2.78'\n",
            " '£7.35' '£3.15' '£3.25' '£7.15' '£1.95' '£1.78' '£26.00' '£100.99'\n",
            " '£91.52' '£18.09' '£11.73' '£2.26' '£4.88' '£2.20' '£1.53' '£7.50'\n",
            " '£6.60' '£6.15' '£9.46' '£5.50' '£4.90' '£2.47' '£4.71' '£2.71' '£5.79'\n",
            " '£4.00' '£4.20' '£0.35' '£0.11' '£1.84' '£7.57' '£8.95' '£45.00' '£1.46'\n",
            " '£1.94' '£9.73' '£25.07' '£13.53' '£28.80' '£12.75' '£22.00' '£0.09'\n",
            " '£26.30' '£19.46' '£13.73' '£33.00' '£22.25' '£14.95' '£11.65' '£35.95'\n",
            " '£17.00' '£15.50' '£26.50' '£8.60' '£4.50' '£19.50' '£10.75' '£3.93'\n",
            " '£31.00' '£5.96' '£27.20' '£50.00' '£48.00' '£0.97' '£85.21' '£1.37'\n",
            " '£17.95' '£32.60' '£9.24' '£6.26' '£7.63' '£7.36' '£8.42' '£3.58' '£4.75'\n",
            " '£5.97' '£1.68' '£13.83' '£2.29' '£1.40' '£6.00' '£0.99' '£1.31' '£19.95'\n",
            " '£8.15' '£5.15' '£16.50' '£2.46' '£5.62' '£5.40' '£1.21' '£2.35' '£3.75'\n",
            " '£4.45' '£1.45' '£1.80' '£38.40' '£2.37' '£3.78' '£2.83' '£1.47' '£4.39'\n",
            " '£6.39' '£1.25' '£8.10' '£6.55' '£4.25' '£22.50' '£36.80' '£23.00'\n",
            " '£7.25' '£1.36' '£44.00' '£53.50' '£6.45' '£38.00' '£18.50' '£12.50'\n",
            " '£168.11' '£14.69' '£56.34' '£26.55' '£60.00' '£126.00' '£75.00' '£68.50'\n",
            " '£3.30' '£0.98' '£6.10' '£3.83' '£5.30' '£12.60' '£12.20' '£875.00'\n",
            " '£10.44' '£3.91' '£10.39' '£6.27' '£3.00' '£14.11' '£7.70' '£3.76'\n",
            " '£142.24' '£1.44' '£0.93' '£0.95' '£6.95' '£821.00' '£1,230.00' '£780.00'\n",
            " '£0.78' '£2.06' '£6.14' '£3.70' '£395.00' '£36.00' '£16.25' '£5.04'\n",
            " '£2.19' '£49.09' '£8.79' '£66.00' '£66.53' '£13.66' '£9.00' '£141.63'\n",
            " '£4.41' '£10.27' '£110.00' '£130.00' '£4.60' '£349.95' '£3.82' '£26.79'\n",
            " '£36.95' '£289.00' '£20.35' '£21.45' '£25.30' '£39.00' '£11.90' '£18.70'\n",
            " '£20.90' '£13.20' '£17.05' '£19.00' '£22.62' '£27.50' '£24.00' '£151.99'\n",
            " '£19.98' '£2.98' '£4,399.95' '£10.63' '£24.43' '£4.84' '£3.08' '£5.45'\n",
            " '£0.02' '£10.24' '£1.23' '£3.16' '£0.85' '£0.80' '£8.76' '£1.54' '£9.95']\n",
            "Quote Unit Price\n",
            "£2.50        1.00 %\n",
            "£11.50       1.00 %\n",
            "£5.80        1.00 %\n",
            "£4.16        1.00 %\n",
            "£8.00        1.00 %\n",
            "              ...  \n",
            "£1.44        0.00 %\n",
            "£0.93        0.00 %\n",
            "£0.95        0.00 %\n",
            "£821.00      0.00 %\n",
            "£1,230.00    0.00 %\n",
            "Name: proportion, Length: 364, dtype: object\n",
            "- object -\n",
            "---------------------------\n",
            "> : Status ==> : ['Available' 'Declined' 'Expired' 'Ordered' 'Contract Created'\n",
            " 'pending_payment' 'Proceeded']\n",
            "Status\n",
            "Expired             59.00 %\n",
            "Available           25.00 %\n",
            "Ordered             12.00 %\n",
            "Declined             3.00 %\n",
            "Contract Created     0.00 %\n",
            "pending_payment      0.00 %\n",
            "Proceeded            0.00 %\n",
            "Name: proportion, dtype: object\n",
            "- object -\n",
            "---------------------------\n",
            "> : Decline Reason ==> : [nan 'pricing: Too high' 'pricing'\n",
            " 'pricing,sample_quality: Price not met and no samples available from batch.'\n",
            " 'specification_not_met: Not Certified Organic.'\n",
            " 'specification_not_met: Fibre content is too low'\n",
            " 'other: contains sulphites.  My product is a free from category. The allergen risk is too high.'\n",
            " 'specification_not_met: Seeking ginger pieces not ground'\n",
            " 'specification_not_met,pricing' 'specification_not_met'\n",
            " 'pricing: Our Current Price per Unit is 1.84'\n",
            " 'pricing: Does not better what we are currently paying.'\n",
            " 'pricing: Pricing is higher than the option i ended up with.'\n",
            " 'other: must be 100% no added ingredients. Thank you for quoting'\n",
            " 'pricing: we have better deal currently'\n",
            " \"pricing: I'm getting castor at sub 80p a kg\"\n",
            " 'pricing: We get icing sugar via a local distributor with a 25kg MOQ at a marginally higher price.'\n",
            " 'pricing: We have found much better option' 'pricing: way too expnesive'\n",
            " \"pricing: it's too expensive\"\n",
            " 'pricing: Same product available via another distributor cheaper.'\n",
            " 'pricing: too expensive' 'pricing: pricing and no sampled available'\n",
            " 'pricing: Ridiculous price'\n",
            " 'pricing,incorrect_quantities: Again only need 10kg and so too expensive.'\n",
            " \"pricing: Almost triple what I've been quoted by others.\"\n",
            " 'pricing: I can find it at half this price with a simple online search.'\n",
            " 'incorrect_quantities: I only need 10kg not 100kg'\n",
            " 'other: Same spec as what we are ordering today so no need to have a sample. Thanks'\n",
            " 'pricing: Over double what we pay now.']\n",
            "Decline Reason\n",
            "pricing                                                                                              50.00 %\n",
            "specification_not_met                                                                                 3.00 %\n",
            "pricing: Too high                                                                                     2.00 %\n",
            "specification_not_met: Not Certified Organic.                                                         2.00 %\n",
            "pricing,sample_quality: Price not met and no samples available from batch.                            2.00 %\n",
            "specification_not_met: Fibre content is too low                                                       2.00 %\n",
            "other: contains sulphites.  My product is a free from category. The allergen risk is too high.        2.00 %\n",
            "specification_not_met: Seeking ginger pieces not ground                                               2.00 %\n",
            "specification_not_met,pricing                                                                         2.00 %\n",
            "pricing: Our Current Price per Unit is 1.84                                                           2.00 %\n",
            "pricing: Does not better what we are currently paying.                                                2.00 %\n",
            "pricing: Pricing is higher than the option i ended up with.                                           2.00 %\n",
            "other: must be 100% no added ingredients. Thank you for quoting                                       2.00 %\n",
            "pricing: we have better deal currently                                                                2.00 %\n",
            "pricing: I'm getting castor at sub 80p a kg                                                           2.00 %\n",
            "pricing: We get icing sugar via a local distributor with a 25kg MOQ at a marginally higher price.     2.00 %\n",
            "pricing: We have found much better option                                                             2.00 %\n",
            "pricing: way too expnesive                                                                            2.00 %\n",
            "pricing: it's too expensive                                                                           2.00 %\n",
            "pricing: Same product available via another distributor cheaper.                                      2.00 %\n",
            "pricing: too expensive                                                                                2.00 %\n",
            "pricing: pricing and no sampled available                                                             2.00 %\n",
            "pricing: Ridiculous price                                                                             2.00 %\n",
            "pricing,incorrect_quantities: Again only need 10kg and so too expensive.                              2.00 %\n",
            "pricing: Almost triple what I've been quoted by others.                                               2.00 %\n",
            "pricing: I can find it at half this price with a simple online search.                                2.00 %\n",
            "incorrect_quantities: I only need 10kg not 100kg                                                      2.00 %\n",
            "other: Same spec as what we are ordering today so no need to have a sample. Thanks                    2.00 %\n",
            "pricing: Over double what we pay now.                                                                 2.00 %\n",
            "Name: proportion, dtype: object\n",
            "- object -\n",
            "---------------------------\n",
            "> : Samples Available ==> : [nan 'Yes']\n",
            "Samples Available\n",
            "Yes    100.00 %\n",
            "Name: proportion, dtype: object\n",
            "- object -\n",
            "---------------------------\n",
            "> : Documents Provided ==> : [nan 'Yes']\n",
            "Documents Provided\n",
            "Yes    100.00 %\n",
            "Name: proportion, dtype: object\n",
            "- object -\n",
            "---------------------------\n"
          ]
        }
      ],
      "source": [
        "# Quotes\n",
        "for col in quotes.columns:\n",
        "  unique_value = quotes[col].unique()\n",
        "  print(f\"> : {col} ==> : {unique_value}\")\n",
        "\n",
        "  value_counts = quotes[col].value_counts(normalize= True).round(2) * 100\n",
        "  value_counts_with_percent = value_counts.map(\"{:.2f} %\".format)\n",
        "\n",
        "  print(value_counts_with_percent)\n",
        "  print(f'- {quotes[col].dtypes} -')\n",
        "  print('---------------------------')"
      ]
    },
    {
      "cell_type": "markdown",
      "metadata": {},
      "source": [
        "* 50 % of Decline Reason is : pricing \n",
        "  * to do : group the 'pricing:' and 'pricing' lines and analyze why ?"
      ]
    },
    {
      "cell_type": "code",
      "execution_count": 857,
      "metadata": {
        "id": "ZOrfgc4dFa6V"
      },
      "outputs": [
        {
          "name": "stdout",
          "output_type": "stream",
          "text": [
            "> : Request UUID ==> : ['820412eb-8d4d-4d6c-a5e3-cfc977cd6d48'\n",
            " '08f1a913-1318-4656-9418-ce580a9871cb'\n",
            " '8cd6fd33-a1bc-43cb-9c63-df7d629d5362'\n",
            " '9388fbf6-410b-4f85-999a-1ff4d4cb733b'\n",
            " '37d05dfe-7f47-4eed-8e78-9f74c303bcad'\n",
            " '861a44fc-61f4-4781-85ee-dcd6d75d22fc'\n",
            " '80501725-52ec-47bc-a3a6-0783011bddba'\n",
            " '4dedeeb1-12a5-4589-82ee-015e46d85790'\n",
            " '4963b6de-4d98-4f0d-8ee5-47d2a227279b'\n",
            " 'fe63572b-1d50-46f5-bc29-93e2253e256e'\n",
            " '4e98d968-c92f-4b55-af32-1f9d41ef7260'\n",
            " 'fca03c4f-3f16-40d0-b87c-16d9343e4a52'\n",
            " 'd596642b-c417-49e6-aa3b-ec6185fb2b9f'\n",
            " '164cd9f1-fef3-41f5-89b6-14f3ca3acdf5'\n",
            " '8b0aa667-04d0-481d-8d49-5a7c71e41163'\n",
            " '4d7c0088-27eb-43a0-b88d-2c199568d656'\n",
            " '17666e5e-933d-4cf0-9017-47b351784d57'\n",
            " '8d378ea3-c746-4816-8856-905dff39bb8a'\n",
            " '487409ea-38f8-4970-bee1-f470445c1c57'\n",
            " '57878c43-4147-4260-b99e-54105f29e860'\n",
            " 'f0cde0c6-e474-42c1-87eb-95f1442b1f37'\n",
            " '15a80e87-9e27-4f3e-abb6-dff075964505'\n",
            " 'fe78ec5b-5ff6-4a9c-8856-2856961cd303'\n",
            " '531a47f6-3862-40e4-985a-46743751cce0'\n",
            " '68c07ec1-e658-4d15-83b1-b3a5e4acafd8'\n",
            " '1540623a-ae07-4cf2-9eaf-908e58eadbae'\n",
            " 'a1ef94d7-7a8c-4c3d-b60f-a40e93401198'\n",
            " 'e1f61018-375c-47bd-b58e-5783739c6789'\n",
            " '60d19385-41bd-4b71-96e4-e6c2a93040ea'\n",
            " '22e36f1c-d759-450c-bbe0-5ed0831fac28'\n",
            " 'eaa84b22-452d-4f4d-a377-c19f6b9af34b'\n",
            " 'd9564a3f-ea2c-472a-8d8c-8362b4b1c411'\n",
            " '94ba38d1-57ed-4a60-92d1-47b55a40a6dd'\n",
            " 'e3e4b9de-44a6-4cb2-ae45-296c4c24e054'\n",
            " 'da0c0c41-54ef-46be-af8d-8687d3c4657f'\n",
            " '5d53d216-18b0-471e-96fa-1c3ffd2300fe'\n",
            " '46f22900-1b85-4b97-817f-0fae4b4d8beb'\n",
            " 'aeffa5a7-193b-4f1a-8f68-944de8306cf9'\n",
            " 'd2b16280-7778-471b-b1d1-b650df71e93d'\n",
            " 'e14b3d2a-cc85-4ec5-8e72-04e95a434804'\n",
            " '471df887-08d1-4c0e-bca4-e0a011914649'\n",
            " 'c63ceed6-fc3a-4fe9-b02f-adf6a63ac2e0'\n",
            " 'a5e8415b-3519-4f95-9745-7415d007b1fb'\n",
            " '60e327a1-e148-4f88-bf9b-f3525c578d59'\n",
            " '6cee2575-7cea-4f0b-b38e-364b93c13f3b'\n",
            " 'dae23441-d917-4717-a3c2-b5ba0674fde2'\n",
            " 'ad423960-dcd9-418e-9f38-19999e9530ec'\n",
            " 'f83be172-6912-45af-9048-987aef354316'\n",
            " '0374ae7e-7f45-47d0-90bd-a717c0059231'\n",
            " 'b9701840-f486-4e5a-989e-bfaf42c0ca65'\n",
            " '217d91cc-0851-4884-be3f-2d4171839471'\n",
            " '38db2623-f25e-4ef6-836c-02e790139626'\n",
            " '52fc0262-ed22-40f7-b983-a8df4c6d7a0d'\n",
            " 'fbc694e3-9dd3-47c0-9f21-ebdf30123c87'\n",
            " '1c0a5675-bc9e-4a4f-8e1f-eb1f673e0038'\n",
            " 'dd82336a-4eff-4b2e-af80-ec2825b7bd33'\n",
            " 'cc66f476-9f26-426c-9216-0150c87f8c78'\n",
            " 'e42a5914-1b6e-4465-9c28-b081f9a05e27'\n",
            " '05f9f4e7-c80f-469e-8a8c-dad02fda2943'\n",
            " 'ba7b26dd-b0b3-4baa-a67c-64a2d4b55dd5'\n",
            " '92c0f166-b529-4c69-a109-a418f99021b9'\n",
            " '2473d2dc-0a5c-4a61-a73d-3050faf0f7a0'\n",
            " '8d1b77b2-eaf8-4780-8870-9b74177f3a1e'\n",
            " '6dc7c87e-35b3-46b9-bedc-1d91bc62dab2'\n",
            " 'a12b7050-9288-4efc-aa22-ca0ca8e2d94a'\n",
            " '9cf11f62-7b1e-4a7f-9c40-c12ad721a72b'\n",
            " '3c583881-a99d-42ca-a81b-648bc6884976'\n",
            " 'e05a752a-4373-4dd0-8b7d-c5894dc7e3f6'\n",
            " '77c0d8c9-5f87-4ef1-9d6d-828b0f805610'\n",
            " '89167891-2f71-4dd5-99b7-303aad14d3d7'\n",
            " 'cb038d53-c959-463e-b2fe-3d64154b4d6a'\n",
            " '39c19049-87c7-44b9-b5aa-3b6bac20d7d4'\n",
            " '141aeffb-21ce-418f-a9ab-76127b793f31'\n",
            " '335e4424-c1f5-49ac-8e84-ac580076a926'\n",
            " '9222ac19-26f5-4720-9e22-16f23719bbb6'\n",
            " 'a3eb8bc2-e20a-4f6e-8969-6e58aa31a86b'\n",
            " '93d399d2-0b4c-4dc1-a4d6-7e84e7fb1ee7'\n",
            " '2d77a5f6-72f9-4f80-833e-2c746739000f'\n",
            " 'e2df726c-e0d2-4543-9b8e-e17a0e0a6475'\n",
            " 'e22e5345-30e6-4ea8-824e-eceec5ff119f'\n",
            " '440703b0-596a-4ea1-82b1-8ae0a2c4fc24'\n",
            " '25c993db-3b96-483a-be96-516eda93de9d'\n",
            " 'c13f1780-dd15-47b7-b3fe-5ba056f25c26'\n",
            " '614a0fa6-1e4e-4384-ae82-a639edf26f15'\n",
            " '93c72827-43c6-44d5-88b8-e40f78ce733e'\n",
            " '15cf7139-ed13-45fa-b755-ea230177dd37'\n",
            " '907b79f9-c46b-4dbf-ba15-2ce675066848'\n",
            " '1a56d4a2-27d2-480a-a36c-e2632c5bd4e6'\n",
            " 'dc88b603-9a90-4251-b8a9-5d6bfc86d0ee'\n",
            " '49ce21ea-4c19-4631-8495-e2e654aab896'\n",
            " '0e3a5cf8-6242-4842-af9b-83718a40632c'\n",
            " 'c96b53b2-64aa-4e38-9546-4b72dd7f65c5'\n",
            " 'c226c090-3e9e-4e18-888f-92742eaefdd9'\n",
            " '3e8573ef-da7d-4768-9872-cc91b01f1d6c'\n",
            " '26137052-6469-47ef-9ac2-a0fd353acdaf'\n",
            " 'fc24a58c-9cac-43a0-a198-136e8a89e2ba'\n",
            " 'c319a1ac-cf70-4763-83fa-57cbd865a543'\n",
            " '8fe4a0ae-6c32-476c-95a5-9b39ff4c3d70'\n",
            " '512fa0d7-13a0-4ba7-b3d0-dfe53b97759e'\n",
            " 'af3c133e-d52f-4723-98d6-f20755f6316d'\n",
            " 'ff9f3177-c577-45ac-bbca-1cbcb1558500'\n",
            " '26dbea72-f57b-4282-a3af-b03535b68b04'\n",
            " '8087c135-d9d7-4f44-b53f-2957a317d342'\n",
            " 'cb1c1bbc-4202-4add-afa9-280134f90359'\n",
            " 'e62da582-659a-49fd-a60e-b64e11070a13'\n",
            " 'fe3f99c0-ba66-46b2-96bf-897e7b787404'\n",
            " 'e3042531-96d1-4663-a1d1-7fcd26ea7fc6'\n",
            " 'f5b76962-3867-4d34-9e68-3795a18980b7'\n",
            " '326591a4-dbb6-4042-a765-fc639417d068'\n",
            " '21a8fb08-fd04-478c-94ea-efd921d7013a'\n",
            " 'c0776168-cc90-46ec-9df9-299e4d3edac8'\n",
            " 'ebc97ca9-a863-4403-a7a5-099affc711d6'\n",
            " '498c6a7c-a18b-496c-a599-f680093998df'\n",
            " 'af3bcc02-9542-424d-b61e-b356600a3fdd'\n",
            " 'd8580f81-ba44-492c-9836-3ec968657984'\n",
            " '44797825-84dc-4a41-9275-919d992fdba7'\n",
            " '50b38988-5f65-4d28-a623-9cb3560d1714'\n",
            " '91b2903c-ef26-40ac-a5b9-a39d3175acb8'\n",
            " '11d46e94-8a6e-4085-b209-852bd4a5415c'\n",
            " '5c065d56-2463-4885-bdf0-9060ddc8af30'\n",
            " '6c101e74-e694-40ed-a9cd-b5aeebd51337'\n",
            " '1abdb362-d404-4715-9d94-6bcb898847e1'\n",
            " 'b49bfaea-f0e6-415e-a255-3be5f5720ce1'\n",
            " 'f2f0582a-3499-46e7-9a78-9a176343ae84'\n",
            " '86bf4f69-f7a7-4835-95e8-b796a64d7273'\n",
            " '220ea0e5-7e6c-4917-86db-4c435272a2af'\n",
            " '4f358d38-39d9-4d90-a67e-db8b798ef162'\n",
            " 'b607c568-5bcf-4c0e-add8-d4b33558c716'\n",
            " '8e24e2a6-d8b2-447f-9490-378035b7477e'\n",
            " '8e24415e-0e99-4312-89df-1a549ac60892'\n",
            " '561c7ed4-bc57-4b6b-89df-58c7ea2a03a4'\n",
            " 'bf0b207d-3ff2-4a9f-ba21-a79936360a16'\n",
            " '74d8de82-0cf9-4bf5-b8eb-1f7ec5ff1288'\n",
            " '4754675a-455e-48bc-8e78-9a6ce7731e6e'\n",
            " 'c1bd88b5-6b72-4dd9-9943-f69649805cd4'\n",
            " '94e604c1-83cb-4c9c-af12-40783cdb0b50'\n",
            " 'e0a0633c-6dae-4840-acc6-d0d491a437b2'\n",
            " '739b0b10-d82d-4dd9-b1c0-8e81491bb749'\n",
            " '96bc9a0c-6e89-4a06-9598-ddb95147d427'\n",
            " '949f8ecf-d8e8-4122-9558-cbc6a8847aba'\n",
            " 'eea3a233-1bed-4407-8178-c9585583b709'\n",
            " '76d8d3e5-cd25-4b63-ab47-334050124088'\n",
            " '8b03b8f3-b5b4-42b6-86d3-09ddb6e64f83'\n",
            " '9c1dadc4-a31f-4b2e-9210-055463a8dade'\n",
            " '719bf28d-9b8f-4f62-bab4-6a6dc0125770'\n",
            " '974536d6-fad7-4d69-805e-72eb287f1691'\n",
            " 'c7eff9d2-3afe-4fc5-b973-17f600a21727'\n",
            " '9efb20f5-0cb9-462c-b696-52d1897681c1'\n",
            " '4ec57884-d2bf-407f-802a-488763fae7d3'\n",
            " 'db86c256-aa37-4449-8750-57c0b7928d22'\n",
            " 'ee3aed01-2963-49f6-8e1f-49d84748e50b'\n",
            " 'e6f032a7-d5af-4b81-8dc4-b91213eca9f3'\n",
            " '083e1055-bf51-4104-96b5-2c116592d0ac'\n",
            " '2e3c7299-4212-42b7-8fbd-ac3d666c337c'\n",
            " 'ad4e8c90-4e20-4f04-9925-5fa6414ca765'\n",
            " '50ef47ee-1cb8-44bf-9444-2c057fdc72ca'\n",
            " '6ad03418-7979-4bee-a565-cdd492518c34'\n",
            " 'ec55e03e-42a7-486c-9291-b16b51b8134f'\n",
            " '402caae0-e1ea-453e-bf2f-a6a426827b20'\n",
            " 'd70107e8-b285-4730-99d3-5de428ea6895'\n",
            " 'c4cf044f-1b36-423e-b7a2-654fad7223a2'\n",
            " '8bfde150-e07d-4c87-a4df-fb79f3ab817c'\n",
            " '089956fb-a184-4db5-8c2e-25b0bb2cc209'\n",
            " '4e22b067-db7b-42c2-8730-da178023bb26'\n",
            " '634f75c2-3121-4bd3-bc8e-ec85ce755034'\n",
            " '5519fe35-29c6-4420-86fd-6c1ced827331'\n",
            " '8051afc2-154b-4319-ba3e-ac93e8c7e47c'\n",
            " '7e38995e-77d5-4c8f-9854-df2d248c54fb'\n",
            " 'ed3acaa8-b0c7-464c-9b3a-a2085427c3ec'\n",
            " '58014e34-3946-4d12-a7b4-471e95064d70'\n",
            " '8d8b6019-741f-4425-8f28-32a19a533417'\n",
            " '64466127-7cdc-4894-b573-72281e386122'\n",
            " 'f6ed158c-4c8b-4b93-9cd5-57bc0da92779'\n",
            " '797b4732-83a5-4b83-a954-e039fd29b7eb'\n",
            " 'af7365ca-d7db-4e2d-aada-8e4a456177d8'\n",
            " 'c03569d7-afd1-436e-972b-ad071bab0cd1'\n",
            " '7decd54e-58e1-4183-9f62-88d7cd61eb5b'\n",
            " '6fb38c5a-7803-4934-a818-94dd70a3cc1d'\n",
            " 'f98f3833-3363-469b-a575-dc66d6156826'\n",
            " '08b10157-5e50-4bf8-a641-c4f90ace60cf'\n",
            " '29868c82-9389-437e-82a6-d1046d4d800d'\n",
            " '539fa824-0507-4809-ad55-72b69104d84e'\n",
            " 'd22a6095-3445-498d-bfaa-c855f2a6f083'\n",
            " 'e0b2cd6b-caab-45bd-9807-a9b4b68300cc'\n",
            " 'ecffa75d-8be3-4574-bb19-dec66fe8d758'\n",
            " '36862df1-12d3-41ac-b41e-4ea18331d0ae'\n",
            " '1ca10f46-418a-45c4-ad4c-7b924d16a743'\n",
            " '940b6791-9df0-47db-bbb1-e4a21a6092eb'\n",
            " 'e73e4f27-392b-47b9-8991-ea970ca7cc41'\n",
            " '066452b5-a6a9-47a7-87e7-4aa1efbb54ef'\n",
            " '96d59808-dad7-4992-bbd8-037228b5bd16'\n",
            " '80651b6e-b283-4706-9252-8b9a6d6a45e8'\n",
            " '817f4b38-5aed-458e-9c4c-0d074c9cc7a6'\n",
            " '355a49d3-00a9-4db0-ba57-e7c848b60dc6'\n",
            " '58521910-bfa1-4e59-87f5-aa56516bd6e3'\n",
            " 'e0c3b73f-1a40-472b-8daf-31700dc0bbfa'\n",
            " 'ecf9c5f5-5f97-489c-a977-2a4ed0c27014'\n",
            " 'b2340ce9-ecbd-4cb1-aac8-12b5f995b6ca'\n",
            " '59bc7a13-e8a5-4041-958f-87bb5ade24e0'\n",
            " '6eb74f65-61e1-4bb8-8641-dc1889f0ed4b'\n",
            " 'a0713343-8638-4b6b-a5ba-bcc2bf5ecd89'\n",
            " '96f0fd99-f9b6-464a-b6f5-87a0d13dfb05'\n",
            " '5fd5ea2b-21d4-47f0-9edc-a3147ed0c544'\n",
            " 'afd6f2c2-7d47-4ea2-885f-a1e35ccf2267'\n",
            " '08b216c4-018f-4d86-a7ed-7b90541efed8'\n",
            " '43d59c22-d2d1-4295-8a9e-b3f78c34cdf5'\n",
            " 'c2cca233-872c-499a-b801-2d388ec6fe61'\n",
            " '9203888c-7363-404e-89cc-0bd042d76b40'\n",
            " 'a748dacd-d579-4334-835c-039a44f341cd'\n",
            " 'ef4cafba-0e6f-4b54-b7d8-ea12fc4ac7cf'\n",
            " '04664cba-2db8-47a2-8b38-16cb2fcd294b'\n",
            " 'a0d0d1f1-1bb2-4204-8255-a82b18129677'\n",
            " 'de9fea0e-d82f-4bb6-9953-7c4ea82b0b20'\n",
            " '83c57620-4e26-4bad-a81b-1fc0ffcbcc01'\n",
            " 'c817009c-66de-4ae0-85a1-9957327ea71d'\n",
            " '6ab1b280-11f8-41da-b85a-c2381a5a944e'\n",
            " '84f79c03-3cfc-4588-b5c8-f920b1399311'\n",
            " '2ec4bab8-d774-4b74-a29a-3ce0db0250b3'\n",
            " '9df79820-1101-4647-a7ee-ef3f2c49f2a1'\n",
            " '895cddd5-3969-4c3f-88ca-8a62129c61ca'\n",
            " '0c2f9b33-e88b-418d-b6e8-05dd1041d977'\n",
            " '79bde329-0d8a-4f3d-b2b6-990262a6ec39'\n",
            " '10f36d9e-3551-4968-afe6-2c88271d31e7'\n",
            " '0f17d5d4-caa7-4d51-aff8-39c9d9a09f78'\n",
            " 'ef0b03fc-5503-4dd0-9090-bbb60bada40b'\n",
            " 'f1d2a11f-e235-4ff0-aa1e-f07ee4fe1495'\n",
            " 'ccbedbf7-def1-4e55-a97f-8535ab796960'\n",
            " '2fe7180c-55d6-4d8c-8197-c4c610f1bf2c'\n",
            " '32e484e3-0df5-4530-9288-a1401a2bf777'\n",
            " '38fd426c-3851-40ca-aca9-6e55a1c2be56'\n",
            " 'c5db9117-0cf1-474c-839e-52da40643238'\n",
            " '46bbd00f-e573-4209-9877-38e1eff980d1'\n",
            " '948a71e4-5ecf-4d98-bed5-2841ae1a9124'\n",
            " '8342c9fa-1c8f-4e05-bf75-b3303c3910ac'\n",
            " 'fd6ab374-239d-486c-bb91-25ff05e7be71'\n",
            " 'eaf4ef32-93b7-48e5-ae78-95d0f1f01060'\n",
            " 'd312be20-0e73-4962-a0e1-c15197757841'\n",
            " '96e112d5-45f7-4963-8df3-5c2b0883eee8'\n",
            " '49a62576-4031-4248-9429-acecfee9e963'\n",
            " 'b1869a6b-dcd4-4769-b34f-73e56cf4c8c5'\n",
            " '69ab183c-efbc-44c3-a9df-ebd758f14137'\n",
            " 'cf681319-06b4-43d8-b68b-fdd27a5e4a82'\n",
            " 'b49bb923-bbef-4521-be5d-5c6e31f5bea8'\n",
            " '10e3b140-c3d6-42c6-96ca-2a3e81ef2cf8'\n",
            " '2e91f4a9-b4b8-4fdd-ab4b-da39d280c788'\n",
            " '3adcc704-2197-4df3-9eee-010bb07cae2d'\n",
            " '35196078-6e8e-4a16-a1e5-0188590f2236'\n",
            " '3ec0612a-2294-4264-865e-635e587874e2'\n",
            " '2249803f-a444-49b8-9236-c6d4822020c6'\n",
            " '8543382d-8886-4882-8488-3731f75f4ab3'\n",
            " '2dcdb56e-7402-4705-ac1a-e0d3b33d39a0'\n",
            " '21bb99f9-33b8-4d3f-bdfb-043f8ceaf50c'\n",
            " '3cb2d8e5-f31a-490b-bcca-f910aed29f16'\n",
            " 'a3b880d5-3691-4745-9977-fe67c749da8d'\n",
            " '939eae46-835d-40ff-8e5a-1a3ec7c25fee'\n",
            " '3ce9845e-bb24-4dae-b7d5-8b6ced8c7700'\n",
            " 'd35a6bce-2c71-4d78-b38d-46a278dc35ff'\n",
            " '46998fbf-f784-4d8d-8bf5-7ca044a8865a'\n",
            " '89478ffe-8386-4653-833d-917dbb18f9ef'\n",
            " 'a57f9384-f411-4757-a30b-bb50d8c4001c'\n",
            " '6e709e58-f787-4a90-b98c-bc37827ea4f3'\n",
            " '16c6699c-04e8-455c-b5d8-417f8569930e'\n",
            " 'ed0430f3-2fd1-4c20-9c35-55c02071f8c3'\n",
            " 'd44f8417-40bb-4fad-a66c-be86689260d4'\n",
            " '2f3d45b3-4d48-45fe-b510-8d9de3925feb'\n",
            " 'f487d593-a558-47b9-9547-dee6e5c0cfe1'\n",
            " '69f0ff6e-9973-4c5f-884f-6f697e5f2310'\n",
            " 'f146e94b-270d-4cfa-94e2-6d45314fe901'\n",
            " '60527013-f07c-4938-bc5a-12e09c67d474'\n",
            " '62e1dfda-8c51-4263-b639-8bac4f7227b5'\n",
            " 'cd8df78a-6046-433b-892c-41499cee3914'\n",
            " 'a450e6ff-972c-4b9c-839a-5404d9acb1d6'\n",
            " '1b0d69f9-52e6-4ab9-adea-d4dfc05bbd7d'\n",
            " 'ed062032-2ab7-40ef-a3ea-2f23a9b5e713'\n",
            " '32b0d702-f28e-48b0-81a1-5c9aafedc13f'\n",
            " '88f92f84-01f1-4000-a7a8-8e394c78ef8c'\n",
            " 'b1ea7984-dc7c-448d-9dd5-52485ae91194'\n",
            " 'c930f5d6-2380-497b-b021-22e5aa4c0b9e'\n",
            " '0143f37e-e28f-4bfc-ae45-a4c67dfd55cc'\n",
            " '4c71b2c7-d393-4c27-960e-be87b2331f3d'\n",
            " 'c837db9a-7d2d-4931-bb66-6d8f274dfafe'\n",
            " '11290b83-6b85-486e-b4fa-bffa1505e3b7'\n",
            " '712ae658-4cf3-486e-9236-1daf7bf8d913'\n",
            " '6f5681c9-bb1d-45c3-bee5-d268fb3a7e67'\n",
            " 'd3bbc9ad-bd7e-4848-9b51-cae5a04b00ba'\n",
            " 'f66516fb-3381-4cf9-84d8-c2eef794666b'\n",
            " '49e8c612-30db-49f2-a23b-b14e0e4a9054'\n",
            " '67806b93-f10f-41f3-9a34-56e679fd9a82'\n",
            " 'd641b75c-a427-4772-8924-91e3d3a3f19d'\n",
            " '6034176e-b73e-4990-82fc-fcae53bfda4b'\n",
            " '50bc5b6c-537e-4db9-aa86-c94c85a639fb'\n",
            " '3be76df3-d44b-4513-af7c-50f436857831'\n",
            " '22c79507-6641-4846-b23d-ff964e6d9004'\n",
            " '2afb5f39-8654-4093-b40c-1384e6089ddc'\n",
            " '4d995169-12c8-437a-8446-fdcee866dfb8'\n",
            " 'f55e5323-b30d-4000-ad79-cc0f7626bed9'\n",
            " 'e3a20a75-1a0f-4e2b-8e6b-72a69f1cbc87'\n",
            " '3647b929-b97a-4471-82f5-b5edd61ee57d'\n",
            " '955447cd-f20a-4e0b-87cc-bb8bad51e214'\n",
            " '5fe72324-e237-4189-a584-403bedd1ae75'\n",
            " '2445e1c7-4d65-45b1-9664-2d67ea681eea'\n",
            " 'e42b279a-5d64-43f2-ba97-e8c47957da70'\n",
            " '6e3bd450-c9f9-427c-89d1-fc70449d37de'\n",
            " '4da42bf4-77c8-469b-9d04-49b09183acb1'\n",
            " 'ed0aacd5-a3c6-4149-96f6-100a1280ad66'\n",
            " '7c9a1581-8ba2-4ddf-8f90-76a2bf833048'\n",
            " '8fc8957d-4435-449b-a769-56a36061330c'\n",
            " '64b16410-bf7d-46ec-b95d-fe180f1889e4'\n",
            " '40584236-a798-49da-9161-7ad2840710b6'\n",
            " '7bd87f4f-56d3-4fb1-9b66-4dbe014e5d5a'\n",
            " 'bcb8c5ab-900c-416a-8fbb-068d06abf307'\n",
            " 'dc838735-4b30-4333-ba29-f10196deb235'\n",
            " '9c343feb-ba84-439b-8a67-438c24a65eb8'\n",
            " '966a15db-8148-4e55-ba0f-fea91e79da66'\n",
            " '40642813-d50f-4a2f-b703-5b2f94839594'\n",
            " '906ac17f-83b2-4e4c-8467-45cb8e8994fd'\n",
            " '41adf72c-6000-4f8e-ab5d-5f14f08a3a65'\n",
            " 'e3661a9a-f819-4491-8cb1-71bc6ab403fd'\n",
            " '0a8e05f2-ae2d-410a-9017-57ce2795726f'\n",
            " '55609805-bb14-4196-88ae-b7c64ea99b59'\n",
            " 'fda8b9ac-4ac1-4de5-9a16-d560842236b7'\n",
            " 'e019d55c-60ef-46fd-9807-d308b4f0b743'\n",
            " 'ddd0225d-7110-46d5-83af-2d98c1084e7e'\n",
            " 'c5bae2e0-d1a1-4bfd-8235-8484bbea9e97'\n",
            " '08fc77a8-b8f0-4050-ac19-d1b92166c09a'\n",
            " '5520ef20-a051-4aec-a48b-84839a879042'\n",
            " '7cb8ce39-b102-4bcc-be2e-f39aec3c0dcd'\n",
            " '30b657a8-2554-4a81-96a4-7b23b4d10206'\n",
            " 'ee249f2b-7415-42b9-a4e7-84653e597209'\n",
            " '40cc381a-508a-4512-87fa-8dea377fa0a1'\n",
            " '5e2c9a05-cc90-4323-8f9f-4e7ec45f0874'\n",
            " '96d42297-df82-4734-b33e-96efccd41c1b'\n",
            " 'e312ccc0-2c00-493a-9f9b-bfd1ab7e5f73'\n",
            " '9c82912c-da94-4693-875e-ed271496f1ed'\n",
            " '7c669dc9-340f-4d05-be1b-c2fa41786647'\n",
            " '49227f09-ce4d-4baf-b8d7-9473b53e239d'\n",
            " 'bebbe1eb-078d-45b7-88a4-13dcb8a7792a'\n",
            " '1d509afa-c722-4064-8910-bf55ef08d5f0'\n",
            " '07106bdb-2bb5-4269-bdaa-2faca9dfaa61'\n",
            " '41f5df36-a8ba-475f-bcc5-16e105b3cc11'\n",
            " 'b45ccf1c-4e50-4dfc-8741-e74405d5f0d0'\n",
            " '02cf6d34-6274-473f-9b8f-a5455d6d4500'\n",
            " 'b9d3e165-a635-42de-8199-15a84f9b05d8'\n",
            " '89dcc0b9-5119-4a0d-be6d-c876a395a432'\n",
            " '9e539b3e-c8fb-4fe4-b9a0-903d9ede4ad7'\n",
            " '151e9c99-6a7f-42ae-b4e9-3c15599f918e'\n",
            " '8c32eba1-c10a-4895-b759-66043992432c'\n",
            " 'e144be5f-6fb9-4d9e-bb7c-6466d75d55e9'\n",
            " '8156094a-a4f0-4557-856e-e9abd43ae6a5'\n",
            " '4ab4526f-2e43-4936-9c97-a3def237356b'\n",
            " '17d4c823-d165-4075-9d76-34f7dbd14b2b'\n",
            " '6babfaee-7c59-4ff1-8bb5-f4473ec837f0'\n",
            " 'b634e563-d7dc-440e-8577-77e423978efc'\n",
            " '3ad14126-782c-41f6-8f07-6d4751691994'\n",
            " 'e22f9d6e-adb3-439a-846b-12bb60ba5bd2'\n",
            " '3dfdf450-b651-4dba-b424-75ba6db13e52'\n",
            " '1614c7f6-64cf-4691-b11b-449c68633f52'\n",
            " '5f5443c2-7421-4fa2-9f63-8eb484f91b09'\n",
            " 'a3a2976a-c60f-4630-a202-4892ecf74b40'\n",
            " '6a833e2e-8419-41b0-846d-e7bf107f12f4'\n",
            " '220ff4f3-8c0c-43da-891a-1a189fb4fb5d'\n",
            " '7272a5aa-c633-4488-9a87-e1b151562739'\n",
            " 'e9507302-5a31-4899-a434-4c9f16428e55'\n",
            " '8d5810f6-fcc1-4735-a817-0856f679a8d8'\n",
            " '31cd59e5-97fb-4bb4-aa00-444c56dfd452'\n",
            " 'cb04a62f-6b51-4859-9f4a-559774a3b5c7'\n",
            " '57e62bfa-c732-4a96-8b72-a87bdfd22ffb'\n",
            " '41db3127-d13c-421a-b6a9-a33dc1333108'\n",
            " '327bfe55-a15e-4d29-9eab-283fcb71a291'\n",
            " 'bcdba285-492f-40ab-b0b3-ccf8a3e57c31'\n",
            " '91ba80b5-5534-44e9-a94d-c17acf5c7df3'\n",
            " '68997ab8-5315-4406-814d-cf281a2048a5'\n",
            " 'dc552be3-bbc2-4192-8f89-91074ffaddb3'\n",
            " 'b343e7bb-8d0b-456e-b904-671ef9b35e08'\n",
            " '756012da-92d2-4b53-9ac5-801bd1a18025'\n",
            " '957b9aeb-1107-4fcc-8b34-aff02b4bf9a7'\n",
            " '8bc2628c-5ce9-40c2-8006-7bf09b6f94cd'\n",
            " '974008dd-7c62-4e8a-866f-d49961300948'\n",
            " '0fd73076-a3af-403f-ba35-17b19cd69843'\n",
            " '4ed38d52-a154-4f79-ae93-cbbfc2f41a25'\n",
            " '9a743866-f071-4401-84d6-1ab893d5e288'\n",
            " '11c70da8-f0c9-4773-9ba9-b20cdd31f429'\n",
            " 'f1a37b81-1c88-4179-9a55-fc81c65f8055'\n",
            " '6f39a515-609d-4a45-a77a-9e233cffb2aa'\n",
            " '909dc3ab-c92e-453b-b93c-708f10187c0e'\n",
            " 'de2b75d4-d09b-4830-b7b5-8dad4cbb748c'\n",
            " '62266ce5-c4b2-4cf2-af7a-e99a2a860223'\n",
            " 'f426764f-8c18-4cac-bb96-4decdf21c678'\n",
            " '47331a6a-d647-4466-b141-93748cdada4e']\n",
            "Request UUID\n",
            "47331a6a-d647-4466-b141-93748cdada4e    0.00 %\n",
            "820412eb-8d4d-4d6c-a5e3-cfc977cd6d48    0.00 %\n",
            "08f1a913-1318-4656-9418-ce580a9871cb    0.00 %\n",
            "8cd6fd33-a1bc-43cb-9c63-df7d629d5362    0.00 %\n",
            "9388fbf6-410b-4f85-999a-1ff4d4cb733b    0.00 %\n",
            "                                         ...  \n",
            "4963b6de-4d98-4f0d-8ee5-47d2a227279b    0.00 %\n",
            "fe63572b-1d50-46f5-bc29-93e2253e256e    0.00 %\n",
            "4e98d968-c92f-4b55-af32-1f9d41ef7260    0.00 %\n",
            "fca03c4f-3f16-40d0-b87c-16d9343e4a52    0.00 %\n",
            "d596642b-c417-49e6-aa3b-ec6185fb2b9f    0.00 %\n",
            "Name: proportion, Length: 389, dtype: object\n",
            "- object -\n",
            "---------------------------\n",
            "> : Current Unit Price ==> : ['£3.50' '£0.01' '£11.50' '£3.60' '£4.00' '£5,000.00' '£4.50' '£1.00'\n",
            " '£2.80' '£1,000.00' '£0.96' '£2.95' '£22.75' '£2.97' '£82.00' '£13.98'\n",
            " '£8.40' '£7.36' '£8.41' '£34.33' '£15.50' '£13.24' '£24.80' '£5.18'\n",
            " '£48.00' '£4.60' '£6.64' '£16.70' '£6.72' '£14.00' '£0.85' '£8.00'\n",
            " '£0.00' '£27.00' '£2.00' '£6.90' '£10.50' '£2.50' '£0.08' '£49.00'\n",
            " '£3.99' '£1.80' '£3.00' '£12.00' '£1.66' '£38.00' '£22.99' '£3.30'\n",
            " '£7.62' '£7.20' '£8.50' '£14.26' '£1.70' '£1.52' '£6.50' '£100.00'\n",
            " '£6.75' '£1.60' '£20.00' '£5.00' '£0.98' '£6.00' '£1.67' '£1.95' '£12.05'\n",
            " '£17.25' '£8.10' '£6.45' '£1.84' '£6.33' '£1.74' '£747.00' '£3.48'\n",
            " '£3.20' '£7.47' '£7.50' '£6.60' '£6.15' '£1.92' '£7.69' '£4.99' '£3.40'\n",
            " '£4.20' '£0.09' '£24.00' '£11.96' '£31.00' '£10.99' '£3.85' '£22.17'\n",
            " '£18.70' '£13.22' '£15.63' '£90.00' '£16.00' '£18.50' '£3.93' '£35.00'\n",
            " '£25.00' '£40.00' '£10.00' '£1.89' '£2.25' '£7.98' '£2.30' '£7.49'\n",
            " '£5.44' '£15.00' '£1.98' '£1.55' '£183.00' '£60.00' '£36.40' '£49.56'\n",
            " '£200.00' '£0.84' '£1.33' '£3.45' '£1.75' '£1.50' '£1.68' '£1.04' '£0.04'\n",
            " '£1.78' '£2.70' '£3.62' '£7.60' '£1.90' '£2.40' '£1.25' '£1.97' '£7.01'\n",
            " '£7.05' '£6.23' '£6.34' '£6.27' '£10.66' '£3.35' '£1.18' '£1.01' '£1.20'\n",
            " '£5.35' '£1.69' '£12.56' '£168.78' '£2.24' '£3.90' '£30.40' '£32.57'\n",
            " '£18.00' '£2.39' '£6.85' '£4.17' '£3.15' '£5.73' '£5.75' '£5.55' '£4.10'\n",
            " '£7.00' '£1.44' '£600.00' '£15.09' '£5.80' '£4.80' '£19.99' '£41.95'\n",
            " '£2.66' '£0.80' '£0.56' '£79.00' '£1.34' '£9.57' '£2.27' '£3.80'\n",
            " '£160.00' '£6.10' '£61.00' '£17.00' '£56.00' '£44.00' '£16.99' '£12.70'\n",
            " '£22.80' '£16.37' '£0.60' '£3.68' '£1.38' '£3.05' '£22.00' '£0.47'\n",
            " '£0.45' '£31.50' '£2.16' '£4.42' '£2.75' '£16.60' '£11.40' '£6.20'\n",
            " '£0.40']\n",
            "Current Unit Price\n",
            "£0.01        7.00 %\n",
            "£0.00        4.00 %\n",
            "£8.00        2.00 %\n",
            "£4.00        2.00 %\n",
            "£3.00        2.00 %\n",
            "              ...  \n",
            "£3.05        0.00 %\n",
            "£22.00       0.00 %\n",
            "£22.80       0.00 %\n",
            "£5,000.00    0.00 %\n",
            "£183.00      0.00 %\n",
            "Name: proportion, Length: 199, dtype: object\n",
            "- object -\n",
            "---------------------------\n",
            "> : Target Unit Price ==> : ['£3.00' '£0.01' '£10.00' '£3.60' '£4.00' '£4,000.00' '£4.50' '£1.00'\n",
            " '£1.50' '£2.50' '£1,000.00' '£0.96' '£2.95' '£22.75' '£2.97' '£82.00'\n",
            " '£13.98' '£8.40' '£7.36' '£8.41' '£34.33' '£15.50' '£13.24' '£24.80'\n",
            " '£5.18' '£35.00' '£4.35' '£6.00' '£12.00' '£3.50' '£22.00' '£2.00'\n",
            " '£7.50' '£0.06' '£39.00' '£2.99' '£1.66' '£4.90' '£38.00' '£22.99'\n",
            " '£3.10' '£7.62' '£7.20' '£5.32' '£8.95' '£1.70' '£6.50' '£90.00' '£6.70'\n",
            " '£1.20' '£1.30' '£8.00' '£14.00' '£15.00' '£0.98' '£1.60' '£2.30' '£1.55'\n",
            " '£11.30' '£17.00' '£9.00' '£5.00' '£4.10' '£7.45' '£0.95' '£3.46'\n",
            " '£65.00' '£6.60' '£6.15' '£1.90' '£7.55' '£4.95' '£3.35' '£4.20' '£0.10'\n",
            " '£29.00' '£8.99' '£5.80' '£19.00' '£15.63' '£20.00' '£16.00' '£13.50'\n",
            " '£30.00' '£23.00' '£1.80' '£7.96' '£1.75' '£5.50' '£5.44' '£12.50'\n",
            " '£1.05' '£120.00' '£50.00' '£34.00' '£40.00' '£180.00' '£0.50' '£1.40'\n",
            " '£3.20' '£1.25' '£1.35' '£1.48' '£1.04' '£0.84' '£0.04' '£6.35' '£3.80'\n",
            " '£2.20' '£1.85' '£5.75' '£5.85' '£0.75' '£9.50' '£1.08' '£0.90' '£24.00'\n",
            " '£1.33' '£1.98' '£1.92' '£5.35' '£1.69' '£12.30' '£160.00' '£28.00'\n",
            " '£16.75' '£2.10' '£6.20' '£2.65' '£7.00' '£5.30' '£5.15' '£500.00'\n",
            " '£7.54' '£14.99' '£0.72' '£0.64' '£0.47' '£60.00' '£8.50' '£150.00'\n",
            " '£25.00' '£61.00' '£56.00' '£44.00' '£13.22' '£16.99' '£18.70' '£12.70'\n",
            " '£18.00' '£16.37' '£0.60' '£1.87' '£3.65' '£1.10' '£6.10' '£0.30' '£0.80'\n",
            " '£0.62' '£27.00' '£11.20' '£5.40' '£0.40']\n",
            "Target Unit Price\n",
            "£0.01     7.00 %\n",
            "£3.00     5.00 %\n",
            "£2.00     4.00 %\n",
            "£1.00     3.00 %\n",
            "£1.50     3.00 %\n",
            "           ...  \n",
            "£16.37    0.00 %\n",
            "£0.60     0.00 %\n",
            "£1.87     0.00 %\n",
            "£3.65     0.00 %\n",
            "£1.10     0.00 %\n",
            "Name: proportion, Length: 163, dtype: object\n",
            "- object -\n",
            "---------------------------\n",
            "> : Supply Priority ==> : ['Price' nan 'Quality']\n",
            "Supply Priority\n",
            "Price      84.00 %\n",
            "Quality    16.00 %\n",
            "Name: proportion, dtype: object\n",
            "- object -\n",
            "---------------------------\n"
          ]
        }
      ],
      "source": [
        "# Requests\n",
        "for col in requests.columns:\n",
        "  unique_value = requests[col].unique()\n",
        "  print(f\"> : {col} ==> : {unique_value}\")\n",
        "\n",
        "  value_counts = requests[col].value_counts(normalize= True).round(2) * 100\n",
        "  value_counts_with_percent = value_counts.map(\"{:.2f} %\".format)\n",
        "\n",
        "  print(value_counts_with_percent)\n",
        "  print(f'- {requests[col].dtypes} -')\n",
        "  print('---------------------------')"
      ]
    },
    {
      "cell_type": "markdown",
      "metadata": {
        "id": "bavKdKslHz1_"
      },
      "source": [
        "# 2 - Quotes :"
      ]
    },
    {
      "cell_type": "markdown",
      "metadata": {},
      "source": [
        "## 2 - 1 - Cleaning :"
      ]
    },
    {
      "cell_type": "code",
      "execution_count": 858,
      "metadata": {
        "colab": {
          "base_uri": "https://localhost:8080/"
        },
        "id": "Q4IbvIf0H7Y4",
        "outputId": "7197481e-af1b-49d1-887c-1f2f014a6de9"
      },
      "outputs": [
        {
          "data": {
            "text/plain": [
              "Status\n",
              "Expired             290\n",
              "Available           124\n",
              "Ordered              58\n",
              "Declined             17\n",
              "Contract Created      1\n",
              "pending_payment       1\n",
              "Proceeded             1\n",
              "Name: count, dtype: int64"
            ]
          },
          "execution_count": 858,
          "metadata": {},
          "output_type": "execute_result"
        }
      ],
      "source": [
        "quotes[\"Status\"].value_counts()"
      ]
    },
    {
      "cell_type": "code",
      "execution_count": 859,
      "metadata": {
        "id": "MFWf_bZAKh-P"
      },
      "outputs": [],
      "source": [
        "# * replace nan by 'no' on column \"Samples Available\" and \"Documents Provided\"\n",
        "\n",
        "quotes[\"Documents Provided\"] = quotes[\"Documents Provided\"].fillna('No')\n",
        "quotes[\"Samples Available\"] = quotes[\"Samples Available\"].fillna('No')"
      ]
    },
    {
      "cell_type": "code",
      "execution_count": 860,
      "metadata": {},
      "outputs": [],
      "source": [
        "# delete £\n",
        "\n",
        "quotes['Quote Unit Price'] = quotes['Quote Unit Price'].replace('£', '', regex=True)"
      ]
    },
    {
      "cell_type": "code",
      "execution_count": 861,
      "metadata": {},
      "outputs": [],
      "source": [
        "# convert columns 'Quote Unit Price\t' to integer\n",
        "\n",
        "quotes['Quote Unit Price'] = quotes['Quote Unit Price'].replace({',': ''}, regex=True).astype(float).round(2)\n",
        "quotes['Quote Unit Price'] = quotes['Quote Unit Price'].astype(float).round(2)\n"
      ]
    },
    {
      "cell_type": "code",
      "execution_count": 862,
      "metadata": {},
      "outputs": [],
      "source": [
        "quotes['Decline Reason'] = quotes['Decline Reason'].fillna('None')\n"
      ]
    },
    {
      "cell_type": "code",
      "execution_count": 863,
      "metadata": {},
      "outputs": [
        {
          "name": "stdout",
          "output_type": "stream",
          "text": [
            "<class 'pandas.core.frame.DataFrame'>\n",
            "RangeIndex: 492 entries, 0 to 491\n",
            "Data columns (total 6 columns):\n",
            " #   Column              Non-Null Count  Dtype  \n",
            "---  ------              --------------  -----  \n",
            " 0   Request UUID        492 non-null    object \n",
            " 1   Quote Unit Price    492 non-null    float64\n",
            " 2   Status              492 non-null    object \n",
            " 3   Decline Reason      492 non-null    object \n",
            " 4   Samples Available   492 non-null    object \n",
            " 5   Documents Provided  492 non-null    object \n",
            "dtypes: float64(1), object(5)\n",
            "memory usage: 23.2+ KB\n"
          ]
        }
      ],
      "source": [
        "quotes.info()"
      ]
    },
    {
      "cell_type": "markdown",
      "metadata": {},
      "source": [
        "## 2 - 2 - Analysis"
      ]
    },
    {
      "cell_type": "markdown",
      "metadata": {},
      "source": [
        "### 2-2-1 New column : \"decline reason new\""
      ]
    },
    {
      "cell_type": "markdown",
      "metadata": {},
      "source": [
        "* creation of new column **'decline reason new'** with 3 labels :\n",
        "  * **not specified** : for all values nan\n",
        "  * **pricing** : for all row of the reason mentionned pricing (I suppose that as soon as pricing is indicated, it means that the price is too high)\n",
        "  * **no decline** : column 'Status' = 'Ordered'\n",
        "  * **others** : for other reason"
      ]
    },
    {
      "cell_type": "markdown",
      "metadata": {},
      "source": [
        "for other reason"
      ]
    },
    {
      "cell_type": "code",
      "execution_count": 864,
      "metadata": {},
      "outputs": [],
      "source": [
        "# NaN by \"not specified\"\n",
        "# quotes[\"Decline Reason New\"] = np.where(quotes['Decline Reason'].isna(), 'not specified', quotes[\"Decline Reason\"])\n",
        "quotes[\"Decline Reason New\"] = np.where(quotes['Decline Reason'] == 'None', 'not specified', quotes[\"Decline Reason\"])\n",
        "\n",
        "# \"pricing\" \n",
        "quotes[\"Decline Reason New\"] = np.where(quotes['Decline Reason New'].str.contains('pricing', case=False), 'pricing', quotes[\"Decline Reason New\"])\n",
        "\n",
        "# \"no decline\"\n",
        "quotes[\"Decline Reason New\"] = np.where(quotes['Status'] == 'Ordered', 'no decline', quotes[\"Decline Reason New\"])\n",
        "\n",
        "# \"others\"\n",
        "quotes[\"Decline Reason New\"] = np.where(\n",
        "    (\n",
        "        (quotes[\"Decline Reason New\"] != 'not specified') &\n",
        "        (quotes[\"Decline Reason New\"] != 'no decline') &\n",
        "        (~quotes[\"Decline Reason New\"].str.contains('pricing', case=False))\n",
        "    ),\n",
        "    'others',\n",
        "    quotes[\"Decline Reason New\"]\n",
        ")\n"
      ]
    },
    {
      "cell_type": "code",
      "execution_count": 865,
      "metadata": {},
      "outputs": [
        {
          "data": {
            "text/plain": [
              "Decline Reason New\n",
              "not specified    76.0\n",
              "no decline       12.0\n",
              "pricing          10.0\n",
              "others            2.0\n",
              "Name: proportion, dtype: float64"
            ]
          },
          "execution_count": 865,
          "metadata": {},
          "output_type": "execute_result"
        }
      ],
      "source": [
        "# Repartion of Decline Reason New\n",
        "quotes['Decline Reason New'].value_counts(normalize= True).round(2) * 100"
      ]
    },
    {
      "cell_type": "markdown",
      "metadata": {},
      "source": [
        "* only 10% of decline are due to price "
      ]
    },
    {
      "cell_type": "code",
      "execution_count": 866,
      "metadata": {},
      "outputs": [
        {
          "data": {
            "text/html": [
              "<div>\n",
              "<style scoped>\n",
              "    .dataframe tbody tr th:only-of-type {\n",
              "        vertical-align: middle;\n",
              "    }\n",
              "\n",
              "    .dataframe tbody tr th {\n",
              "        vertical-align: top;\n",
              "    }\n",
              "\n",
              "    .dataframe thead th {\n",
              "        text-align: right;\n",
              "    }\n",
              "</style>\n",
              "<table border=\"1\" class=\"dataframe\">\n",
              "  <thead>\n",
              "    <tr style=\"text-align: right;\">\n",
              "      <th></th>\n",
              "      <th>Request UUID</th>\n",
              "      <th>Quote Unit Price</th>\n",
              "      <th>Status</th>\n",
              "      <th>Decline Reason</th>\n",
              "      <th>Samples Available</th>\n",
              "      <th>Documents Provided</th>\n",
              "      <th>Decline Reason New</th>\n",
              "    </tr>\n",
              "  </thead>\n",
              "  <tbody>\n",
              "    <tr>\n",
              "      <th>0</th>\n",
              "      <td>94ba38d1-57ed-4a60-92d1-47b55a40a6dd</td>\n",
              "      <td>5.10</td>\n",
              "      <td>Available</td>\n",
              "      <td>None</td>\n",
              "      <td>No</td>\n",
              "      <td>No</td>\n",
              "      <td>not specified</td>\n",
              "    </tr>\n",
              "    <tr>\n",
              "      <th>1</th>\n",
              "      <td>820412eb-8d4d-4d6c-a5e3-cfc977cd6d48</td>\n",
              "      <td>3.50</td>\n",
              "      <td>Available</td>\n",
              "      <td>None</td>\n",
              "      <td>Yes</td>\n",
              "      <td>No</td>\n",
              "      <td>not specified</td>\n",
              "    </tr>\n",
              "    <tr>\n",
              "      <th>2</th>\n",
              "      <td>08f1a913-1318-4656-9418-ce580a9871cb</td>\n",
              "      <td>1768.89</td>\n",
              "      <td>Available</td>\n",
              "      <td>None</td>\n",
              "      <td>Yes</td>\n",
              "      <td>Yes</td>\n",
              "      <td>not specified</td>\n",
              "    </tr>\n",
              "    <tr>\n",
              "      <th>4</th>\n",
              "      <td>820412eb-8d4d-4d6c-a5e3-cfc977cd6d48</td>\n",
              "      <td>13.00</td>\n",
              "      <td>Available</td>\n",
              "      <td>None</td>\n",
              "      <td>No</td>\n",
              "      <td>No</td>\n",
              "      <td>not specified</td>\n",
              "    </tr>\n",
              "    <tr>\n",
              "      <th>6</th>\n",
              "      <td>4dedeeb1-12a5-4589-82ee-015e46d85790</td>\n",
              "      <td>2.97</td>\n",
              "      <td>Available</td>\n",
              "      <td>None</td>\n",
              "      <td>Yes</td>\n",
              "      <td>Yes</td>\n",
              "      <td>not specified</td>\n",
              "    </tr>\n",
              "  </tbody>\n",
              "</table>\n",
              "</div>"
            ],
            "text/plain": [
              "                           Request UUID  Quote Unit Price     Status  \\\n",
              "0  94ba38d1-57ed-4a60-92d1-47b55a40a6dd              5.10  Available   \n",
              "1  820412eb-8d4d-4d6c-a5e3-cfc977cd6d48              3.50  Available   \n",
              "2  08f1a913-1318-4656-9418-ce580a9871cb           1768.89  Available   \n",
              "4  820412eb-8d4d-4d6c-a5e3-cfc977cd6d48             13.00  Available   \n",
              "6  4dedeeb1-12a5-4589-82ee-015e46d85790              2.97  Available   \n",
              "\n",
              "  Decline Reason Samples Available Documents Provided Decline Reason New  \n",
              "0           None                No                 No      not specified  \n",
              "1           None               Yes                 No      not specified  \n",
              "2           None               Yes                Yes      not specified  \n",
              "4           None                No                 No      not specified  \n",
              "6           None               Yes                Yes      not specified  "
            ]
          },
          "execution_count": 866,
          "metadata": {},
          "output_type": "execute_result"
        }
      ],
      "source": [
        "# create df with \"Decline Reason New\" = not specified\n",
        "# understand why label \"not specified = 76%\"\n",
        "quotes_not_specified = quotes[quotes['Decline Reason New'] == 'not specified']\n",
        "quotes_not_specified.head()"
      ]
    },
    {
      "cell_type": "code",
      "execution_count": 867,
      "metadata": {},
      "outputs": [
        {
          "data": {
            "image/png": "[encoded data removed]",
            "text/plain": [
              "<Figure size 300x300 with 1 Axes>"
            ]
          },
          "metadata": {},
          "output_type": "display_data"
        }
      ],
      "source": [
        "# when Decline Reason is not specified, we represent the distribution of 'Status' \n",
        "colors = ['skyblue', 'orange', 'lightgreen', 'pink', 'lightcoral']\n",
        "\n",
        "plt.figure(figsize=(3,3))\n",
        "quotes_not_specified[\"Status\"].value_counts().plot(\n",
        "    kind='pie',\n",
        "    autopct='%1.1f%%',\n",
        "    explode=(0.05, 0.05, 0.05, 0.05, 0.05),\n",
        "    colors=colors\n",
        ")\n",
        "plt.show()\n"
      ]
    },
    {
      "cell_type": "markdown",
      "metadata": {},
      "source": [
        "* let's try to understand what's in Expired"
      ]
    },
    {
      "cell_type": "code",
      "execution_count": 868,
      "metadata": {},
      "outputs": [
        {
          "data": {
            "text/html": [
              "<div>\n",
              "<style scoped>\n",
              "    .dataframe tbody tr th:only-of-type {\n",
              "        vertical-align: middle;\n",
              "    }\n",
              "\n",
              "    .dataframe tbody tr th {\n",
              "        vertical-align: top;\n",
              "    }\n",
              "\n",
              "    .dataframe thead th {\n",
              "        text-align: right;\n",
              "    }\n",
              "</style>\n",
              "<table border=\"1\" class=\"dataframe\">\n",
              "  <thead>\n",
              "    <tr style=\"text-align: right;\">\n",
              "      <th></th>\n",
              "      <th>Request UUID</th>\n",
              "      <th>Quote Unit Price</th>\n",
              "      <th>Status</th>\n",
              "      <th>Decline Reason</th>\n",
              "      <th>Samples Available</th>\n",
              "      <th>Documents Provided</th>\n",
              "      <th>Decline Reason New</th>\n",
              "    </tr>\n",
              "  </thead>\n",
              "  <tbody>\n",
              "    <tr>\n",
              "      <th>11</th>\n",
              "      <td>50ef47ee-1cb8-44bf-9444-2c057fdc72ca</td>\n",
              "      <td>2.86</td>\n",
              "      <td>Expired</td>\n",
              "      <td>None</td>\n",
              "      <td>No</td>\n",
              "      <td>Yes</td>\n",
              "      <td>not specified</td>\n",
              "    </tr>\n",
              "    <tr>\n",
              "      <th>48</th>\n",
              "      <td>52fc0262-ed22-40f7-b983-a8df4c6d7a0d</td>\n",
              "      <td>77.00</td>\n",
              "      <td>Expired</td>\n",
              "      <td>None</td>\n",
              "      <td>Yes</td>\n",
              "      <td>Yes</td>\n",
              "      <td>not specified</td>\n",
              "    </tr>\n",
              "    <tr>\n",
              "      <th>60</th>\n",
              "      <td>b9701840-f486-4e5a-989e-bfaf42c0ca65</td>\n",
              "      <td>12.25</td>\n",
              "      <td>Expired</td>\n",
              "      <td>None</td>\n",
              "      <td>No</td>\n",
              "      <td>Yes</td>\n",
              "      <td>not specified</td>\n",
              "    </tr>\n",
              "    <tr>\n",
              "      <th>62</th>\n",
              "      <td>cc66f476-9f26-426c-9216-0150c87f8c78</td>\n",
              "      <td>20.00</td>\n",
              "      <td>Expired</td>\n",
              "      <td>None</td>\n",
              "      <td>Yes</td>\n",
              "      <td>No</td>\n",
              "      <td>not specified</td>\n",
              "    </tr>\n",
              "    <tr>\n",
              "      <th>66</th>\n",
              "      <td>1c0a5675-bc9e-4a4f-8e1f-eb1f673e0038</td>\n",
              "      <td>2.00</td>\n",
              "      <td>Expired</td>\n",
              "      <td>None</td>\n",
              "      <td>Yes</td>\n",
              "      <td>Yes</td>\n",
              "      <td>not specified</td>\n",
              "    </tr>\n",
              "  </tbody>\n",
              "</table>\n",
              "</div>"
            ],
            "text/plain": [
              "                            Request UUID  Quote Unit Price   Status  \\\n",
              "11  50ef47ee-1cb8-44bf-9444-2c057fdc72ca              2.86  Expired   \n",
              "48  52fc0262-ed22-40f7-b983-a8df4c6d7a0d             77.00  Expired   \n",
              "60  b9701840-f486-4e5a-989e-bfaf42c0ca65             12.25  Expired   \n",
              "62  cc66f476-9f26-426c-9216-0150c87f8c78             20.00  Expired   \n",
              "66  1c0a5675-bc9e-4a4f-8e1f-eb1f673e0038              2.00  Expired   \n",
              "\n",
              "   Decline Reason Samples Available Documents Provided Decline Reason New  \n",
              "11           None                No                Yes      not specified  \n",
              "48           None               Yes                Yes      not specified  \n",
              "60           None                No                Yes      not specified  \n",
              "62           None               Yes                 No      not specified  \n",
              "66           None               Yes                Yes      not specified  "
            ]
          },
          "execution_count": 868,
          "metadata": {},
          "output_type": "execute_result"
        }
      ],
      "source": [
        "\n",
        "# Filter \n",
        "quotes_decline_not_specified_expired = quotes[(quotes['Decline Reason New'] == 'not specified') & (quotes['Status'] == 'Expired')]\n",
        "quotes_decline_not_specified_expired.head()"
      ]
    },
    {
      "cell_type": "code",
      "execution_count": 869,
      "metadata": {},
      "outputs": [
        {
          "data": {
            "text/plain": [
              "(249, 7)"
            ]
          },
          "execution_count": 869,
          "metadata": {},
          "output_type": "execute_result"
        }
      ],
      "source": [
        "quotes_decline_not_specified_expired.shape"
      ]
    },
    {
      "cell_type": "code",
      "execution_count": 870,
      "metadata": {},
      "outputs": [
        {
          "data": {
            "text/plain": [
              "0"
            ]
          },
          "execution_count": 870,
          "metadata": {},
          "output_type": "execute_result"
        }
      ],
      "source": [
        "quotes_decline_not_specified_expired[\"Decline Reason\"].isna().sum()"
      ]
    },
    {
      "cell_type": "markdown",
      "metadata": {},
      "source": [
        "* when in the same time :\n",
        "  * Status = Expired \n",
        "  * Decline Reason New = not specified\n",
        " decline reason is NaN in 100% of cases"
      ]
    },
    {
      "cell_type": "markdown",
      "metadata": {},
      "source": [
        "### 2-2-2 Column \"Ordered\""
      ]
    },
    {
      "cell_type": "code",
      "execution_count": 871,
      "metadata": {},
      "outputs": [
        {
          "data": {
            "text/plain": [
              "Status\n",
              "Expired             59.0\n",
              "Available           25.0\n",
              "Ordered             12.0\n",
              "Declined             3.0\n",
              "Contract Created     0.0\n",
              "pending_payment      0.0\n",
              "Proceeded            0.0\n",
              "Name: proportion, dtype: float64"
            ]
          },
          "execution_count": 871,
          "metadata": {},
          "output_type": "execute_result"
        }
      ],
      "source": [
        "quotes[\"Status\"].value_counts(normalize= True).round(2) * 100"
      ]
    },
    {
      "cell_type": "markdown",
      "metadata": {
        "id": "n2kiWzrUCJ2I"
      },
      "source": [
        "* 11.79% of quotes are Ordered"
      ]
    },
    {
      "cell_type": "markdown",
      "metadata": {},
      "source": [
        "### command carried out , so variable status = \"Ordered\". "
      ]
    },
    {
      "cell_type": "code",
      "execution_count": 872,
      "metadata": {
        "colab": {
          "base_uri": "https://localhost:8080/",
          "height": 223
        },
        "id": "q3TC_8-s-oGj",
        "outputId": "531ebbf6-bf7d-4e5e-8b65-8cfe18688f59"
      },
      "outputs": [
        {
          "name": "stdout",
          "output_type": "stream",
          "text": [
            "(58, 7)\n"
          ]
        },
        {
          "data": {
            "text/html": [
              "<div>\n",
              "<style scoped>\n",
              "    .dataframe tbody tr th:only-of-type {\n",
              "        vertical-align: middle;\n",
              "    }\n",
              "\n",
              "    .dataframe tbody tr th {\n",
              "        vertical-align: top;\n",
              "    }\n",
              "\n",
              "    .dataframe thead th {\n",
              "        text-align: right;\n",
              "    }\n",
              "</style>\n",
              "<table border=\"1\" class=\"dataframe\">\n",
              "  <thead>\n",
              "    <tr style=\"text-align: right;\">\n",
              "      <th></th>\n",
              "      <th>Request UUID</th>\n",
              "      <th>Quote Unit Price</th>\n",
              "      <th>Status</th>\n",
              "      <th>Decline Reason</th>\n",
              "      <th>Samples Available</th>\n",
              "      <th>Documents Provided</th>\n",
              "      <th>Decline Reason New</th>\n",
              "    </tr>\n",
              "  </thead>\n",
              "  <tbody>\n",
              "    <tr>\n",
              "      <th>28</th>\n",
              "      <td>fca03c4f-3f16-40d0-b87c-16d9343e4a52</td>\n",
              "      <td>4.65</td>\n",
              "      <td>Ordered</td>\n",
              "      <td>None</td>\n",
              "      <td>Yes</td>\n",
              "      <td>Yes</td>\n",
              "      <td>no decline</td>\n",
              "    </tr>\n",
              "    <tr>\n",
              "      <th>30</th>\n",
              "      <td>d596642b-c417-49e6-aa3b-ec6185fb2b9f</td>\n",
              "      <td>0.58</td>\n",
              "      <td>Ordered</td>\n",
              "      <td>None</td>\n",
              "      <td>No</td>\n",
              "      <td>Yes</td>\n",
              "      <td>no decline</td>\n",
              "    </tr>\n",
              "    <tr>\n",
              "      <th>79</th>\n",
              "      <td>9cf11f62-7b1e-4a7f-9c40-c12ad721a72b</td>\n",
              "      <td>1.66</td>\n",
              "      <td>Ordered</td>\n",
              "      <td>None</td>\n",
              "      <td>No</td>\n",
              "      <td>Yes</td>\n",
              "      <td>no decline</td>\n",
              "    </tr>\n",
              "    <tr>\n",
              "      <th>80</th>\n",
              "      <td>3c583881-a99d-42ca-a81b-648bc6884976</td>\n",
              "      <td>1.58</td>\n",
              "      <td>Ordered</td>\n",
              "      <td>None</td>\n",
              "      <td>No</td>\n",
              "      <td>Yes</td>\n",
              "      <td>no decline</td>\n",
              "    </tr>\n",
              "    <tr>\n",
              "      <th>84</th>\n",
              "      <td>2473d2dc-0a5c-4a61-a73d-3050faf0f7a0</td>\n",
              "      <td>3.77</td>\n",
              "      <td>Ordered</td>\n",
              "      <td>None</td>\n",
              "      <td>Yes</td>\n",
              "      <td>No</td>\n",
              "      <td>no decline</td>\n",
              "    </tr>\n",
              "  </tbody>\n",
              "</table>\n",
              "</div>"
            ],
            "text/plain": [
              "                            Request UUID  Quote Unit Price   Status  \\\n",
              "28  fca03c4f-3f16-40d0-b87c-16d9343e4a52              4.65  Ordered   \n",
              "30  d596642b-c417-49e6-aa3b-ec6185fb2b9f              0.58  Ordered   \n",
              "79  9cf11f62-7b1e-4a7f-9c40-c12ad721a72b              1.66  Ordered   \n",
              "80  3c583881-a99d-42ca-a81b-648bc6884976              1.58  Ordered   \n",
              "84  2473d2dc-0a5c-4a61-a73d-3050faf0f7a0              3.77  Ordered   \n",
              "\n",
              "   Decline Reason Samples Available Documents Provided Decline Reason New  \n",
              "28           None               Yes                Yes         no decline  \n",
              "30           None                No                Yes         no decline  \n",
              "79           None                No                Yes         no decline  \n",
              "80           None                No                Yes         no decline  \n",
              "84           None               Yes                 No         no decline  "
            ]
          },
          "execution_count": 872,
          "metadata": {},
          "output_type": "execute_result"
        }
      ],
      "source": [
        "# Filter the dataframe based on the value of \"status\" == Ordered\n",
        "\n",
        "quotes_ordered = quotes[quotes['Status'] == 'Ordered']\n",
        "print(quotes_ordered.shape)\n",
        "quotes_ordered.head()"
      ]
    },
    {
      "cell_type": "code",
      "execution_count": 873,
      "metadata": {},
      "outputs": [
        {
          "name": "stderr",
          "output_type": "stream",
          "text": [
            "/var/folders/kz/qqr4yxrj5nn1nh6fbydp02yc0000gn/T/ipykernel_82155/654951754.py:32: SettingWithCopyWarning:\n",
            "\n",
            "\n",
            "A value is trying to be set on a copy of a slice from a DataFrame.\n",
            "Try using .loc[row_indexer,col_indexer] = value instead\n",
            "\n",
            "See the caveats in the documentation: https://pandas.pydata.org/pandas-docs/stable/user_guide/indexing.html#returning-a-view-versus-a-copy\n",
            "\n",
            "/var/folders/kz/qqr4yxrj5nn1nh6fbydp02yc0000gn/T/ipykernel_82155/654951754.py:36: SettingWithCopyWarning:\n",
            "\n",
            "\n",
            "A value is trying to be set on a copy of a slice from a DataFrame.\n",
            "Try using .loc[row_indexer,col_indexer] = value instead\n",
            "\n",
            "See the caveats in the documentation: https://pandas.pydata.org/pandas-docs/stable/user_guide/indexing.html#returning-a-view-versus-a-copy\n",
            "\n"
          ]
        },
        {
          "data": {
            "image/png": "[encoded data removed]",
            "text/plain": [
              "<Figure size 1000x1000 with 3 Axes>"
            ]
          },
          "metadata": {},
          "output_type": "display_data"
        }
      ],
      "source": [
        "# graphical representation of the variables 'Samples Available' and 'Documents Provided' separated and grouped\n",
        "\n",
        "plt.figure(figsize=(10,10))\n",
        "fontsize = 10\n",
        "\n",
        "# Samples available\n",
        "plt.subplot(131)\n",
        "plt.title('Samples available?', fontsize=fontsize)\n",
        "\n",
        "quotes_ordered[\"Samples Available\"].value_counts().plot(\n",
        "    kind='pie',\n",
        "    autopct='%1.1f%%',\n",
        "    explode=(0.05, 0.05),\n",
        "    colors=['lightcoral', 'lightgreen'], \n",
        ")\n",
        "plt.ylabel('')\n",
        "\n",
        "# Documents Provided\n",
        "plt.subplot(132)\n",
        "plt.title('Documents Provided?', fontsize=fontsize)\n",
        "\n",
        "quotes_ordered[\"Documents Provided\"].value_counts().plot(\n",
        "    kind='pie',\n",
        "    autopct='%1.1f%%',\n",
        "    explode=(0.05, 0.05),\n",
        "    colors=['lightgreen', 'lightcoral'], \n",
        ")\n",
        "plt.ylabel('')\n",
        "\n",
        "# Samples available and Documents Provided in the same time\n",
        "## Create a new column \"group_samples_provided\" by default = \"no\" \n",
        "quotes_ordered[\"group_samples_provided\"] = \"No\"\n",
        "\n",
        "## Condition samples available and Documents Provided in the same time = yes \n",
        "## \"group_samples_provided\" = yes\n",
        "quotes_ordered[\"group_samples_provided\"] = np.where(\n",
        "    (quotes_ordered['Samples Available'] == 'Yes') & \n",
        "    (quotes_ordered['Documents Provided'] == 'Yes'),\n",
        "    \"Yes\",\n",
        "    quotes_ordered[\"group_samples_provided\"]\n",
        ")\n",
        "\n",
        "\n",
        "plt.subplot(133)\n",
        "plt.title('Samples available and Documents Provided ?', fontsize=fontsize)\n",
        "\n",
        "quotes_ordered['group_samples_provided'].value_counts().plot(\n",
        "    kind='pie',\n",
        "    autopct='%1.1f%%',\n",
        "    explode=(0.05, 0.05),\n",
        "    colors=['lightcoral', 'lightgreen'], \n",
        ")\n",
        "plt.ylabel('')\n",
        "\n",
        "plt.subplots_adjust(wspace=0.8)\n",
        "plt.show()\n"
      ]
    },
    {
      "cell_type": "markdown",
      "metadata": {},
      "source": [
        "* 39,7 % of ordered had \"Samples available\"\n",
        "* 63,8 % of ordered had \"Documents Provided\"\n",
        "* 32,8 % of ordered had \"Documents Provided\" and \"samples available\""
      ]
    },
    {
      "cell_type": "markdown",
      "metadata": {},
      "source": []
    },
    {
      "cell_type": "markdown",
      "metadata": {
        "id": "rYbK8qsOX-Zn"
      },
      "source": [
        "# 3 - Requests :"
      ]
    },
    {
      "cell_type": "markdown",
      "metadata": {},
      "source": [
        "## 3 - 1 - Cleaning :"
      ]
    },
    {
      "cell_type": "code",
      "execution_count": 874,
      "metadata": {
        "colab": {
          "base_uri": "https://localhost:8080/",
          "height": 206
        },
        "id": "1OKIfOpCYB_T",
        "outputId": "7812a9dd-aa88-40ca-8acc-26d4ee755598"
      },
      "outputs": [
        {
          "data": {
            "text/html": [
              "<div>\n",
              "<style scoped>\n",
              "    .dataframe tbody tr th:only-of-type {\n",
              "        vertical-align: middle;\n",
              "    }\n",
              "\n",
              "    .dataframe tbody tr th {\n",
              "        vertical-align: top;\n",
              "    }\n",
              "\n",
              "    .dataframe thead th {\n",
              "        text-align: right;\n",
              "    }\n",
              "</style>\n",
              "<table border=\"1\" class=\"dataframe\">\n",
              "  <thead>\n",
              "    <tr style=\"text-align: right;\">\n",
              "      <th></th>\n",
              "      <th>Request UUID</th>\n",
              "      <th>Current Unit Price</th>\n",
              "      <th>Target Unit Price</th>\n",
              "      <th>Supply Priority</th>\n",
              "    </tr>\n",
              "  </thead>\n",
              "  <tbody>\n",
              "    <tr>\n",
              "      <th>0</th>\n",
              "      <td>820412eb-8d4d-4d6c-a5e3-cfc977cd6d48</td>\n",
              "      <td>£3.50</td>\n",
              "      <td>£3.00</td>\n",
              "      <td>Price</td>\n",
              "    </tr>\n",
              "    <tr>\n",
              "      <th>1</th>\n",
              "      <td>08f1a913-1318-4656-9418-ce580a9871cb</td>\n",
              "      <td>£0.01</td>\n",
              "      <td>£0.01</td>\n",
              "      <td>Price</td>\n",
              "    </tr>\n",
              "    <tr>\n",
              "      <th>2</th>\n",
              "      <td>8cd6fd33-a1bc-43cb-9c63-df7d629d5362</td>\n",
              "      <td>£0.01</td>\n",
              "      <td>£0.01</td>\n",
              "      <td>Price</td>\n",
              "    </tr>\n",
              "    <tr>\n",
              "      <th>3</th>\n",
              "      <td>9388fbf6-410b-4f85-999a-1ff4d4cb733b</td>\n",
              "      <td>£0.01</td>\n",
              "      <td>£0.01</td>\n",
              "      <td>Price</td>\n",
              "    </tr>\n",
              "    <tr>\n",
              "      <th>4</th>\n",
              "      <td>37d05dfe-7f47-4eed-8e78-9f74c303bcad</td>\n",
              "      <td>£0.01</td>\n",
              "      <td>£0.01</td>\n",
              "      <td>Price</td>\n",
              "    </tr>\n",
              "  </tbody>\n",
              "</table>\n",
              "</div>"
            ],
            "text/plain": [
              "                           Request UUID Current Unit Price Target Unit Price  \\\n",
              "0  820412eb-8d4d-4d6c-a5e3-cfc977cd6d48              £3.50             £3.00   \n",
              "1  08f1a913-1318-4656-9418-ce580a9871cb              £0.01             £0.01   \n",
              "2  8cd6fd33-a1bc-43cb-9c63-df7d629d5362              £0.01             £0.01   \n",
              "3  9388fbf6-410b-4f85-999a-1ff4d4cb733b              £0.01             £0.01   \n",
              "4  37d05dfe-7f47-4eed-8e78-9f74c303bcad              £0.01             £0.01   \n",
              "\n",
              "  Supply Priority  \n",
              "0           Price  \n",
              "1           Price  \n",
              "2           Price  \n",
              "3           Price  \n",
              "4           Price  "
            ]
          },
          "execution_count": 874,
          "metadata": {},
          "output_type": "execute_result"
        }
      ],
      "source": [
        "requests.head()"
      ]
    },
    {
      "cell_type": "code",
      "execution_count": 875,
      "metadata": {
        "id": "1evbkcVfYPni"
      },
      "outputs": [],
      "source": [
        "# delete £\n",
        "requests['Current Unit Price'] = requests['Current Unit Price'].replace('£', '', regex=True)\n",
        "requests['Target Unit Price'] = requests['Target Unit Price'].replace('£', '', regex=True)"
      ]
    },
    {
      "cell_type": "code",
      "execution_count": 876,
      "metadata": {
        "id": "ZfZmbkBuYmEb"
      },
      "outputs": [],
      "source": [
        "# delete rows with values = 0,01\n",
        "requests = requests.loc[(requests['Current Unit Price'] != '0.01') & (requests['Target Unit Price'] != '0.01')]\n"
      ]
    },
    {
      "cell_type": "code",
      "execution_count": 877,
      "metadata": {},
      "outputs": [],
      "source": [
        "# convert 'columns_to_convert' in int\n",
        "\n",
        "columns_to_convert = ['Current Unit Price', 'Target Unit Price']\n",
        "\n",
        "requests[columns_to_convert] = requests[columns_to_convert].replace({',': ''}, regex=True).astype(float).round(2)\n",
        "requests[columns_to_convert] = requests[columns_to_convert].astype(float).round(2)"
      ]
    },
    {
      "cell_type": "code",
      "execution_count": 878,
      "metadata": {},
      "outputs": [
        {
          "name": "stdout",
          "output_type": "stream",
          "text": [
            "<class 'pandas.core.frame.DataFrame'>\n",
            "Index: 354 entries, 0 to 388\n",
            "Data columns (total 4 columns):\n",
            " #   Column              Non-Null Count  Dtype  \n",
            "---  ------              --------------  -----  \n",
            " 0   Request UUID        354 non-null    object \n",
            " 1   Current Unit Price  354 non-null    float64\n",
            " 2   Target Unit Price   354 non-null    float64\n",
            " 3   Supply Priority     258 non-null    object \n",
            "dtypes: float64(2), object(2)\n",
            "memory usage: 13.8+ KB\n"
          ]
        }
      ],
      "source": [
        "requests.info()"
      ]
    },
    {
      "cell_type": "code",
      "execution_count": 879,
      "metadata": {},
      "outputs": [
        {
          "data": {
            "text/plain": [
              "96"
            ]
          },
          "execution_count": 879,
          "metadata": {},
          "output_type": "execute_result"
        }
      ],
      "source": [
        "requests['Supply Priority'].isna().sum()"
      ]
    },
    {
      "cell_type": "code",
      "execution_count": 880,
      "metadata": {},
      "outputs": [],
      "source": [
        "requests['Supply Priority'] = requests['Supply Priority'].fillna('None')\n"
      ]
    },
    {
      "cell_type": "code",
      "execution_count": 881,
      "metadata": {},
      "outputs": [
        {
          "data": {
            "text/plain": [
              "Text(0, 0.5, '')"
            ]
          },
          "execution_count": 881,
          "metadata": {},
          "output_type": "execute_result"
        },
        {
          "data": {
            "image/png": "[encoded data removed]",
            "text/plain": [
              "<Figure size 300x300 with 1 Axes>"
            ]
          },
          "metadata": {},
          "output_type": "display_data"
        }
      ],
      "source": [
        "# graphical representation of the variables 'Supply Priority' \n",
        "\n",
        "plt.figure(figsize=(3,3))\n",
        "fontsize = 10\n",
        "\n",
        "plt.title('Supply Priority ', fontsize=fontsize)\n",
        "\n",
        "requests[\"Supply Priority\"].value_counts().plot(\n",
        "    kind='pie',\n",
        "    autopct='%1.1f%%',\n",
        "    explode=(0.05, 0.05, 0.05),\n",
        "    colors=['lightcoral', 'lightgreen', 'skyblue'], \n",
        ")\n",
        "plt.ylabel('')"
      ]
    },
    {
      "cell_type": "code",
      "execution_count": 882,
      "metadata": {},
      "outputs": [
        {
          "name": "stdout",
          "output_type": "stream",
          "text": [
            "requests : (354, 4)\n",
            "quotes   : (492, 7)\n",
            "There are , 39 % more Quotes than Requests\n"
          ]
        }
      ],
      "source": [
        "\n",
        "print(\"requests :\", requests.shape)\n",
        "print(\"quotes   :\", quotes.shape)\n",
        "\n",
        "result = (((quotes.shape[0] - requests.shape[0]) / requests.shape[0] ) * 100 )\n",
        "print(\"There are ,\", round(result), \"% more Quotes than Requests\")"
      ]
    },
    {
      "cell_type": "markdown",
      "metadata": {},
      "source": [
        "# 4 - Merge"
      ]
    },
    {
      "cell_type": "markdown",
      "metadata": {
        "id": "Sk8IqBKcHV3D"
      },
      "source": [
        "## 4 - 1 - Merge quotes with request\n",
        "\n"
      ]
    },
    {
      "cell_type": "markdown",
      "metadata": {},
      "source": [
        "* Before start merge, show file : Table Requests-Quotes"
      ]
    },
    {
      "cell_type": "code",
      "execution_count": 883,
      "metadata": {},
      "outputs": [
        {
          "name": "stdout",
          "output_type": "stream",
          "text": [
            "(492, 7)\n",
            "(354, 4)\n"
          ]
        }
      ],
      "source": [
        "print(quotes.shape)\n",
        "print(requests.shape)"
      ]
    },
    {
      "cell_type": "code",
      "execution_count": 884,
      "metadata": {},
      "outputs": [],
      "source": [
        "# merge-outer\n",
        "\n",
        "merge_outer = requests.merge(right=quotes, on='Request UUID', how='outer')"
      ]
    },
    {
      "cell_type": "code",
      "execution_count": 885,
      "metadata": {},
      "outputs": [
        {
          "data": {
            "text/plain": [
              "(631, 10)"
            ]
          },
          "execution_count": 885,
          "metadata": {},
          "output_type": "execute_result"
        }
      ],
      "source": [
        "merge_outer.shape"
      ]
    },
    {
      "cell_type": "code",
      "execution_count": 886,
      "metadata": {},
      "outputs": [
        {
          "data": {
            "text/plain": [
              "260"
            ]
          },
          "execution_count": 886,
          "metadata": {},
          "output_type": "execute_result"
        }
      ],
      "source": [
        "merge_outer['Request UUID'].duplicated().sum()"
      ]
    },
    {
      "cell_type": "code",
      "execution_count": 887,
      "metadata": {},
      "outputs": [
        {
          "name": "stdout",
          "output_type": "stream",
          "text": [
            "<class 'pandas.core.frame.DataFrame'>\n",
            "RangeIndex: 631 entries, 0 to 630\n",
            "Data columns (total 10 columns):\n",
            " #   Column              Non-Null Count  Dtype  \n",
            "---  ------              --------------  -----  \n",
            " 0   Request UUID        631 non-null    object \n",
            " 1   Current Unit Price  600 non-null    float64\n",
            " 2   Target Unit Price   600 non-null    float64\n",
            " 3   Supply Priority     600 non-null    object \n",
            " 4   Quote Unit Price    492 non-null    float64\n",
            " 5   Status              492 non-null    object \n",
            " 6   Decline Reason      492 non-null    object \n",
            " 7   Samples Available   492 non-null    object \n",
            " 8   Documents Provided  492 non-null    object \n",
            " 9   Decline Reason New  492 non-null    object \n",
            "dtypes: float64(3), object(7)\n",
            "memory usage: 49.4+ KB\n"
          ]
        }
      ],
      "source": [
        "merge_outer.info()"
      ]
    },
    {
      "cell_type": "markdown",
      "metadata": {},
      "source": [
        "## 4 - 2 - Delete of 31 rows ( 5% ) where \"Current Unit Price\" = 0.0 or NAN"
      ]
    },
    {
      "cell_type": "markdown",
      "metadata": {},
      "source": [
        "* after the merge and the study below, I decide to delete 5% of the rows because the \"currents prices value\" is not filled in. \n",
        "* These may be new references for buyers, so they don't have any prices to fill in. \n",
        "* These 31 values correspond to the rows deleted previously when \"current unit price\" or \"target unit\" = 0.01"
      ]
    },
    {
      "cell_type": "code",
      "execution_count": 888,
      "metadata": {},
      "outputs": [],
      "source": [
        "# all columns without \"Request UUID\"\n",
        "colonnes_whitout_request_uuid = [col for col in merge_outer.columns if col != 'Request UUID']"
      ]
    },
    {
      "cell_type": "code",
      "execution_count": 889,
      "metadata": {},
      "outputs": [
        {
          "name": "stdout",
          "output_type": "stream",
          "text": [
            "> : Current Unit Price ==> : [3.5000e+00 1.1500e+01 3.6000e+00 4.0000e+00 5.0000e+03 4.5000e+00\n",
            " 1.0000e+00 2.8000e+00 1.0000e+03 9.6000e-01 2.9500e+00 2.2750e+01\n",
            " 2.9700e+00 8.2000e+01 1.3980e+01 8.4000e+00 7.3600e+00 8.4100e+00\n",
            " 3.4330e+01 1.5500e+01 1.3240e+01 2.4800e+01 5.1800e+00 4.8000e+01\n",
            " 4.6000e+00 6.6400e+00 1.6700e+01 6.7200e+00 1.4000e+01 8.5000e-01\n",
            " 8.0000e+00 0.0000e+00 2.7000e+01 2.0000e+00 6.9000e+00 1.0500e+01\n",
            " 2.5000e+00 8.0000e-02 4.9000e+01 3.9900e+00 1.8000e+00 3.0000e+00\n",
            " 1.2000e+01 1.6600e+00 3.8000e+01 2.2990e+01 3.3000e+00 7.6200e+00\n",
            " 7.2000e+00 8.5000e+00 1.4260e+01 1.7000e+00 1.5200e+00 6.5000e+00\n",
            " 1.0000e+02 6.7500e+00 1.6000e+00 2.0000e+01 5.0000e+00 9.8000e-01\n",
            " 6.0000e+00 1.6700e+00 1.9500e+00 1.2050e+01 1.7250e+01 8.1000e+00\n",
            " 6.4500e+00 1.8400e+00 6.3300e+00 1.7400e+00 7.4700e+02 3.4800e+00\n",
            " 3.2000e+00 7.4700e+00 7.5000e+00 6.6000e+00 6.1500e+00 1.9200e+00\n",
            " 7.6900e+00 4.9900e+00 3.4000e+00 4.2000e+00 9.0000e-02 2.4000e+01\n",
            " 1.1960e+01 3.1000e+01 1.0990e+01 3.8500e+00 2.2170e+01 1.8700e+01\n",
            " 1.3220e+01 1.5630e+01 9.0000e+01 1.6000e+01 1.8500e+01 3.9300e+00\n",
            " 3.5000e+01 2.5000e+01 4.0000e+01 1.0000e+01 1.8900e+00 2.2500e+00\n",
            " 7.9800e+00 2.3000e+00 7.4900e+00 5.4400e+00 1.5000e+01 1.9800e+00\n",
            " 1.5500e+00 1.8300e+02 6.0000e+01 3.6400e+01 4.9560e+01 2.0000e+02\n",
            " 8.4000e-01 1.3300e+00 3.4500e+00 1.7500e+00 1.5000e+00 1.6800e+00\n",
            " 1.0400e+00 4.0000e-02 1.7800e+00 2.7000e+00 3.6200e+00 7.6000e+00\n",
            " 1.9000e+00 2.4000e+00 1.2500e+00 1.9700e+00 7.0100e+00 7.0500e+00\n",
            " 6.2300e+00 6.3400e+00 6.2700e+00 1.0660e+01 3.3500e+00 1.1800e+00\n",
            " 1.0100e+00 1.2000e+00 5.3500e+00 1.6900e+00 1.2560e+01 1.6878e+02\n",
            " 2.2400e+00 3.9000e+00 3.0400e+01 3.2570e+01 1.8000e+01 2.3900e+00\n",
            " 6.8500e+00 4.1700e+00 3.1500e+00 5.7300e+00 5.7500e+00 5.5500e+00\n",
            " 4.1000e+00 7.0000e+00 1.4400e+00 6.0000e+02 1.5090e+01 5.8000e+00\n",
            " 4.8000e+00 1.9990e+01 4.1950e+01 2.6600e+00 8.0000e-01 5.6000e-01\n",
            " 7.9000e+01 1.3400e+00 9.5700e+00 2.2700e+00 3.8000e+00 1.6000e+02\n",
            " 6.1000e+00 6.1000e+01 1.7000e+01 5.6000e+01 4.4000e+01 1.6990e+01\n",
            " 1.2700e+01 2.2800e+01 1.6370e+01 6.0000e-01 3.6800e+00 1.3800e+00\n",
            " 3.0500e+00 2.2000e+01 4.7000e-01 4.5000e-01 3.1500e+01 2.1600e+00\n",
            " 4.4200e+00 2.7500e+00 1.6600e+01 1.1400e+01 6.2000e+00 4.0000e-01\n",
            "        nan]\n",
            "Current Unit Price\n",
            "4.00     4.00 %\n",
            "8.00     2.00 %\n",
            "20.00    2.00 %\n",
            "16.00    2.00 %\n",
            "6.00     2.00 %\n",
            "          ...  \n",
            "16.37    0.00 %\n",
            "0.60     0.00 %\n",
            "1.38     0.00 %\n",
            "16.60    0.00 %\n",
            "3.45     0.00 %\n",
            "Name: proportion, Length: 198, dtype: object\n",
            "- float64 -\n",
            "---------------------------\n",
            "> : Target Unit Price ==> : [3.000e+00 1.000e+01 3.600e+00 4.000e+00 4.000e+03 4.500e+00 1.000e+00\n",
            " 1.500e+00 1.000e+03 9.600e-01 2.950e+00 2.275e+01 2.970e+00 8.200e+01\n",
            " 1.398e+01 8.400e+00 7.360e+00 8.410e+00 3.433e+01 1.550e+01 1.324e+01\n",
            " 2.480e+01 5.180e+00 3.500e+01 4.350e+00 6.000e+00 1.200e+01 3.500e+00\n",
            " 2.200e+01 2.000e+00 7.500e+00 6.000e-02 3.900e+01 2.990e+00 1.660e+00\n",
            " 4.900e+00 3.800e+01 2.299e+01 3.100e+00 7.620e+00 7.200e+00 5.320e+00\n",
            " 8.950e+00 1.700e+00 6.500e+00 9.000e+01 6.700e+00 1.200e+00 1.300e+00\n",
            " 8.000e+00 9.800e-01 1.600e+00 2.300e+00 1.550e+00 1.130e+01 1.700e+01\n",
            " 1.500e+01 9.000e+00 5.000e+00 4.100e+00 7.450e+00 9.500e-01 3.460e+00\n",
            " 6.500e+01 6.600e+00 6.150e+00 1.900e+00 7.550e+00 4.950e+00 3.350e+00\n",
            " 4.200e+00 1.000e-01 2.500e+00 2.900e+01 8.990e+00 5.800e+00 1.900e+01\n",
            " 1.400e+01 1.563e+01 2.000e+01 1.600e+01 1.350e+01 3.000e+01 2.300e+01\n",
            " 1.800e+00 7.960e+00 1.750e+00 5.500e+00 5.440e+00 1.250e+01 1.050e+00\n",
            " 1.200e+02 5.000e+01 3.400e+01 4.000e+01 1.800e+02 5.000e-01 1.400e+00\n",
            " 3.200e+00 1.250e+00 1.350e+00 1.480e+00 1.040e+00 8.400e-01 4.000e-02\n",
            " 6.350e+00 3.800e+00 2.200e+00 1.850e+00 5.750e+00 5.850e+00 7.500e-01\n",
            " 9.500e+00 1.080e+00 9.000e-01 2.400e+01 1.330e+00 1.980e+00 1.920e+00\n",
            " 5.350e+00 1.690e+00 1.230e+01 1.600e+02 2.800e+01 1.675e+01 2.100e+00\n",
            " 6.200e+00 2.650e+00 7.000e+00 5.300e+00 5.150e+00 5.000e+02 7.540e+00\n",
            " 1.499e+01 7.200e-01 6.400e-01 4.700e-01 6.000e+01 8.500e+00 1.500e+02\n",
            " 2.500e+01 6.100e+01 5.600e+01 4.400e+01 1.322e+01 1.699e+01 1.870e+01\n",
            " 1.270e+01 1.800e+01 1.637e+01 6.000e-01 1.870e+00 3.650e+00 1.100e+00\n",
            " 6.100e+00 3.000e-01 8.000e-01 6.200e-01 2.700e+01 1.120e+01 5.400e+00\n",
            " 4.000e-01       nan]\n",
            "Target Unit Price\n",
            "3.00     5.00 %\n",
            "1.50     3.00 %\n",
            "3.50     3.00 %\n",
            "4.00     3.00 %\n",
            "1.00     3.00 %\n",
            "          ...  \n",
            "16.37    0.00 %\n",
            "0.60     0.00 %\n",
            "1.87     0.00 %\n",
            "8.95     0.00 %\n",
            "13.98    0.00 %\n",
            "Name: proportion, Length: 162, dtype: object\n",
            "- float64 -\n",
            "---------------------------\n",
            "> : Supply Priority ==> : ['Price' 'None' 'Quality' nan]\n",
            "Supply Priority\n",
            "Price      62.00 %\n",
            "None       23.00 %\n",
            "Quality    14.00 %\n",
            "Name: proportion, dtype: object\n",
            "- object -\n",
            "---------------------------\n",
            "> : Quote Unit Price ==> : [3.50000e+00 1.30000e+01         nan 4.65000e+00 3.88000e+00 2.97000e+00\n",
            " 3.20000e+00 3.51000e+00 2.95000e+00 3.90000e+00 5.00000e+00 4.46000e+00\n",
            " 3.34000e+00 3.55000e+00 3.29000e+00 4.35000e+00 3.12000e+00 3.80000e+03\n",
            " 5.80000e-01 2.77000e+00 1.26000e+00 4.65000e+03 4.20000e+03 1.99000e+00\n",
            " 1.04000e+00 1.35000e+00 6.69000e+00 1.10000e+01 1.31600e+01 9.00000e+01\n",
            " 2.38000e+01 3.50000e+01 8.50000e+00 1.12500e+01 4.43300e+01 4.00000e+01\n",
            " 5.10000e+00 5.80000e+00 5.70000e+00 9.63000e+00 5.58000e+00 2.45000e+00\n",
            " 1.24000e+00 1.02000e+00 2.38000e+00 1.22500e+01 1.50000e+01 7.70000e+01\n",
            " 7.20000e+00 1.30000e+00 2.00000e+00 1.05000e+00 6.70000e+00 3.77000e+00\n",
            " 4.16000e+00 1.66000e+00 1.58000e+00 3.04000e+00 4.12000e+00 7.26000e+00\n",
            " 6.80000e+00 1.00000e+01 1.66300e+01 1.20000e+01 1.38000e+01 1.58500e+01\n",
            " 1.15000e+01 2.50000e+00 3.42000e+00 4.86000e+00 3.65000e+00 3.10000e+00\n",
            " 2.55000e+00 1.62000e+00 1.04500e+01 1.02500e+01 8.06000e+00 9.40000e-01\n",
            " 3.43000e+01 2.10000e+01 8.50000e+01 4.97000e+00 4.10000e+00 3.13000e+00\n",
            " 3.80000e+00 5.25000e+00 2.92000e+00 5.89000e+00 4.95000e+00 1.60000e+00\n",
            " 1.10000e+00 2.76000e+00 1.43000e+00 1.05000e+01 1.23500e+01 5.85000e+00\n",
            " 2.39500e+01 1.13500e+01 1.17500e+01 1.18000e+01 4.06000e+00 7.17000e+00\n",
            " 2.65000e+00 7.19000e+00 4.80000e+00 5.20000e+00 5.81000e+00 1.59000e+00\n",
            " 1.65000e+00 5.66000e+00 6.50000e+00 4.40000e+00 7.11000e+00 5.59500e+01\n",
            " 2.60000e+01 7.50000e+00 6.60000e+00 6.15000e+00 2.26000e+00 2.20000e+00\n",
            " 1.78000e+00 1.53000e+00 4.88000e+00 9.46000e+00 7.15000e+00 5.50000e+00\n",
            " 9.40000e+00 3.25000e+00 4.00000e+00 4.20000e+00 3.50000e-01 1.10000e-01\n",
            " 5.25000e+01 5.65600e+01 1.00990e+02 3.36000e+01 7.84600e+01 9.15200e+01\n",
            " 3.15000e+00 1.50000e+00 1.84000e+00 7.22000e+00 1.80000e+01 4.33500e+01\n",
            " 2.80000e+00 2.78000e+00 4.90000e+00 1.75000e+00 7.35000e+00 5.79000e+00\n",
            " 5.65000e+00 2.05000e+00 5.90000e+00 1.37300e+01 1.16500e+01 9.90400e+01\n",
            " 3.30000e+01 1.40000e+01 8.40000e+00 1.94600e+01 1.09600e+01 1.49500e+01\n",
            " 2.63000e+01 2.20000e+01 3.59500e+01 1.70000e+01 1.55000e+01 2.22500e+01\n",
            " 9.73000e+00 3.93000e+00 2.86000e+00 1.46000e+00 3.60000e+00 8.00000e+00\n",
            " 1.27500e+01 4.50000e+00 5.96000e+00 2.88000e+01 3.10000e+01 1.35300e+01\n",
            " 8.95000e+00 8.60000e+00 1.07500e+01 2.50700e+01 2.65000e+01 1.95000e+01\n",
            " 2.72000e+01 4.50000e+01 5.00000e+01 1.80900e+01 1.17300e+01 1.95000e+00\n",
            " 7.57000e+00 9.24000e+00 4.75000e+00 5.97000e+00 8.70000e+00 8.07000e+00\n",
            " 1.94000e+00 6.50000e+01 4.05000e+00 1.98000e+00 8.52100e+01 9.70000e-01\n",
            " 1.37000e+00 1.68000e+00 1.31000e+00 1.40000e+00 9.90000e-01 1.21000e+00\n",
            " 1.32000e+00 2.29000e+00 6.00000e+00 4.45000e+00 1.49000e+01 3.75000e+00\n",
            " 2.35000e+00 1.47000e+00 1.36000e+00 5.15000e+00 2.66000e+00 3.58000e+00\n",
            " 4.25000e+00 7.36000e+00 6.39000e+00 8.10000e+00 7.25000e+00 8.42000e+00\n",
            " 4.39000e+00 6.55000e+00 6.35000e+00 6.26000e+00 8.15000e+00 7.63000e+00\n",
            " 1.38300e+01 1.45000e+00 1.25000e+00 2.25000e+01 3.84000e+01 3.26000e+01\n",
            " 3.68000e+01 4.40000e+01 1.55600e+01 2.30000e+01 1.65000e+01 3.32000e+00\n",
            " 2.25000e+00 2.47000e+00 2.46000e+00 2.83000e+00 4.91000e+00 8.52000e+00\n",
            " 4.71000e+00 5.62000e+00 5.40000e+00 3.78000e+00 2.71000e+00 5.28000e+00\n",
            " 2.37000e+00 6.45000e+00 2.65500e+01 1.68110e+02 1.25000e+01 1.22000e+01\n",
            " 1.04400e+01 1.99500e+01 1.26000e+01 1.03900e+01 9.50000e+00 1.41100e+01\n",
            " 7.70000e+00 6.10000e+00 6.27000e+00 1.42240e+02 5.30000e+00 3.91000e+00\n",
            " 1.80000e+00 3.00000e+00 3.30000e+00 3.83000e+00 3.76000e+00 1.44000e+00\n",
            " 8.75000e+02 8.21000e+02 1.23000e+03 7.80000e+02 9.80000e-01 9.30000e-01\n",
            " 9.50000e-01 1.79500e+01 6.95000e+00 2.06000e+00 3.70000e+00 7.80000e-01\n",
            " 3.95000e+02 3.60000e+01 1.62500e+01 5.04000e+00 6.14000e+00 2.19000e+00\n",
            " 4.90900e+01 7.50000e+01 6.60000e+01 6.65300e+01 1.36600e+01 9.00000e+00\n",
            " 1.41630e+02 4.41000e+00 1.02700e+01 4.60000e+00 1.10000e+02 1.30000e+02\n",
            " 3.49950e+02 3.82000e+00 2.67900e+01 3.69500e+01 2.89000e+02 2.53000e+01\n",
            " 2.14500e+01 3.90000e+01 2.03500e+01 2.26200e+01 1.70500e+01 1.32000e+01\n",
            " 1.90000e+01 2.09000e+01 2.75000e+01 1.87000e+01 2.40000e+01 1.19000e+01\n",
            " 1.51990e+02 2.00000e+01 1.99800e+01 1.06300e+01 2.44300e+01 4.39995e+03\n",
            " 4.84000e+00 5.45000e+00 2.98000e+00 3.08000e+00 2.00000e-02 3.16000e+00\n",
            " 8.50000e-01 8.00000e-01 8.76000e+00 1.54000e+00 9.95000e+00 1.76889e+03\n",
            " 8.80000e-01 1.70000e+00 7.12000e+00 2.85000e+00 9.00000e-02 4.80000e+01\n",
            " 5.35000e+01 5.63400e+01 1.26000e+02 6.85000e+01 3.80000e+01 6.00000e+01\n",
            " 1.85000e+01 1.46900e+01 8.79000e+00 1.02400e+01 1.23000e+00]\n",
            "Quote Unit Price\n",
            "5.80     1.00 %\n",
            "2.50     1.00 %\n",
            "11.50    1.00 %\n",
            "1.35     1.00 %\n",
            "5.00     1.00 %\n",
            "          ...  \n",
            "26.79    0.00 %\n",
            "36.95    0.00 %\n",
            "0.88     0.00 %\n",
            "10.63    0.00 %\n",
            "24.43    0.00 %\n",
            "Name: proportion, Length: 364, dtype: object\n",
            "- float64 -\n",
            "---------------------------\n",
            "> : Status ==> : ['Available' nan 'Declined' 'Ordered' 'Expired' 'pending_payment'\n",
            " 'Contract Created' 'Proceeded']\n",
            "Status\n",
            "Expired             59.00 %\n",
            "Available           25.00 %\n",
            "Ordered             12.00 %\n",
            "Declined             3.00 %\n",
            "pending_payment      0.00 %\n",
            "Contract Created     0.00 %\n",
            "Proceeded            0.00 %\n",
            "Name: proportion, dtype: object\n",
            "- object -\n",
            "---------------------------\n",
            "> : Decline Reason ==> : ['None' nan 'pricing: Too high' 'pricing'\n",
            " 'pricing,sample_quality: Price not met and no samples available from batch.'\n",
            " 'specification_not_met: Not Certified Organic.'\n",
            " 'specification_not_met: Fibre content is too low'\n",
            " 'other: contains sulphites.  My product is a free from category. The allergen risk is too high.'\n",
            " 'specification_not_met,pricing' 'specification_not_met'\n",
            " 'pricing: Our Current Price per Unit is 1.84'\n",
            " 'pricing: Does not better what we are currently paying.'\n",
            " 'other: must be 100% no added ingredients. Thank you for quoting'\n",
            " 'pricing: Pricing is higher than the option i ended up with.'\n",
            " 'specification_not_met: Seeking ginger pieces not ground'\n",
            " 'pricing: we have better deal currently' 'pricing: way too expnesive'\n",
            " \"pricing: it's too expensive\"\n",
            " 'pricing: Same product available via another distributor cheaper.'\n",
            " 'pricing: We have found much better option'\n",
            " \"pricing: I'm getting castor at sub 80p a kg\"\n",
            " 'pricing: We get icing sugar via a local distributor with a 25kg MOQ at a marginally higher price.'\n",
            " 'pricing: too expensive' 'pricing: pricing and no sampled available'\n",
            " 'pricing: Ridiculous price'\n",
            " 'pricing,incorrect_quantities: Again only need 10kg and so too expensive.'\n",
            " \"pricing: Almost triple what I've been quoted by others.\"\n",
            " 'pricing: I can find it at half this price with a simple online search.'\n",
            " 'incorrect_quantities: I only need 10kg not 100kg'\n",
            " 'other: Same spec as what we are ordering today so no need to have a sample. Thanks'\n",
            " 'pricing: Over double what we pay now.']\n",
            "Decline Reason\n",
            "None                                                                                                 88.00 %\n",
            "pricing                                                                                               6.00 %\n",
            "specification_not_met                                                                                 0.00 %\n",
            "pricing: Too high                                                                                     0.00 %\n",
            "specification_not_met: Not Certified Organic.                                                         0.00 %\n",
            "pricing,sample_quality: Price not met and no samples available from batch.                            0.00 %\n",
            "specification_not_met: Fibre content is too low                                                       0.00 %\n",
            "other: contains sulphites.  My product is a free from category. The allergen risk is too high.        0.00 %\n",
            "specification_not_met,pricing                                                                         0.00 %\n",
            "pricing: Our Current Price per Unit is 1.84                                                           0.00 %\n",
            "pricing: Does not better what we are currently paying.                                                0.00 %\n",
            "other: must be 100% no added ingredients. Thank you for quoting                                       0.00 %\n",
            "pricing: Pricing is higher than the option i ended up with.                                           0.00 %\n",
            "specification_not_met: Seeking ginger pieces not ground                                               0.00 %\n",
            "pricing: we have better deal currently                                                                0.00 %\n",
            "pricing: way too expnesive                                                                            0.00 %\n",
            "pricing: it's too expensive                                                                           0.00 %\n",
            "pricing: Same product available via another distributor cheaper.                                      0.00 %\n",
            "pricing: We have found much better option                                                             0.00 %\n",
            "pricing: I'm getting castor at sub 80p a kg                                                           0.00 %\n",
            "pricing: We get icing sugar via a local distributor with a 25kg MOQ at a marginally higher price.     0.00 %\n",
            "pricing: too expensive                                                                                0.00 %\n",
            "pricing: pricing and no sampled available                                                             0.00 %\n",
            "pricing: Ridiculous price                                                                             0.00 %\n",
            "pricing,incorrect_quantities: Again only need 10kg and so too expensive.                              0.00 %\n",
            "pricing: Almost triple what I've been quoted by others.                                               0.00 %\n",
            "pricing: I can find it at half this price with a simple online search.                                0.00 %\n",
            "incorrect_quantities: I only need 10kg not 100kg                                                      0.00 %\n",
            "other: Same spec as what we are ordering today so no need to have a sample. Thanks                    0.00 %\n",
            "pricing: Over double what we pay now.                                                                 0.00 %\n",
            "Name: proportion, dtype: object\n",
            "- object -\n",
            "---------------------------\n",
            "> : Samples Available ==> : ['Yes' 'No' nan]\n",
            "Samples Available\n",
            "Yes    56.00 %\n",
            "No     44.00 %\n",
            "Name: proportion, dtype: object\n",
            "- object -\n",
            "---------------------------\n",
            "> : Documents Provided ==> : ['No' nan 'Yes']\n",
            "Documents Provided\n",
            "Yes    57.00 %\n",
            "No     43.00 %\n",
            "Name: proportion, dtype: object\n",
            "- object -\n",
            "---------------------------\n",
            "> : Decline Reason New ==> : ['not specified' nan 'pricing' 'others' 'no decline']\n",
            "Decline Reason New\n",
            "not specified    76.00 %\n",
            "no decline       12.00 %\n",
            "pricing          10.00 %\n",
            "others            2.00 %\n",
            "Name: proportion, dtype: object\n",
            "- object -\n",
            "---------------------------\n"
          ]
        }
      ],
      "source": [
        "# merge_outer \n",
        "for col in merge_outer[colonnes_whitout_request_uuid].columns:\n",
        "  unique_value = merge_outer[col].unique()\n",
        "  print(f\"> : {col} ==> : {unique_value}\")\n",
        "\n",
        "  value_counts = merge_outer[col].value_counts(normalize= True).round(2) * 100\n",
        "  value_counts_with_percent = value_counts.map(\"{:.2f} %\".format)\n",
        "\n",
        "  print(value_counts_with_percent)\n",
        "  print(f'- {merge_outer[col].dtypes} -')\n",
        "  print('---------------------------')"
      ]
    },
    {
      "cell_type": "code",
      "execution_count": 890,
      "metadata": {},
      "outputs": [],
      "source": [
        "merge_outer = merge_outer.iloc[:-31]\n"
      ]
    },
    {
      "cell_type": "code",
      "execution_count": 891,
      "metadata": {},
      "outputs": [
        {
          "name": "stdout",
          "output_type": "stream",
          "text": [
            "<class 'pandas.core.frame.DataFrame'>\n",
            "RangeIndex: 600 entries, 0 to 599\n",
            "Data columns (total 10 columns):\n",
            " #   Column              Non-Null Count  Dtype  \n",
            "---  ------              --------------  -----  \n",
            " 0   Request UUID        600 non-null    object \n",
            " 1   Current Unit Price  600 non-null    float64\n",
            " 2   Target Unit Price   600 non-null    float64\n",
            " 3   Supply Priority     600 non-null    object \n",
            " 4   Quote Unit Price    461 non-null    float64\n",
            " 5   Status              461 non-null    object \n",
            " 6   Decline Reason      461 non-null    object \n",
            " 7   Samples Available   461 non-null    object \n",
            " 8   Documents Provided  461 non-null    object \n",
            " 9   Decline Reason New  461 non-null    object \n",
            "dtypes: float64(3), object(7)\n",
            "memory usage: 47.0+ KB\n"
          ]
        }
      ],
      "source": [
        "merge_outer.info()"
      ]
    },
    {
      "cell_type": "markdown",
      "metadata": {},
      "source": [
        "## 4 - 3 - Cleaning NAN"
      ]
    },
    {
      "cell_type": "code",
      "execution_count": 892,
      "metadata": {},
      "outputs": [
        {
          "data": {
            "text/html": [
              "<div>\n",
              "<style scoped>\n",
              "    .dataframe tbody tr th:only-of-type {\n",
              "        vertical-align: middle;\n",
              "    }\n",
              "\n",
              "    .dataframe tbody tr th {\n",
              "        vertical-align: top;\n",
              "    }\n",
              "\n",
              "    .dataframe thead th {\n",
              "        text-align: right;\n",
              "    }\n",
              "</style>\n",
              "<table border=\"1\" class=\"dataframe\">\n",
              "  <thead>\n",
              "    <tr style=\"text-align: right;\">\n",
              "      <th></th>\n",
              "      <th>Request UUID</th>\n",
              "      <th>Current Unit Price</th>\n",
              "      <th>Target Unit Price</th>\n",
              "      <th>Supply Priority</th>\n",
              "      <th>Quote Unit Price</th>\n",
              "      <th>Status</th>\n",
              "      <th>Decline Reason</th>\n",
              "      <th>Samples Available</th>\n",
              "      <th>Documents Provided</th>\n",
              "      <th>Decline Reason New</th>\n",
              "    </tr>\n",
              "  </thead>\n",
              "  <tbody>\n",
              "    <tr>\n",
              "      <th>0</th>\n",
              "      <td>820412eb-8d4d-4d6c-a5e3-cfc977cd6d48</td>\n",
              "      <td>3.5</td>\n",
              "      <td>3.0</td>\n",
              "      <td>Price</td>\n",
              "      <td>3.50</td>\n",
              "      <td>Available</td>\n",
              "      <td>None</td>\n",
              "      <td>Yes</td>\n",
              "      <td>No</td>\n",
              "      <td>not specified</td>\n",
              "    </tr>\n",
              "    <tr>\n",
              "      <th>1</th>\n",
              "      <td>820412eb-8d4d-4d6c-a5e3-cfc977cd6d48</td>\n",
              "      <td>3.5</td>\n",
              "      <td>3.0</td>\n",
              "      <td>Price</td>\n",
              "      <td>13.00</td>\n",
              "      <td>Available</td>\n",
              "      <td>None</td>\n",
              "      <td>No</td>\n",
              "      <td>No</td>\n",
              "      <td>not specified</td>\n",
              "    </tr>\n",
              "    <tr>\n",
              "      <th>2</th>\n",
              "      <td>80501725-52ec-47bc-a3a6-0783011bddba</td>\n",
              "      <td>11.5</td>\n",
              "      <td>10.0</td>\n",
              "      <td>Price</td>\n",
              "      <td>NaN</td>\n",
              "      <td>NaN</td>\n",
              "      <td>NaN</td>\n",
              "      <td>NaN</td>\n",
              "      <td>NaN</td>\n",
              "      <td>NaN</td>\n",
              "    </tr>\n",
              "    <tr>\n",
              "      <th>3</th>\n",
              "      <td>4dedeeb1-12a5-4589-82ee-015e46d85790</td>\n",
              "      <td>3.6</td>\n",
              "      <td>3.6</td>\n",
              "      <td>Price</td>\n",
              "      <td>4.65</td>\n",
              "      <td>Declined</td>\n",
              "      <td>pricing: Too high</td>\n",
              "      <td>No</td>\n",
              "      <td>No</td>\n",
              "      <td>pricing</td>\n",
              "    </tr>\n",
              "    <tr>\n",
              "      <th>4</th>\n",
              "      <td>4dedeeb1-12a5-4589-82ee-015e46d85790</td>\n",
              "      <td>3.6</td>\n",
              "      <td>3.6</td>\n",
              "      <td>Price</td>\n",
              "      <td>3.88</td>\n",
              "      <td>Declined</td>\n",
              "      <td>pricing</td>\n",
              "      <td>No</td>\n",
              "      <td>No</td>\n",
              "      <td>pricing</td>\n",
              "    </tr>\n",
              "  </tbody>\n",
              "</table>\n",
              "</div>"
            ],
            "text/plain": [
              "                           Request UUID  Current Unit Price  \\\n",
              "0  820412eb-8d4d-4d6c-a5e3-cfc977cd6d48                 3.5   \n",
              "1  820412eb-8d4d-4d6c-a5e3-cfc977cd6d48                 3.5   \n",
              "2  80501725-52ec-47bc-a3a6-0783011bddba                11.5   \n",
              "3  4dedeeb1-12a5-4589-82ee-015e46d85790                 3.6   \n",
              "4  4dedeeb1-12a5-4589-82ee-015e46d85790                 3.6   \n",
              "\n",
              "   Target Unit Price Supply Priority  Quote Unit Price     Status  \\\n",
              "0                3.0           Price              3.50  Available   \n",
              "1                3.0           Price             13.00  Available   \n",
              "2               10.0           Price               NaN        NaN   \n",
              "3                3.6           Price              4.65   Declined   \n",
              "4                3.6           Price              3.88   Declined   \n",
              "\n",
              "      Decline Reason Samples Available Documents Provided Decline Reason New  \n",
              "0               None               Yes                 No      not specified  \n",
              "1               None                No                 No      not specified  \n",
              "2                NaN               NaN                NaN                NaN  \n",
              "3  pricing: Too high                No                 No            pricing  \n",
              "4            pricing                No                 No            pricing  "
            ]
          },
          "execution_count": 892,
          "metadata": {},
          "output_type": "execute_result"
        }
      ],
      "source": [
        "merge_outer.head()"
      ]
    },
    {
      "cell_type": "code",
      "execution_count": 893,
      "metadata": {},
      "outputs": [
        {
          "name": "stdout",
          "output_type": "stream",
          "text": [
            "139\n",
            "139\n",
            "139\n",
            "139\n",
            "139\n",
            "139\n"
          ]
        }
      ],
      "source": [
        "# comparaison of row with NAN\n",
        "\n",
        "print(merge_outer['Quote Unit Price'].isna().sum())\n",
        "print(merge_outer['Status'].isna().sum())\n",
        "print(merge_outer['Decline Reason'].isna().sum())\n",
        "print(merge_outer['Samples Available'].isna().sum())\n",
        "print(merge_outer['Documents Provided'].isna().sum())\n",
        "print(merge_outer['Decline Reason New'].isna().sum())"
      ]
    },
    {
      "cell_type": "code",
      "execution_count": 894,
      "metadata": {},
      "outputs": [],
      "source": [
        "# repalce NaN with : \"no quote\"\n",
        "\n",
        "cols_no_quote = ['Quote Unit Price', 'Status', 'Decline Reason', 'Samples Available', 'Documents Provided', 'Decline Reason New']\n",
        "merge_outer[cols_no_quote] = merge_outer[cols_no_quote].fillna('no quote')"
      ]
    },
    {
      "cell_type": "code",
      "execution_count": 895,
      "metadata": {},
      "outputs": [
        {
          "data": {
            "text/plain": [
              "Request UUID          0\n",
              "Current Unit Price    0\n",
              "Target Unit Price     0\n",
              "Supply Priority       0\n",
              "Quote Unit Price      0\n",
              "Status                0\n",
              "Decline Reason        0\n",
              "Samples Available     0\n",
              "Documents Provided    0\n",
              "Decline Reason New    0\n",
              "dtype: int64"
            ]
          },
          "execution_count": 895,
          "metadata": {},
          "output_type": "execute_result"
        }
      ],
      "source": [
        "merge_outer.isna().sum()"
      ]
    },
    {
      "cell_type": "code",
      "execution_count": 896,
      "metadata": {},
      "outputs": [
        {
          "name": "stdout",
          "output_type": "stream",
          "text": [
            "139 of requests are no quotes, either : 23 %\n"
          ]
        }
      ],
      "source": [
        "requests_without_quotes = (merge_outer['Quote Unit Price'] == 'no quote').sum()\n",
        "print(requests_without_quotes, \"of requests are no quotes, either :\", round(requests_without_quotes / merge_outer.shape[0] * 100),\"%\")"
      ]
    },
    {
      "cell_type": "code",
      "execution_count": 898,
      "metadata": {},
      "outputs": [],
      "source": [
        "# delete row where \"Satus\" = 'no quote'\n",
        "merge_outer = merge_outer[merge_outer['Status'] != 'no quote']"
      ]
    },
    {
      "cell_type": "markdown",
      "metadata": {},
      "source": [
        "## 4 - 4 - Analysis"
      ]
    },
    {
      "cell_type": "markdown",
      "metadata": {},
      "source": [
        "* new column : \"comp_target_price\" with values :\n",
        "  * **high** : Price provided by the supplier > Price requested by customer\n",
        "  * **egal** : Price provided by the supplier = Price requested by customer\n",
        "  * **low**  : Price provided by the supplier < Price requested by customer\n"
      ]
    },
    {
      "cell_type": "code",
      "execution_count": 914,
      "metadata": {},
      "outputs": [
        {
          "data": {
            "text/html": [
              "<div>\n",
              "<style scoped>\n",
              "    .dataframe tbody tr th:only-of-type {\n",
              "        vertical-align: middle;\n",
              "    }\n",
              "\n",
              "    .dataframe tbody tr th {\n",
              "        vertical-align: top;\n",
              "    }\n",
              "\n",
              "    .dataframe thead th {\n",
              "        text-align: right;\n",
              "    }\n",
              "</style>\n",
              "<table border=\"1\" class=\"dataframe\">\n",
              "  <thead>\n",
              "    <tr style=\"text-align: right;\">\n",
              "      <th></th>\n",
              "      <th>Request UUID</th>\n",
              "      <th>Current Unit Price</th>\n",
              "      <th>Target Unit Price</th>\n",
              "      <th>Supply Priority</th>\n",
              "      <th>Quote Unit Price</th>\n",
              "      <th>Status</th>\n",
              "      <th>Decline Reason</th>\n",
              "      <th>Samples Available</th>\n",
              "      <th>Documents Provided</th>\n",
              "      <th>Decline Reason New</th>\n",
              "      <th>comp_target_price</th>\n",
              "    </tr>\n",
              "  </thead>\n",
              "  <tbody>\n",
              "    <tr>\n",
              "      <th>0</th>\n",
              "      <td>820412eb-8d4d-4d6c-a5e3-cfc977cd6d48</td>\n",
              "      <td>3.5</td>\n",
              "      <td>3.0</td>\n",
              "      <td>Price</td>\n",
              "      <td>3.50</td>\n",
              "      <td>Available</td>\n",
              "      <td>None</td>\n",
              "      <td>Yes</td>\n",
              "      <td>No</td>\n",
              "      <td>not specified</td>\n",
              "      <td>high</td>\n",
              "    </tr>\n",
              "    <tr>\n",
              "      <th>1</th>\n",
              "      <td>820412eb-8d4d-4d6c-a5e3-cfc977cd6d48</td>\n",
              "      <td>3.5</td>\n",
              "      <td>3.0</td>\n",
              "      <td>Price</td>\n",
              "      <td>13.00</td>\n",
              "      <td>Available</td>\n",
              "      <td>None</td>\n",
              "      <td>No</td>\n",
              "      <td>No</td>\n",
              "      <td>not specified</td>\n",
              "      <td>high</td>\n",
              "    </tr>\n",
              "    <tr>\n",
              "      <th>3</th>\n",
              "      <td>4dedeeb1-12a5-4589-82ee-015e46d85790</td>\n",
              "      <td>3.6</td>\n",
              "      <td>3.6</td>\n",
              "      <td>Price</td>\n",
              "      <td>4.65</td>\n",
              "      <td>Declined</td>\n",
              "      <td>pricing: Too high</td>\n",
              "      <td>No</td>\n",
              "      <td>No</td>\n",
              "      <td>pricing</td>\n",
              "      <td>high</td>\n",
              "    </tr>\n",
              "    <tr>\n",
              "      <th>4</th>\n",
              "      <td>4dedeeb1-12a5-4589-82ee-015e46d85790</td>\n",
              "      <td>3.6</td>\n",
              "      <td>3.6</td>\n",
              "      <td>Price</td>\n",
              "      <td>3.88</td>\n",
              "      <td>Declined</td>\n",
              "      <td>pricing</td>\n",
              "      <td>No</td>\n",
              "      <td>No</td>\n",
              "      <td>pricing</td>\n",
              "      <td>high</td>\n",
              "    </tr>\n",
              "    <tr>\n",
              "      <th>5</th>\n",
              "      <td>4dedeeb1-12a5-4589-82ee-015e46d85790</td>\n",
              "      <td>3.6</td>\n",
              "      <td>3.6</td>\n",
              "      <td>Price</td>\n",
              "      <td>2.97</td>\n",
              "      <td>Available</td>\n",
              "      <td>None</td>\n",
              "      <td>Yes</td>\n",
              "      <td>Yes</td>\n",
              "      <td>not specified</td>\n",
              "      <td>low</td>\n",
              "    </tr>\n",
              "  </tbody>\n",
              "</table>\n",
              "</div>"
            ],
            "text/plain": [
              "                           Request UUID  Current Unit Price  \\\n",
              "0  820412eb-8d4d-4d6c-a5e3-cfc977cd6d48                 3.5   \n",
              "1  820412eb-8d4d-4d6c-a5e3-cfc977cd6d48                 3.5   \n",
              "3  4dedeeb1-12a5-4589-82ee-015e46d85790                 3.6   \n",
              "4  4dedeeb1-12a5-4589-82ee-015e46d85790                 3.6   \n",
              "5  4dedeeb1-12a5-4589-82ee-015e46d85790                 3.6   \n",
              "\n",
              "   Target Unit Price Supply Priority  Quote Unit Price     Status  \\\n",
              "0                3.0           Price              3.50  Available   \n",
              "1                3.0           Price             13.00  Available   \n",
              "3                3.6           Price              4.65   Declined   \n",
              "4                3.6           Price              3.88   Declined   \n",
              "5                3.6           Price              2.97  Available   \n",
              "\n",
              "      Decline Reason Samples Available Documents Provided Decline Reason New  \\\n",
              "0               None               Yes                 No      not specified   \n",
              "1               None                No                 No      not specified   \n",
              "3  pricing: Too high                No                 No            pricing   \n",
              "4            pricing                No                 No            pricing   \n",
              "5               None               Yes                Yes      not specified   \n",
              "\n",
              "  comp_target_price  \n",
              "0              high  \n",
              "1              high  \n",
              "3              high  \n",
              "4              high  \n",
              "5               low  "
            ]
          },
          "execution_count": 914,
          "metadata": {},
          "output_type": "execute_result"
        }
      ],
      "source": [
        "merge_outer.head()"
      ]
    },
    {
      "cell_type": "code",
      "execution_count": 899,
      "metadata": {},
      "outputs": [],
      "source": [
        "# new column to compare Quote Unit Price and Target Unit Price\t\n",
        "merge_outer['Quote Unit Price'] = merge_outer['Quote Unit Price'].astype(float)\n",
        "\n",
        "# instructoin of column\n",
        "def compare_price_target_quote(price):\n",
        "    if price['Target Unit Price'] == price['Quote Unit Price']:\n",
        "        return 'egal'\n",
        "    elif price['Quote Unit Price'] < price['Target Unit Price']:\n",
        "        return 'low'\n",
        "    elif price['Quote Unit Price'] > price['Target Unit Price']:\n",
        "        return 'high'\n",
        "\n",
        "\n",
        "merge_outer['comp_target_price'] = merge_outer.apply(compare_price_target_quote, axis=1)"
      ]
    },
    {
      "cell_type": "markdown",
      "metadata": {},
      "source": [
        "### Graph : **Status** depend if **Samples** and **Documents Provided** are available"
      ]
    },
    {
      "cell_type": "markdown",
      "metadata": {},
      "source": [
        "* In this section we want to illustrate the order statuses : \n",
        "  * according to the presence or not of the **documents provided **\n",
        "  * according to the presence or not of the **samples**"
      ]
    },
    {
      "cell_type": "code",
      "execution_count": 900,
      "metadata": {},
      "outputs": [
        {
          "name": "stdout",
          "output_type": "stream",
          "text": [
            "Document Provided Yes : Status\n",
            "Expired             56.981132\n",
            "Available           23.396226\n",
            "Ordered             13.962264\n",
            "Declined             4.905660\n",
            "Contract Created     0.377358\n",
            "Proceeded            0.377358\n",
            "Name: proportion, dtype: float64\n",
            "---------------------------------------\n",
            "Document Provided No : Status\n",
            "Expired            60.714286\n",
            "Available          26.530612\n",
            "Ordered            10.204082\n",
            "Declined            2.040816\n",
            "pending_payment     0.510204\n",
            "Name: proportion, dtype: float64\n"
          ]
        }
      ],
      "source": [
        "# type of status depends on result of \"Document Provided\"\n",
        "\n",
        "doc_prov_yes_df = merge_outer[merge_outer['Documents Provided'] == 'Yes']\n",
        "doc_prov_no_df = merge_outer[merge_outer['Documents Provided'] == 'No']\n",
        "\n",
        "doc_prov_yes_counts = doc_prov_yes_df['Status'].value_counts(normalize=True) * 100\n",
        "doc_prov_no_counts = doc_prov_no_df['Status'].value_counts(normalize=True) * 100\n",
        "\n",
        "print(\"Document Provided Yes :\",doc_prov_yes_counts)\n",
        "print(\"---------------------------------------\")\n",
        "print(\"Document Provided No :\",doc_prov_no_counts)\n",
        "\n"
      ]
    },
    {
      "cell_type": "code",
      "execution_count": 901,
      "metadata": {},
      "outputs": [
        {
          "data": {
            "image/png": "[encoded data removed]",
            "text/plain": [
              "<Figure size 600x400 with 1 Axes>"
            ]
          },
          "metadata": {},
          "output_type": "display_data"
        }
      ],
      "source": [
        "\n",
        "# Sum for each condition\n",
        "total_yes = doc_prov_yes_counts.sum()\n",
        "total_no = doc_prov_no_counts.sum()\n",
        "\n",
        "# Format label\n",
        "def percentage_formatter(x, pos):\n",
        "    return f'{x:.1f}%'\n",
        "\n",
        "\n",
        "fig, ax = plt.subplots(figsize=(6, 4))\n",
        "\n",
        "# Document Provided: Yes\n",
        "doc_prov_yes_counts_percentage = doc_prov_yes_counts / total_yes * 100\n",
        "doc_prov_yes_counts_percentage.plot(kind='bar', position=0, width=0.4, color='skyblue', label='Document Provided: Yes', align='center')\n",
        "ax.bar_label(ax.containers[0], fmt='%.1f%%', label_type='edge', fontsize=8)\n",
        "\n",
        "# Document Provided: No\n",
        "doc_prov_no_counts_percentage = doc_prov_no_counts / total_no * 100\n",
        "doc_prov_no_counts_percentage.plot(kind='bar', position=1, width=0.4, color='lightcoral', label='Document Provided: No', align='edge')\n",
        "ax.bar_label(ax.containers[1], fmt='%.1f%%', label_type='edge', fontsize=8)\n",
        "\n",
        "ax.set_title('Status Occurrences based on Documents Provided')\n",
        "ax.set_ylabel('Percentage')\n",
        "ax.set_xlabel('Status')\n",
        "ax.legend()\n",
        "\n",
        "plt.show()\n"
      ]
    },
    {
      "cell_type": "code",
      "execution_count": 902,
      "metadata": {},
      "outputs": [
        {
          "name": "stdout",
          "output_type": "stream",
          "text": [
            "Samples Available Yes : Status\n",
            "Expired             55.384615\n",
            "Available           31.153846\n",
            "Ordered              8.846154\n",
            "Declined             3.846154\n",
            "Contract Created     0.384615\n",
            "Proceeded            0.384615\n",
            "Name: proportion, dtype: float64\n",
            "---------------------------------------\n",
            "Samples Available No  : Status\n",
            "Expired            62.686567\n",
            "Ordered            16.915423\n",
            "Available          16.417910\n",
            "Declined            3.482587\n",
            "pending_payment     0.497512\n",
            "Name: proportion, dtype: float64\n"
          ]
        }
      ],
      "source": [
        "# type of status depends on result of \"Samples Available\"\n",
        "\n",
        "samp_avail_yes_df = merge_outer[merge_outer['Samples Available'] == 'Yes']\n",
        "samp_avail_no_df = merge_outer[merge_outer['Samples Available'] == 'No']\n",
        "\n",
        "samp_avail_yes_counts = samp_avail_yes_df['Status'].value_counts(normalize=True) * 100\n",
        "samp_avail_no_counts = samp_avail_no_df['Status'].value_counts(normalize=True) * 100\n",
        "\n",
        "print(\"Samples Available Yes :\",samp_avail_yes_counts)\n",
        "print(\"---------------------------------------\")\n",
        "print(\"Samples Available No  :\",samp_avail_no_counts)"
      ]
    },
    {
      "cell_type": "code",
      "execution_count": 903,
      "metadata": {},
      "outputs": [
        {
          "data": {
            "image/png": "[encoded data removed]",
            "text/plain": [
              "<Figure size 600x400 with 1 Axes>"
            ]
          },
          "metadata": {},
          "output_type": "display_data"
        }
      ],
      "source": [
        "\n",
        "# Sum for each condition\n",
        "total_yes = samp_avail_yes_counts.sum()\n",
        "total_no = samp_avail_no_counts.sum()\n",
        "\n",
        "# Format label\n",
        "def percentage_formatter(x, pos):\n",
        "    return f'{x:.1f}%'\n",
        "\n",
        "\n",
        "fig, ax = plt.subplots(figsize=(6, 4))\n",
        "\n",
        "# Samples Available: Yes\n",
        "doc_prov_yes_counts_percentage = samp_avail_yes_counts / total_yes * 100\n",
        "doc_prov_yes_counts_percentage.plot(kind='bar', position=0, width=0.4, color='skyblue', label='Samples Available: Yes', align='center')\n",
        "ax.bar_label(ax.containers[0], fmt='%.1f%%', label_type='edge', fontsize=8)\n",
        "\n",
        "# Samples Available: No\n",
        "doc_prov_no_counts_percentage = samp_avail_no_counts / total_no * 100\n",
        "doc_prov_no_counts_percentage.plot(kind='bar', position=1, width=0.4, color='lightcoral', label='Samples Available: No', align='edge')\n",
        "ax.bar_label(ax.containers[1], fmt='%.1f%%', label_type='edge', fontsize=8)\n",
        "\n",
        "ax.set_title('Status Occurrences based on Samples Available')\n",
        "ax.set_ylabel('Percentage')\n",
        "ax.set_xlabel('Status')\n",
        "ax.legend()\n",
        "\n",
        "plt.show()\n"
      ]
    },
    {
      "cell_type": "markdown",
      "metadata": {},
      "source": [
        "* When \"Document Provided\" are available Ordered increase of 4% \n",
        "* When \"Samples are Available\" Ordered are multiplied by 2"
      ]
    },
    {
      "cell_type": "markdown",
      "metadata": {},
      "source": [
        "### Graph : **Status** of the quotation, in relation to the price proposed by the supplier and the price requested by the customer\n"
      ]
    },
    {
      "cell_type": "markdown",
      "metadata": {},
      "source": [
        "* in this section we want to highlight the statuses of orders according to the prices requested by customers and the prices offered by customers\n",
        "* divided into 3 sections high, equal, low"
      ]
    },
    {
      "cell_type": "code",
      "execution_count": 904,
      "metadata": {},
      "outputs": [
        {
          "name": "stdout",
          "output_type": "stream",
          "text": [
            "Quote Unit Price > Target Unit Price: Status\n",
            "Expired      66.233766\n",
            "Available    21.428571\n",
            "Ordered       7.792208\n",
            "Declined      4.545455\n",
            "Name: proportion, dtype: float64\n",
            "---------------------------------------\n",
            "Quote Unit Price = Target Unit Price: Status\n",
            "Ordered      85.714286\n",
            "Available    14.285714\n",
            "Name: proportion, dtype: float64\n",
            "---------------------------------------\n",
            "Quote Unit Price < Target Unit Price: Status\n",
            "Expired             45.205479\n",
            "Available           32.191781\n",
            "Ordered             18.493151\n",
            "Declined             2.054795\n",
            "pending_payment      0.684932\n",
            "Contract Created     0.684932\n",
            "Proceeded            0.684932\n",
            "Name: proportion, dtype: float64\n"
          ]
        }
      ],
      "source": [
        "# type of status depends on type of \"comp_target_price\"\n",
        "\n",
        "comp_target_price_high_df = merge_outer[merge_outer['comp_target_price'] == 'high']\n",
        "comp_target_price_egal_df = merge_outer[merge_outer['comp_target_price'] == 'egal']\n",
        "comp_target_price_low_df = merge_outer[merge_outer['comp_target_price'] == 'low']\n",
        "\n",
        "\n",
        "comp_target_price_high_df_count = comp_target_price_high_df['Status'].value_counts(normalize=True) * 100\n",
        "comp_target_price_egal_df_count = comp_target_price_egal_df['Status'].value_counts(normalize=True) * 100\n",
        "comp_target_price_low_df_count = comp_target_price_low_df['Status'].value_counts(normalize=True) * 100\n",
        "\n",
        "\n",
        "print(\"Quote Unit Price > Target Unit Price:\",comp_target_price_high_df_count)\n",
        "print(\"---------------------------------------\")\n",
        "print(\"Quote Unit Price = Target Unit Price:\",comp_target_price_egal_df_count)\n",
        "print(\"---------------------------------------\")\n",
        "print(\"Quote Unit Price < Target Unit Price:\",comp_target_price_low_df_count)\n"
      ]
    },
    {
      "cell_type": "code",
      "execution_count": 905,
      "metadata": {},
      "outputs": [
        {
          "data": {
            "text/html": [
              "<div>\n",
              "<style scoped>\n",
              "    .dataframe tbody tr th:only-of-type {\n",
              "        vertical-align: middle;\n",
              "    }\n",
              "\n",
              "    .dataframe tbody tr th {\n",
              "        vertical-align: top;\n",
              "    }\n",
              "\n",
              "    .dataframe thead th {\n",
              "        text-align: right;\n",
              "    }\n",
              "</style>\n",
              "<table border=\"1\" class=\"dataframe\">\n",
              "  <thead>\n",
              "    <tr style=\"text-align: right;\">\n",
              "      <th></th>\n",
              "      <th>high</th>\n",
              "      <th>egal</th>\n",
              "      <th>low</th>\n",
              "    </tr>\n",
              "    <tr>\n",
              "      <th>Status</th>\n",
              "      <th></th>\n",
              "      <th></th>\n",
              "      <th></th>\n",
              "    </tr>\n",
              "  </thead>\n",
              "  <tbody>\n",
              "    <tr>\n",
              "      <th>Expired</th>\n",
              "      <td>66.233766</td>\n",
              "      <td>NaN</td>\n",
              "      <td>45.205479</td>\n",
              "    </tr>\n",
              "    <tr>\n",
              "      <th>Available</th>\n",
              "      <td>21.428571</td>\n",
              "      <td>14.285714</td>\n",
              "      <td>32.191781</td>\n",
              "    </tr>\n",
              "    <tr>\n",
              "      <th>Ordered</th>\n",
              "      <td>7.792208</td>\n",
              "      <td>85.714286</td>\n",
              "      <td>18.493151</td>\n",
              "    </tr>\n",
              "    <tr>\n",
              "      <th>Declined</th>\n",
              "      <td>4.545455</td>\n",
              "      <td>NaN</td>\n",
              "      <td>2.054795</td>\n",
              "    </tr>\n",
              "    <tr>\n",
              "      <th>pending_payment</th>\n",
              "      <td>NaN</td>\n",
              "      <td>NaN</td>\n",
              "      <td>0.684932</td>\n",
              "    </tr>\n",
              "    <tr>\n",
              "      <th>Contract Created</th>\n",
              "      <td>NaN</td>\n",
              "      <td>NaN</td>\n",
              "      <td>0.684932</td>\n",
              "    </tr>\n",
              "    <tr>\n",
              "      <th>Proceeded</th>\n",
              "      <td>NaN</td>\n",
              "      <td>NaN</td>\n",
              "      <td>0.684932</td>\n",
              "    </tr>\n",
              "  </tbody>\n",
              "</table>\n",
              "</div>"
            ],
            "text/plain": [
              "                       high       egal        low\n",
              "Status                                           \n",
              "Expired           66.233766        NaN  45.205479\n",
              "Available         21.428571  14.285714  32.191781\n",
              "Ordered            7.792208  85.714286  18.493151\n",
              "Declined           4.545455        NaN   2.054795\n",
              "pending_payment         NaN        NaN   0.684932\n",
              "Contract Created        NaN        NaN   0.684932\n",
              "Proceeded               NaN        NaN   0.684932"
            ]
          },
          "execution_count": 905,
          "metadata": {},
          "output_type": "execute_result"
        }
      ],
      "source": [
        "\n",
        "# Créer les DataFrames à partir des résultats imprimés\n",
        "data_high = {'high': comp_target_price_high_df_count,}\n",
        "data_egal = {'egal': comp_target_price_egal_df_count,}\n",
        "data_low = {'low': comp_target_price_low_df_count,}\n",
        "\n",
        "# Créer les DataFrames\n",
        "df_high = pd.DataFrame(data_high)\n",
        "df_egal = pd.DataFrame(data_egal)\n",
        "df_low = pd.DataFrame(data_low)\n",
        "\n",
        "# Concaténer les trois DataFrames le long de l'axe des colonnes\n",
        "result_df = pd.concat([df_high, df_egal, df_low], axis=1)\n",
        "\n",
        "# Afficher le DataFrame résultant\n",
        "result_df\n",
        "\n"
      ]
    },
    {
      "cell_type": "code",
      "execution_count": 906,
      "metadata": {},
      "outputs": [],
      "source": [
        "result_df_grouped = result_df.fillna(0)"
      ]
    },
    {
      "cell_type": "code",
      "execution_count": 907,
      "metadata": {},
      "outputs": [
        {
          "data": {
            "image/png": "[encoded data removed]",
            "text/plain": [
              "<Figure size 600x400 with 1 Axes>"
            ]
          },
          "metadata": {},
          "output_type": "display_data"
        }
      ],
      "source": [
        "# Remplacer les NaN par 0 pour le tracé\n",
        "result_df_grouped = result_df_grouped.fillna(0)\n",
        "\n",
        "# Tracer le diagramme à barres empilées\n",
        "result_df_grouped.T.plot(kind='bar', stacked=True, figsize=(6, 4))\n",
        "\n",
        "# Ajouter des étiquettes et un titre\n",
        "plt.xlabel('comp_target_price')\n",
        "plt.ylabel('Pourcentage')\n",
        "plt.title('Stacked bar chart of Status as a function of comp_target_price (difference between Quote Unit Price and Target Unit Price)')\n",
        "\n",
        "# Afficher le tracé\n",
        "plt.show()\n"
      ]
    },
    {
      "cell_type": "markdown",
      "metadata": {},
      "source": [
        "* ['Target Unit Price'] == price['Quote Unit Price']  ==> 'egal'\n",
        "\n",
        "* ['Quote Unit Price'] < price['Target Unit Price']:  ==> 'low'\n",
        "\n",
        "* ['Quote Unit Price'] > price['Target Unit Price']:  ==> 'high'\n"
      ]
    },
    {
      "cell_type": "markdown",
      "metadata": {},
      "source": [
        "* if the supplier give a price (\"Quote Unit Price\") egal or lower than price of custumer (\"Target Unit Price\"), the number of orders \"Ordered\" is increasing and the number of \"Declined\" is decreasing "
      ]
    },
    {
      "cell_type": "markdown",
      "metadata": {},
      "source": [
        "### Graph : **Satus** of the quotation if **Sample are Available** and **price between Supplier and Customer**"
      ]
    },
    {
      "cell_type": "markdown",
      "metadata": {},
      "source": [
        "* In this section we analyze the order status when samples are available, to see if we find a link between the price combination and the availability of samples"
      ]
    },
    {
      "cell_type": "code",
      "execution_count": 908,
      "metadata": {},
      "outputs": [
        {
          "name": "stdout",
          "output_type": "stream",
          "text": [
            "status_occurrences_high : Status\n",
            "Expired      61.676647\n",
            "Available    25.149701\n",
            "Ordered       8.383234\n",
            "Declined      4.790419\n",
            "Name: proportion, dtype: float64\n",
            "---------------------------------------\n",
            "status_occurrences_egal : Status\n",
            "Ordered    100.0\n",
            "Name: proportion, dtype: float64\n",
            "---------------------------------------\n",
            "status_occurrences_low  : Status\n",
            "Expired             44.565217\n",
            "Available           42.391304\n",
            "Ordered              8.695652\n",
            "Declined             2.173913\n",
            "Contract Created     1.086957\n",
            "Proceeded            1.086957\n",
            "Name: proportion, dtype: float64\n"
          ]
        }
      ],
      "source": [
        "# If Samples are available , compare status for the diffrence of price between Target Unit Price and Quote Unit Price\t\n",
        "sampl_avail_and_high = merge_outer[(merge_outer['Samples Available'] == 'Yes') & (merge_outer['comp_target_price'] == 'high')]\n",
        "sampl_avail_and_egal = merge_outer[(merge_outer['Samples Available'] == 'Yes') & (merge_outer['comp_target_price'] == 'egal')]\n",
        "sampl_avail_and_low = merge_outer[(merge_outer['Samples Available'] == 'Yes') & (merge_outer['comp_target_price'] == 'low')]\n",
        "\n",
        "# Compter les occurrences de chaque valeur dans la colonne 'Status'\n",
        "status_occurrences_high = sampl_avail_and_high['Status'].value_counts(normalize=True) * 100\n",
        "status_occurrences_egal = sampl_avail_and_egal['Status'].value_counts(normalize=True) * 100\n",
        "status_occurrences_low = sampl_avail_and_low['Status'].value_counts(normalize=True) * 100\n",
        "\n",
        "\n",
        "# Afficher les occurrences de status\n",
        "print(\"status_occurrences_high :\", status_occurrences_high)\n",
        "print(\"---------------------------------------\")\n",
        "print(\"status_occurrences_egal :\", status_occurrences_egal)\n",
        "print(\"---------------------------------------\")\n",
        "print(\"status_occurrences_low  :\", status_occurrences_low)"
      ]
    },
    {
      "cell_type": "markdown",
      "metadata": {},
      "source": [
        "* the combination of samples and prices offered below the prices requested is not significant \n",
        "* for a higher price and a lower price the orders placed are 8%. "
      ]
    },
    {
      "cell_type": "markdown",
      "metadata": {},
      "source": [
        "### Graph : **Status** of the quotation if **Document Available** and **price between Supplier and Customer**"
      ]
    },
    {
      "cell_type": "markdown",
      "metadata": {},
      "source": [
        "* In this section we analyze the order status when document provided are available, to see if we find a link between the price combination and the availability of document provided"
      ]
    },
    {
      "cell_type": "code",
      "execution_count": 912,
      "metadata": {},
      "outputs": [
        {
          "name": "stdout",
          "output_type": "stream",
          "text": [
            "status_occurrences_high : Status\n",
            "Expired      63.541667\n",
            "Available    21.875000\n",
            "Ordered       8.854167\n",
            "Declined      5.729167\n",
            "Name: proportion, dtype: float64\n",
            "---------------------------------------\n",
            "status_occurrences_egal : Status\n",
            "Ordered    100.0\n",
            "Name: proportion, dtype: float64\n",
            "---------------------------------------\n",
            "status_occurrences_low  : Status\n",
            "Expired             41.428571\n",
            "Available           28.571429\n",
            "Ordered             24.285714\n",
            "Declined             2.857143\n",
            "Contract Created     1.428571\n",
            "Proceeded            1.428571\n",
            "Name: proportion, dtype: float64\n"
          ]
        }
      ],
      "source": [
        "# If Samples are available , compare status for the diffrence of price between Target Unit Price and Quote Unit Price\t\n",
        "doc_provid_and_high = merge_outer[(merge_outer['Documents Provided'] == 'Yes') & (merge_outer['comp_target_price'] == 'high')]\n",
        "doc_provid_and_egal = merge_outer[(merge_outer['Documents Provided'] == 'Yes') & (merge_outer['comp_target_price'] == 'egal')]\n",
        "doc_provid_and_low = merge_outer[(merge_outer['Documents Provided'] == 'Yes') & (merge_outer['comp_target_price'] == 'low')]\n",
        "\n",
        "# Compter les occurrences de chaque valeur dans la colonne 'Status'\n",
        "status_occurrences_high_ = doc_provid_and_high['Status'].value_counts(normalize=True) * 100\n",
        "status_occurrences_egal_ = doc_provid_and_egal['Status'].value_counts(normalize=True) * 100\n",
        "status_occurrences_low_ = doc_provid_and_low['Status'].value_counts(normalize=True) * 100\n",
        "\n",
        "\n",
        "# Afficher les occurrences de status\n",
        "print(\"status_occurrences_high :\", status_occurrences_high_)\n",
        "print(\"---------------------------------------\")\n",
        "print(\"status_occurrences_egal :\", status_occurrences_egal_)\n",
        "print(\"---------------------------------------\")\n",
        "print(\"status_occurrences_low  :\", status_occurrences_low_)"
      ]
    },
    {
      "cell_type": "code",
      "execution_count": 910,
      "metadata": {},
      "outputs": [
        {
          "data": {
            "text/html": [
              "<div>\n",
              "<style scoped>\n",
              "    .dataframe tbody tr th:only-of-type {\n",
              "        vertical-align: middle;\n",
              "    }\n",
              "\n",
              "    .dataframe tbody tr th {\n",
              "        vertical-align: top;\n",
              "    }\n",
              "\n",
              "    .dataframe thead th {\n",
              "        text-align: right;\n",
              "    }\n",
              "</style>\n",
              "<table border=\"1\" class=\"dataframe\">\n",
              "  <thead>\n",
              "    <tr style=\"text-align: right;\">\n",
              "      <th></th>\n",
              "      <th>high</th>\n",
              "      <th>egal</th>\n",
              "      <th>low</th>\n",
              "    </tr>\n",
              "    <tr>\n",
              "      <th>Status</th>\n",
              "      <th></th>\n",
              "      <th></th>\n",
              "      <th></th>\n",
              "    </tr>\n",
              "  </thead>\n",
              "  <tbody>\n",
              "    <tr>\n",
              "      <th>Expired</th>\n",
              "      <td>63.541667</td>\n",
              "      <td>0.0</td>\n",
              "      <td>41.428571</td>\n",
              "    </tr>\n",
              "    <tr>\n",
              "      <th>Available</th>\n",
              "      <td>21.875000</td>\n",
              "      <td>0.0</td>\n",
              "      <td>28.571429</td>\n",
              "    </tr>\n",
              "    <tr>\n",
              "      <th>Ordered</th>\n",
              "      <td>8.854167</td>\n",
              "      <td>100.0</td>\n",
              "      <td>24.285714</td>\n",
              "    </tr>\n",
              "    <tr>\n",
              "      <th>Declined</th>\n",
              "      <td>5.729167</td>\n",
              "      <td>0.0</td>\n",
              "      <td>2.857143</td>\n",
              "    </tr>\n",
              "    <tr>\n",
              "      <th>Contract Created</th>\n",
              "      <td>0.000000</td>\n",
              "      <td>0.0</td>\n",
              "      <td>1.428571</td>\n",
              "    </tr>\n",
              "    <tr>\n",
              "      <th>Proceeded</th>\n",
              "      <td>0.000000</td>\n",
              "      <td>0.0</td>\n",
              "      <td>1.428571</td>\n",
              "    </tr>\n",
              "  </tbody>\n",
              "</table>\n",
              "</div>"
            ],
            "text/plain": [
              "                       high   egal        low\n",
              "Status                                       \n",
              "Expired           63.541667    0.0  41.428571\n",
              "Available         21.875000    0.0  28.571429\n",
              "Ordered            8.854167  100.0  24.285714\n",
              "Declined           5.729167    0.0   2.857143\n",
              "Contract Created   0.000000    0.0   1.428571\n",
              "Proceeded          0.000000    0.0   1.428571"
            ]
          },
          "execution_count": 910,
          "metadata": {},
          "output_type": "execute_result"
        }
      ],
      "source": [
        "doc_price_high = {'high': status_occurrences_high_,}\n",
        "doc_price_egal = {'egal': status_occurrences_egal_,}\n",
        "doc_price_low = {'low': status_occurrences_low_,}\n",
        "\n",
        "# Create DataFrames\n",
        "doc_price_high_df = pd.DataFrame(doc_price_high)\n",
        "doc_price_egal_df = pd.DataFrame(doc_price_egal)\n",
        "doc_price_low_df = pd.DataFrame(doc_price_low)\n",
        "\n",
        "# Concat df\n",
        "result_doc_price = pd.concat([doc_price_high_df, doc_price_egal_df, doc_price_low_df], axis=1)\n",
        "\n",
        "result_doc_price = result_doc_price.fillna(0)\n",
        "\n",
        "result_doc_price\n"
      ]
    },
    {
      "cell_type": "code",
      "execution_count": 911,
      "metadata": {},
      "outputs": [
        {
          "data": {
            "image/png": "[encoded data removed]",
            "text/plain": [
              "<Figure size 600x400 with 1 Axes>"
            ]
          },
          "metadata": {},
          "output_type": "display_data"
        }
      ],
      "source": [
        "\n",
        "result_doc_price.T.plot(kind='bar', stacked=True, figsize=(6, 4))\n",
        "\n",
        "# Ajouter des étiquettes et un titre\n",
        "plt.xlabel('comp_target_price')\n",
        "plt.ylabel('Pourcentage')\n",
        "plt.title('Status of Order if document provided are available as a function of comp_target_price (difference between Quote Unit Price and Target Unit Price)')\n",
        "\n",
        "# Afficher le tracé\n",
        "plt.show()\n"
      ]
    },
    {
      "cell_type": "markdown",
      "metadata": {},
      "source": [
        "* combining a low price and presence of documents increases the percentage of transactions\n",
        "* from 8% of completed transactions to 24%. \n",
        "* only one trasacation combines the filters equal price and document available, so is not relevant in this case"
      ]
    },
    {
      "cell_type": "markdown",
      "metadata": {},
      "source": [
        "# 5 - Conclusion\n"
      ]
    },
    {
      "cell_type": "markdown",
      "metadata": {},
      "source": [
        "* To increase the percentage of transactions, we need to encourage suppliers to provide samples, documents and prices that are equal to or lower than customer demand. \n",
        "\n",
        "* When \"Document Provided\" are available Ordered increase of 4% \n",
        "* When \"Samples are Available\" Ordered are multiplied by 2\n",
        "\n",
        "* if the supplier give a price (\"Quote Unit Price\") egal or lower than price of custumer (\"Target Unit Price\"), the number of orders \"Ordered\" is increasing and the number of \"Declined\" is decreasing \n",
        "\n",
        "* the combination of samples and prices offered below the prices requested is not significant \n",
        "* for a higher price and a lower price the orders placed are 8%. \n",
        "\n",
        "* combining a lower offer price than the asking price with the presence of documents increases the percentage of transactions\n",
        "* from 8% of completed transactions to 24%. \n",
        "* only one trasacation combines the filters equal price and document available.\n"
      ]
    }
  ],
  "metadata": {
    "colab": {
      "collapsed_sections": [
        "P828RoZsBO5B",
        "Sk8IqBKcHV3D"
      ],
      "include_colab_link": true,
      "provenance": []
    },
    "kernelspec": {
      "display_name": "Python 3",
      "name": "python3"
    },
    "language_info": {
      "codemirror_mode": {
        "name": "ipython",
        "version": 3
      },
      "file_extension": ".py",
      "mimetype": "text/x-python",
      "name": "python",
      "nbconvert_exporter": "python",
      "pygments_lexer": "ipython3",
      "version": "3.11.4"
    }
  },
  "nbformat": 4,
  "nbformat_minor": 0
}
