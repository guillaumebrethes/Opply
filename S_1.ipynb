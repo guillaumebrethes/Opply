{
  "cells": [
    {
      "cell_type": "code",
      "execution_count": 28,
      "metadata": {
        "colab": {
          "base_uri": "https://localhost:8080/"
        },
        "id": "xOuMJJYR3EG7",
        "outputId": "5ad94fde-a7c8-4b17-bc4c-997f553d8fc7"
      },
      "outputs": [],
      "source": [
        "# from google.colab import drive\n",
        "# drive.mount('/content/drive/')"
      ]
    },
    {
      "cell_type": "markdown",
      "metadata": {
        "id": "2pVfCjqV_U7i"
      },
      "source": [
        "### Importation module"
      ]
    },
    {
      "cell_type": "code",
      "execution_count": 29,
      "metadata": {
        "id": "MlnDOsJN_UfJ"
      },
      "outputs": [],
      "source": [
        "import numpy as np\n",
        "%matplotlib inline\n",
        "import pandas as pd\n",
        "import seaborn as sns\n",
        "import calendar\n",
        "import matplotlib.pyplot as plt\n"
      ]
    },
    {
      "cell_type": "markdown",
      "metadata": {},
      "source": [
        "### Connection with Colab / VSC"
      ]
    },
    {
      "cell_type": "code",
      "execution_count": 30,
      "metadata": {},
      "outputs": [],
      "source": [
        "# colab\n",
        "# quotes = pd.read_csv(\"/content/drive/MyDrive/Opply/Opply/d5d9348e5c87368cc1b74e6d4dde9794/Quotes.csv\")\n",
        "# request = pd.read_csv('/content/drive/MyDrive/Opply/Opply/d5d9348e5c87368cc1b74e6d4dde9794/Requests.csv')\n",
        "\n",
        "# vsc\n",
        "\n",
        "quotes = pd.read_csv(\"Quotes.csv\")\n",
        "request = pd.read_csv(\"Requests.csv\")"
      ]
    },
    {
      "cell_type": "markdown",
      "metadata": {
        "id": "P828RoZsBO5B"
      },
      "source": [
        "# Exploration"
      ]
    },
    {
      "cell_type": "code",
      "execution_count": 31,
      "metadata": {
        "colab": {
          "base_uri": "https://localhost:8080/"
        },
        "id": "wcGKDAHy_4dj",
        "outputId": "6665b686-67b8-4b2b-eaf8-b820555c498d"
      },
      "outputs": [
        {
          "name": "stdout",
          "output_type": "stream",
          "text": [
            "(389, 4)\n",
            "(492, 6)\n"
          ]
        }
      ],
      "source": [
        "print(request.shape)\n",
        "print(quotes.shape)"
      ]
    },
    {
      "cell_type": "code",
      "execution_count": 32,
      "metadata": {
        "id": "nUiZCozBA9Mm"
      },
      "outputs": [
        {
          "data": {
            "text/html": [
              "<div>\n",
              "<style scoped>\n",
              "    .dataframe tbody tr th:only-of-type {\n",
              "        vertical-align: middle;\n",
              "    }\n",
              "\n",
              "    .dataframe tbody tr th {\n",
              "        vertical-align: top;\n",
              "    }\n",
              "\n",
              "    .dataframe thead th {\n",
              "        text-align: right;\n",
              "    }\n",
              "</style>\n",
              "<table border=\"1\" class=\"dataframe\">\n",
              "  <thead>\n",
              "    <tr style=\"text-align: right;\">\n",
              "      <th></th>\n",
              "      <th>Request UUID</th>\n",
              "      <th>Current Unit Price</th>\n",
              "      <th>Target Unit Price</th>\n",
              "      <th>Supply Priority</th>\n",
              "    </tr>\n",
              "  </thead>\n",
              "  <tbody>\n",
              "    <tr>\n",
              "      <th>0</th>\n",
              "      <td>820412eb-8d4d-4d6c-a5e3-cfc977cd6d48</td>\n",
              "      <td>£3.50</td>\n",
              "      <td>£3.00</td>\n",
              "      <td>Price</td>\n",
              "    </tr>\n",
              "    <tr>\n",
              "      <th>1</th>\n",
              "      <td>08f1a913-1318-4656-9418-ce580a9871cb</td>\n",
              "      <td>£0.01</td>\n",
              "      <td>£0.01</td>\n",
              "      <td>Price</td>\n",
              "    </tr>\n",
              "    <tr>\n",
              "      <th>2</th>\n",
              "      <td>8cd6fd33-a1bc-43cb-9c63-df7d629d5362</td>\n",
              "      <td>£0.01</td>\n",
              "      <td>£0.01</td>\n",
              "      <td>Price</td>\n",
              "    </tr>\n",
              "    <tr>\n",
              "      <th>3</th>\n",
              "      <td>9388fbf6-410b-4f85-999a-1ff4d4cb733b</td>\n",
              "      <td>£0.01</td>\n",
              "      <td>£0.01</td>\n",
              "      <td>Price</td>\n",
              "    </tr>\n",
              "    <tr>\n",
              "      <th>4</th>\n",
              "      <td>37d05dfe-7f47-4eed-8e78-9f74c303bcad</td>\n",
              "      <td>£0.01</td>\n",
              "      <td>£0.01</td>\n",
              "      <td>Price</td>\n",
              "    </tr>\n",
              "  </tbody>\n",
              "</table>\n",
              "</div>"
            ],
            "text/plain": [
              "                           Request UUID Current Unit Price Target Unit Price  \\\n",
              "0  820412eb-8d4d-4d6c-a5e3-cfc977cd6d48              £3.50             £3.00   \n",
              "1  08f1a913-1318-4656-9418-ce580a9871cb              £0.01             £0.01   \n",
              "2  8cd6fd33-a1bc-43cb-9c63-df7d629d5362              £0.01             £0.01   \n",
              "3  9388fbf6-410b-4f85-999a-1ff4d4cb733b              £0.01             £0.01   \n",
              "4  37d05dfe-7f47-4eed-8e78-9f74c303bcad              £0.01             £0.01   \n",
              "\n",
              "  Supply Priority  \n",
              "0           Price  \n",
              "1           Price  \n",
              "2           Price  \n",
              "3           Price  \n",
              "4           Price  "
            ]
          },
          "execution_count": 32,
          "metadata": {},
          "output_type": "execute_result"
        }
      ],
      "source": [
        "request.head()"
      ]
    },
    {
      "cell_type": "code",
      "execution_count": 33,
      "metadata": {
        "id": "vN_7N1m6BAiY"
      },
      "outputs": [
        {
          "data": {
            "text/html": [
              "<div>\n",
              "<style scoped>\n",
              "    .dataframe tbody tr th:only-of-type {\n",
              "        vertical-align: middle;\n",
              "    }\n",
              "\n",
              "    .dataframe tbody tr th {\n",
              "        vertical-align: top;\n",
              "    }\n",
              "\n",
              "    .dataframe thead th {\n",
              "        text-align: right;\n",
              "    }\n",
              "</style>\n",
              "<table border=\"1\" class=\"dataframe\">\n",
              "  <thead>\n",
              "    <tr style=\"text-align: right;\">\n",
              "      <th></th>\n",
              "      <th>Request UUID</th>\n",
              "      <th>Quote Unit Price</th>\n",
              "      <th>Status</th>\n",
              "      <th>Decline Reason</th>\n",
              "      <th>Samples Available</th>\n",
              "      <th>Documents Provided</th>\n",
              "    </tr>\n",
              "  </thead>\n",
              "  <tbody>\n",
              "    <tr>\n",
              "      <th>0</th>\n",
              "      <td>94ba38d1-57ed-4a60-92d1-47b55a40a6dd</td>\n",
              "      <td>£5.10</td>\n",
              "      <td>Available</td>\n",
              "      <td>NaN</td>\n",
              "      <td>NaN</td>\n",
              "      <td>NaN</td>\n",
              "    </tr>\n",
              "    <tr>\n",
              "      <th>1</th>\n",
              "      <td>820412eb-8d4d-4d6c-a5e3-cfc977cd6d48</td>\n",
              "      <td>£3.50</td>\n",
              "      <td>Available</td>\n",
              "      <td>NaN</td>\n",
              "      <td>Yes</td>\n",
              "      <td>NaN</td>\n",
              "    </tr>\n",
              "    <tr>\n",
              "      <th>2</th>\n",
              "      <td>08f1a913-1318-4656-9418-ce580a9871cb</td>\n",
              "      <td>£1,768.89</td>\n",
              "      <td>Available</td>\n",
              "      <td>NaN</td>\n",
              "      <td>Yes</td>\n",
              "      <td>Yes</td>\n",
              "    </tr>\n",
              "    <tr>\n",
              "      <th>3</th>\n",
              "      <td>4dedeeb1-12a5-4589-82ee-015e46d85790</td>\n",
              "      <td>£4.65</td>\n",
              "      <td>Declined</td>\n",
              "      <td>pricing: Too high</td>\n",
              "      <td>NaN</td>\n",
              "      <td>NaN</td>\n",
              "    </tr>\n",
              "    <tr>\n",
              "      <th>4</th>\n",
              "      <td>820412eb-8d4d-4d6c-a5e3-cfc977cd6d48</td>\n",
              "      <td>£13.00</td>\n",
              "      <td>Available</td>\n",
              "      <td>NaN</td>\n",
              "      <td>NaN</td>\n",
              "      <td>NaN</td>\n",
              "    </tr>\n",
              "  </tbody>\n",
              "</table>\n",
              "</div>"
            ],
            "text/plain": [
              "                           Request UUID Quote Unit Price     Status  \\\n",
              "0  94ba38d1-57ed-4a60-92d1-47b55a40a6dd            £5.10  Available   \n",
              "1  820412eb-8d4d-4d6c-a5e3-cfc977cd6d48            £3.50  Available   \n",
              "2  08f1a913-1318-4656-9418-ce580a9871cb        £1,768.89  Available   \n",
              "3  4dedeeb1-12a5-4589-82ee-015e46d85790            £4.65   Declined   \n",
              "4  820412eb-8d4d-4d6c-a5e3-cfc977cd6d48           £13.00  Available   \n",
              "\n",
              "      Decline Reason Samples Available Documents Provided  \n",
              "0                NaN               NaN                NaN  \n",
              "1                NaN               Yes                NaN  \n",
              "2                NaN               Yes                Yes  \n",
              "3  pricing: Too high               NaN                NaN  \n",
              "4                NaN               NaN                NaN  "
            ]
          },
          "execution_count": 33,
          "metadata": {},
          "output_type": "execute_result"
        }
      ],
      "source": [
        "quotes.head()"
      ]
    },
    {
      "cell_type": "code",
      "execution_count": 34,
      "metadata": {
        "id": "no95GHsWBvSx"
      },
      "outputs": [
        {
          "name": "stdout",
          "output_type": "stream",
          "text": [
            "<class 'pandas.core.frame.DataFrame'>\n",
            "RangeIndex: 389 entries, 0 to 388\n",
            "Data columns (total 4 columns):\n",
            " #   Column              Non-Null Count  Dtype \n",
            "---  ------              --------------  ----- \n",
            " 0   Request UUID        389 non-null    object\n",
            " 1   Current Unit Price  389 non-null    object\n",
            " 2   Target Unit Price   389 non-null    object\n",
            " 3   Supply Priority     287 non-null    object\n",
            "dtypes: object(4)\n",
            "memory usage: 12.3+ KB\n"
          ]
        }
      ],
      "source": [
        "request.info()"
      ]
    },
    {
      "cell_type": "code",
      "execution_count": 35,
      "metadata": {
        "id": "3QTmlZX8B1rG"
      },
      "outputs": [
        {
          "name": "stdout",
          "output_type": "stream",
          "text": [
            "<class 'pandas.core.frame.DataFrame'>\n",
            "RangeIndex: 492 entries, 0 to 491\n",
            "Data columns (total 6 columns):\n",
            " #   Column              Non-Null Count  Dtype \n",
            "---  ------              --------------  ----- \n",
            " 0   Request UUID        492 non-null    object\n",
            " 1   Quote Unit Price    492 non-null    object\n",
            " 2   Status              492 non-null    object\n",
            " 3   Decline Reason      58 non-null     object\n",
            " 4   Samples Available   275 non-null    object\n",
            " 5   Documents Provided  279 non-null    object\n",
            "dtypes: object(6)\n",
            "memory usage: 23.2+ KB\n"
          ]
        }
      ],
      "source": [
        "quotes.info()"
      ]
    },
    {
      "cell_type": "code",
      "execution_count": null,
      "metadata": {},
      "outputs": [],
      "source": []
    },
    {
      "cell_type": "markdown",
      "metadata": {
        "id": "mriIf9jUC5RP"
      },
      "source": [
        "* Identified unique values for each column.\n"
      ]
    },
    {
      "cell_type": "code",
      "execution_count": null,
      "metadata": {
        "id": "-7yjMJDcC3J9"
      },
      "outputs": [],
      "source": [
        "# Quotes\n",
        "for col in quotes.columns:\n",
        "  unique_value = quotes[col].unique()\n",
        "  print(f\"> : {col} ==> : {unique_value}\")\n",
        "\n",
        "  value_counts = quotes[col].value_counts(normalize= True).round(2) * 100\n",
        "  value_counts_with_percent = value_counts.map(\"{:.2f} %\".format)\n",
        "\n",
        "  print(value_counts_with_percent)\n",
        "  print(f'- {quotes[col].dtypes} -')\n",
        "  print('---------------------------')"
      ]
    },
    {
      "cell_type": "markdown",
      "metadata": {},
      "source": [
        "* 50 % of Decline Reason is : pricing \n",
        "  * to do : group the 'pricing:' and 'pricing' lines and analyze why ?"
      ]
    },
    {
      "cell_type": "code",
      "execution_count": null,
      "metadata": {
        "id": "ZOrfgc4dFa6V"
      },
      "outputs": [],
      "source": [
        "# Requests\n",
        "for col in request.columns:\n",
        "  unique_value = request[col].unique()\n",
        "  print(f\"> : {col} ==> : {unique_value}\")\n",
        "\n",
        "  value_counts = request[col].value_counts(normalize= True).round(2) * 100\n",
        "  value_counts_with_percent = value_counts.map(\"{:.2f} %\".format)\n",
        "\n",
        "  print(value_counts_with_percent)\n",
        "  print(f'- {request[col].dtypes} -')\n",
        "  print('---------------------------')"
      ]
    },
    {
      "cell_type": "markdown",
      "metadata": {
        "id": "bavKdKslHz1_"
      },
      "source": [
        "# 2 - Quotes :"
      ]
    },
    {
      "cell_type": "markdown",
      "metadata": {},
      "source": [
        "## 2 - 1 - Cleaning :"
      ]
    },
    {
      "cell_type": "code",
      "execution_count": 38,
      "metadata": {
        "colab": {
          "base_uri": "https://localhost:8080/"
        },
        "id": "Q4IbvIf0H7Y4",
        "outputId": "7197481e-af1b-49d1-887c-1f2f014a6de9"
      },
      "outputs": [
        {
          "data": {
            "text/plain": [
              "Status\n",
              "Expired             290\n",
              "Available           124\n",
              "Ordered              58\n",
              "Declined             17\n",
              "Contract Created      1\n",
              "pending_payment       1\n",
              "Proceeded             1\n",
              "Name: count, dtype: int64"
            ]
          },
          "execution_count": 38,
          "metadata": {},
          "output_type": "execute_result"
        }
      ],
      "source": [
        "quotes[\"Status\"].value_counts()"
      ]
    },
    {
      "cell_type": "markdown",
      "metadata": {
        "id": "s8S65ar6JABz"
      },
      "source": [
        "* replace nan by 'no' on column \"Samples Available\" and \"Documents Provided\""
      ]
    },
    {
      "cell_type": "code",
      "execution_count": 39,
      "metadata": {
        "id": "MFWf_bZAKh-P"
      },
      "outputs": [],
      "source": [
        "quotes[\"Documents Provided\"] = quotes[\"Documents Provided\"].fillna('No')"
      ]
    },
    {
      "cell_type": "code",
      "execution_count": 40,
      "metadata": {
        "colab": {
          "base_uri": "https://localhost:8080/"
        },
        "id": "I70jplXgIuUU",
        "outputId": "7aaf55b6-0d4c-4b79-806c-9b002bf0b1dc"
      },
      "outputs": [
        {
          "data": {
            "text/plain": [
              "0"
            ]
          },
          "execution_count": 40,
          "metadata": {},
          "output_type": "execute_result"
        }
      ],
      "source": [
        "quotes[\"Documents Provided\"].isna().sum()"
      ]
    },
    {
      "cell_type": "code",
      "execution_count": 41,
      "metadata": {
        "id": "yp4NiKjQKz4n"
      },
      "outputs": [],
      "source": [
        "quotes[\"Samples Available\"] = quotes[\"Samples Available\"].fillna('No')"
      ]
    },
    {
      "cell_type": "code",
      "execution_count": 42,
      "metadata": {
        "colab": {
          "base_uri": "https://localhost:8080/"
        },
        "id": "edQLWN0sJZPL",
        "outputId": "be5ba203-fb33-4aeb-f5e2-2cfaf0903164"
      },
      "outputs": [
        {
          "data": {
            "text/plain": [
              "0"
            ]
          },
          "execution_count": 42,
          "metadata": {},
          "output_type": "execute_result"
        }
      ],
      "source": [
        "quotes[\"Samples Available\"].isna().sum()"
      ]
    },
    {
      "cell_type": "code",
      "execution_count": null,
      "metadata": {},
      "outputs": [],
      "source": [
        "# Quotes\n",
        "for col in quotes.columns:\n",
        "  unique_value = quotes[col].unique()\n",
        "  print(f\"> : {col} ==> : {unique_value}\")\n",
        "\n",
        "  value_counts = quotes[col].value_counts(normalize= True).round(2) * 100\n",
        "  value_counts_with_percent = value_counts.map(\"{:.2f} %\".format)\n",
        "\n",
        "  print(value_counts_with_percent)\n",
        "  print(f'- {quotes[col].dtypes} -')\n",
        "  print('---------------------------')"
      ]
    },
    {
      "cell_type": "markdown",
      "metadata": {},
      "source": [
        "## 2 - 2 - Analysis"
      ]
    },
    {
      "cell_type": "markdown",
      "metadata": {},
      "source": [
        "### 2-2-1 New column : \"decline reason new\""
      ]
    },
    {
      "cell_type": "markdown",
      "metadata": {},
      "source": [
        "* creation of new column **'decline reason new'** with 3 labels :\n",
        "  * **not specified** : for all values nan\n",
        "  * **pricing** : for all row of the reason mentionned pricing (I suppose that as soon as pricing is indicated, it means that the price is too high)\n",
        "  * **no decline** : column 'Status' = 'Ordered'\n",
        "  * **others** : for other reason"
      ]
    },
    {
      "cell_type": "markdown",
      "metadata": {},
      "source": [
        "for other reason"
      ]
    },
    {
      "cell_type": "code",
      "execution_count": 99,
      "metadata": {},
      "outputs": [],
      "source": [
        "# NaN by \"not specified\"\n",
        "quotes[\"Decline Reason New\"] = np.where(quotes['Decline Reason'].isna(), 'not specified', quotes[\"Decline Reason\"])\n",
        "\n",
        "# \"pricing\" \n",
        "quotes[\"Decline Reason New\"] = np.where(quotes['Decline Reason New'].str.contains('pricing', case=False), 'pricing', quotes[\"Decline Reason New\"])\n",
        "\n",
        "# \"no decline\"\n",
        "quotes[\"Decline Reason New\"] = np.where(quotes['Status'] == 'Ordered', 'no decline', quotes[\"Decline Reason New\"])\n",
        "\n",
        "# \"others\"\n",
        "quotes[\"Decline Reason New\"] = np.where(\n",
        "    (\n",
        "        (quotes[\"Decline Reason New\"] != 'not specified') &\n",
        "        (quotes[\"Decline Reason New\"] != 'no decline') &\n",
        "        (~quotes[\"Decline Reason New\"].str.contains('pricing', case=False))\n",
        "    ),\n",
        "    'others',\n",
        "    quotes[\"Decline Reason New\"]\n",
        ")\n"
      ]
    },
    {
      "cell_type": "code",
      "execution_count": 100,
      "metadata": {},
      "outputs": [
        {
          "data": {
            "text/plain": [
              "Decline Reason New\n",
              "not specified    76.0\n",
              "no decline       12.0\n",
              "pricing          10.0\n",
              "others            2.0\n",
              "Name: proportion, dtype: float64"
            ]
          },
          "execution_count": 100,
          "metadata": {},
          "output_type": "execute_result"
        }
      ],
      "source": [
        "# Repartion of Decline Reason New\n",
        "quotes['Decline Reason New'].value_counts(normalize= True).round(2) * 100"
      ]
    },
    {
      "cell_type": "code",
      "execution_count": 105,
      "metadata": {},
      "outputs": [
        {
          "data": {
            "text/html": [
              "<div>\n",
              "<style scoped>\n",
              "    .dataframe tbody tr th:only-of-type {\n",
              "        vertical-align: middle;\n",
              "    }\n",
              "\n",
              "    .dataframe tbody tr th {\n",
              "        vertical-align: top;\n",
              "    }\n",
              "\n",
              "    .dataframe thead th {\n",
              "        text-align: right;\n",
              "    }\n",
              "</style>\n",
              "<table border=\"1\" class=\"dataframe\">\n",
              "  <thead>\n",
              "    <tr style=\"text-align: right;\">\n",
              "      <th></th>\n",
              "      <th>Request UUID</th>\n",
              "      <th>Quote Unit Price</th>\n",
              "      <th>Status</th>\n",
              "      <th>Decline Reason</th>\n",
              "      <th>Samples Available</th>\n",
              "      <th>Documents Provided</th>\n",
              "      <th>Decline Reason New</th>\n",
              "    </tr>\n",
              "  </thead>\n",
              "  <tbody>\n",
              "    <tr>\n",
              "      <th>0</th>\n",
              "      <td>94ba38d1-57ed-4a60-92d1-47b55a40a6dd</td>\n",
              "      <td>£5.10</td>\n",
              "      <td>Available</td>\n",
              "      <td>NaN</td>\n",
              "      <td>No</td>\n",
              "      <td>No</td>\n",
              "      <td>not specified</td>\n",
              "    </tr>\n",
              "    <tr>\n",
              "      <th>1</th>\n",
              "      <td>820412eb-8d4d-4d6c-a5e3-cfc977cd6d48</td>\n",
              "      <td>£3.50</td>\n",
              "      <td>Available</td>\n",
              "      <td>NaN</td>\n",
              "      <td>Yes</td>\n",
              "      <td>No</td>\n",
              "      <td>not specified</td>\n",
              "    </tr>\n",
              "    <tr>\n",
              "      <th>2</th>\n",
              "      <td>08f1a913-1318-4656-9418-ce580a9871cb</td>\n",
              "      <td>£1,768.89</td>\n",
              "      <td>Available</td>\n",
              "      <td>NaN</td>\n",
              "      <td>Yes</td>\n",
              "      <td>Yes</td>\n",
              "      <td>not specified</td>\n",
              "    </tr>\n",
              "    <tr>\n",
              "      <th>4</th>\n",
              "      <td>820412eb-8d4d-4d6c-a5e3-cfc977cd6d48</td>\n",
              "      <td>£13.00</td>\n",
              "      <td>Available</td>\n",
              "      <td>NaN</td>\n",
              "      <td>No</td>\n",
              "      <td>No</td>\n",
              "      <td>not specified</td>\n",
              "    </tr>\n",
              "    <tr>\n",
              "      <th>6</th>\n",
              "      <td>4dedeeb1-12a5-4589-82ee-015e46d85790</td>\n",
              "      <td>£2.97</td>\n",
              "      <td>Available</td>\n",
              "      <td>NaN</td>\n",
              "      <td>Yes</td>\n",
              "      <td>Yes</td>\n",
              "      <td>not specified</td>\n",
              "    </tr>\n",
              "  </tbody>\n",
              "</table>\n",
              "</div>"
            ],
            "text/plain": [
              "                           Request UUID Quote Unit Price     Status  \\\n",
              "0  94ba38d1-57ed-4a60-92d1-47b55a40a6dd            £5.10  Available   \n",
              "1  820412eb-8d4d-4d6c-a5e3-cfc977cd6d48            £3.50  Available   \n",
              "2  08f1a913-1318-4656-9418-ce580a9871cb        £1,768.89  Available   \n",
              "4  820412eb-8d4d-4d6c-a5e3-cfc977cd6d48           £13.00  Available   \n",
              "6  4dedeeb1-12a5-4589-82ee-015e46d85790            £2.97  Available   \n",
              "\n",
              "  Decline Reason Samples Available Documents Provided Decline Reason New  \n",
              "0            NaN                No                 No      not specified  \n",
              "1            NaN               Yes                 No      not specified  \n",
              "2            NaN               Yes                Yes      not specified  \n",
              "4            NaN                No                 No      not specified  \n",
              "6            NaN               Yes                Yes      not specified  "
            ]
          },
          "execution_count": 105,
          "metadata": {},
          "output_type": "execute_result"
        }
      ],
      "source": [
        "# create df with \"Decline Reason New\" = not specified\n",
        "# understand why label \"not specified = 76%\"\n",
        "quotes_not_specified = quotes[quotes['Decline Reason New'] == 'not specified']\n",
        "quotes_not_specified.head()"
      ]
    },
    {
      "cell_type": "code",
      "execution_count": 131,
      "metadata": {},
      "outputs": [
        {
          "data": {
            "image/png": "[encoded data removed]",
            "text/plain": [
              "<Figure size 300x300 with 1 Axes>"
            ]
          },
          "metadata": {},
          "output_type": "display_data"
        }
      ],
      "source": [
        "# when Decline Reason is not specified, we represent the distribution of 'Status' \n",
        "colors = ['skyblue', 'orange', 'lightgreen', 'pink', 'lightcoral']\n",
        "\n",
        "plt.figure(figsize=(3,3))\n",
        "quotes_not_specified[\"Status\"].value_counts().plot(\n",
        "    kind='pie',\n",
        "    autopct='%1.1f%%',\n",
        "    explode=(0.05, 0.05, 0.05, 0.05, 0.05),\n",
        "    colors=colors\n",
        ")\n",
        "plt.show()\n"
      ]
    },
    {
      "cell_type": "markdown",
      "metadata": {},
      "source": [
        "* let's try to understand what's in Expired"
      ]
    },
    {
      "cell_type": "code",
      "execution_count": 123,
      "metadata": {},
      "outputs": [
        {
          "data": {
            "text/html": [
              "<div>\n",
              "<style scoped>\n",
              "    .dataframe tbody tr th:only-of-type {\n",
              "        vertical-align: middle;\n",
              "    }\n",
              "\n",
              "    .dataframe tbody tr th {\n",
              "        vertical-align: top;\n",
              "    }\n",
              "\n",
              "    .dataframe thead th {\n",
              "        text-align: right;\n",
              "    }\n",
              "</style>\n",
              "<table border=\"1\" class=\"dataframe\">\n",
              "  <thead>\n",
              "    <tr style=\"text-align: right;\">\n",
              "      <th></th>\n",
              "      <th>Request UUID</th>\n",
              "      <th>Quote Unit Price</th>\n",
              "      <th>Status</th>\n",
              "      <th>Decline Reason</th>\n",
              "      <th>Samples Available</th>\n",
              "      <th>Documents Provided</th>\n",
              "      <th>Decline Reason New</th>\n",
              "    </tr>\n",
              "  </thead>\n",
              "  <tbody>\n",
              "    <tr>\n",
              "      <th>11</th>\n",
              "      <td>50ef47ee-1cb8-44bf-9444-2c057fdc72ca</td>\n",
              "      <td>£2.86</td>\n",
              "      <td>Expired</td>\n",
              "      <td>NaN</td>\n",
              "      <td>No</td>\n",
              "      <td>Yes</td>\n",
              "      <td>not specified</td>\n",
              "    </tr>\n",
              "    <tr>\n",
              "      <th>48</th>\n",
              "      <td>52fc0262-ed22-40f7-b983-a8df4c6d7a0d</td>\n",
              "      <td>£77.00</td>\n",
              "      <td>Expired</td>\n",
              "      <td>NaN</td>\n",
              "      <td>Yes</td>\n",
              "      <td>Yes</td>\n",
              "      <td>not specified</td>\n",
              "    </tr>\n",
              "    <tr>\n",
              "      <th>60</th>\n",
              "      <td>b9701840-f486-4e5a-989e-bfaf42c0ca65</td>\n",
              "      <td>£12.25</td>\n",
              "      <td>Expired</td>\n",
              "      <td>NaN</td>\n",
              "      <td>No</td>\n",
              "      <td>Yes</td>\n",
              "      <td>not specified</td>\n",
              "    </tr>\n",
              "    <tr>\n",
              "      <th>62</th>\n",
              "      <td>cc66f476-9f26-426c-9216-0150c87f8c78</td>\n",
              "      <td>£20.00</td>\n",
              "      <td>Expired</td>\n",
              "      <td>NaN</td>\n",
              "      <td>Yes</td>\n",
              "      <td>No</td>\n",
              "      <td>not specified</td>\n",
              "    </tr>\n",
              "    <tr>\n",
              "      <th>66</th>\n",
              "      <td>1c0a5675-bc9e-4a4f-8e1f-eb1f673e0038</td>\n",
              "      <td>£2.00</td>\n",
              "      <td>Expired</td>\n",
              "      <td>NaN</td>\n",
              "      <td>Yes</td>\n",
              "      <td>Yes</td>\n",
              "      <td>not specified</td>\n",
              "    </tr>\n",
              "  </tbody>\n",
              "</table>\n",
              "</div>"
            ],
            "text/plain": [
              "                            Request UUID Quote Unit Price   Status  \\\n",
              "11  50ef47ee-1cb8-44bf-9444-2c057fdc72ca            £2.86  Expired   \n",
              "48  52fc0262-ed22-40f7-b983-a8df4c6d7a0d           £77.00  Expired   \n",
              "60  b9701840-f486-4e5a-989e-bfaf42c0ca65           £12.25  Expired   \n",
              "62  cc66f476-9f26-426c-9216-0150c87f8c78           £20.00  Expired   \n",
              "66  1c0a5675-bc9e-4a4f-8e1f-eb1f673e0038            £2.00  Expired   \n",
              "\n",
              "   Decline Reason Samples Available Documents Provided Decline Reason New  \n",
              "11            NaN                No                Yes      not specified  \n",
              "48            NaN               Yes                Yes      not specified  \n",
              "60            NaN                No                Yes      not specified  \n",
              "62            NaN               Yes                 No      not specified  \n",
              "66            NaN               Yes                Yes      not specified  "
            ]
          },
          "execution_count": 123,
          "metadata": {},
          "output_type": "execute_result"
        }
      ],
      "source": [
        "\n",
        "# Filter \n",
        "quotes_decline_not_specified_expired = quotes[(quotes['Decline Reason New'] == 'not specified') & (quotes['Status'] == 'Expired')]\n",
        "quotes_decline_not_specified_expired.head()"
      ]
    },
    {
      "cell_type": "code",
      "execution_count": 128,
      "metadata": {},
      "outputs": [
        {
          "data": {
            "text/plain": [
              "(249, 7)"
            ]
          },
          "execution_count": 128,
          "metadata": {},
          "output_type": "execute_result"
        }
      ],
      "source": [
        "quotes_decline_not_specified_expired.shape"
      ]
    },
    {
      "cell_type": "code",
      "execution_count": 126,
      "metadata": {},
      "outputs": [
        {
          "data": {
            "text/plain": [
              "249"
            ]
          },
          "execution_count": 126,
          "metadata": {},
          "output_type": "execute_result"
        }
      ],
      "source": [
        "quotes_decline_not_specified_expired[\"Decline Reason\"].isna().sum()"
      ]
    },
    {
      "cell_type": "markdown",
      "metadata": {},
      "source": [
        "* when in the same time :\n",
        "  * Status = Expired \n",
        "  * Decline Reason New = not specified\n",
        " decline reason is NaN in 100% of cases"
      ]
    },
    {
      "cell_type": "markdown",
      "metadata": {},
      "source": [
        "### 2-2-2 Column \"Ordered\""
      ]
    },
    {
      "cell_type": "code",
      "execution_count": 138,
      "metadata": {},
      "outputs": [
        {
          "data": {
            "text/plain": [
              "Status\n",
              "Expired             59.0\n",
              "Available           25.0\n",
              "Ordered             12.0\n",
              "Declined             3.0\n",
              "Contract Created     0.0\n",
              "pending_payment      0.0\n",
              "Proceeded            0.0\n",
              "Name: proportion, dtype: float64"
            ]
          },
          "execution_count": 138,
          "metadata": {},
          "output_type": "execute_result"
        }
      ],
      "source": [
        "quotes[\"Status\"].value_counts(normalize= True).round(2) * 100"
      ]
    },
    {
      "cell_type": "markdown",
      "metadata": {
        "id": "n2kiWzrUCJ2I"
      },
      "source": [
        "* 11.79% of quotes are Ordered"
      ]
    },
    {
      "cell_type": "code",
      "execution_count": 133,
      "metadata": {
        "colab": {
          "base_uri": "https://localhost:8080/",
          "height": 223
        },
        "id": "q3TC_8-s-oGj",
        "outputId": "531ebbf6-bf7d-4e5e-8b65-8cfe18688f59"
      },
      "outputs": [
        {
          "name": "stdout",
          "output_type": "stream",
          "text": [
            "(58, 7)\n"
          ]
        },
        {
          "data": {
            "text/html": [
              "<div>\n",
              "<style scoped>\n",
              "    .dataframe tbody tr th:only-of-type {\n",
              "        vertical-align: middle;\n",
              "    }\n",
              "\n",
              "    .dataframe tbody tr th {\n",
              "        vertical-align: top;\n",
              "    }\n",
              "\n",
              "    .dataframe thead th {\n",
              "        text-align: right;\n",
              "    }\n",
              "</style>\n",
              "<table border=\"1\" class=\"dataframe\">\n",
              "  <thead>\n",
              "    <tr style=\"text-align: right;\">\n",
              "      <th></th>\n",
              "      <th>Request UUID</th>\n",
              "      <th>Quote Unit Price</th>\n",
              "      <th>Status</th>\n",
              "      <th>Decline Reason</th>\n",
              "      <th>Samples Available</th>\n",
              "      <th>Documents Provided</th>\n",
              "      <th>Decline Reason New</th>\n",
              "    </tr>\n",
              "  </thead>\n",
              "  <tbody>\n",
              "    <tr>\n",
              "      <th>28</th>\n",
              "      <td>fca03c4f-3f16-40d0-b87c-16d9343e4a52</td>\n",
              "      <td>£4.65</td>\n",
              "      <td>Ordered</td>\n",
              "      <td>NaN</td>\n",
              "      <td>Yes</td>\n",
              "      <td>Yes</td>\n",
              "      <td>no decline</td>\n",
              "    </tr>\n",
              "    <tr>\n",
              "      <th>30</th>\n",
              "      <td>d596642b-c417-49e6-aa3b-ec6185fb2b9f</td>\n",
              "      <td>£0.58</td>\n",
              "      <td>Ordered</td>\n",
              "      <td>NaN</td>\n",
              "      <td>No</td>\n",
              "      <td>Yes</td>\n",
              "      <td>no decline</td>\n",
              "    </tr>\n",
              "    <tr>\n",
              "      <th>79</th>\n",
              "      <td>9cf11f62-7b1e-4a7f-9c40-c12ad721a72b</td>\n",
              "      <td>£1.66</td>\n",
              "      <td>Ordered</td>\n",
              "      <td>NaN</td>\n",
              "      <td>No</td>\n",
              "      <td>Yes</td>\n",
              "      <td>no decline</td>\n",
              "    </tr>\n",
              "    <tr>\n",
              "      <th>80</th>\n",
              "      <td>3c583881-a99d-42ca-a81b-648bc6884976</td>\n",
              "      <td>£1.58</td>\n",
              "      <td>Ordered</td>\n",
              "      <td>NaN</td>\n",
              "      <td>No</td>\n",
              "      <td>Yes</td>\n",
              "      <td>no decline</td>\n",
              "    </tr>\n",
              "    <tr>\n",
              "      <th>84</th>\n",
              "      <td>2473d2dc-0a5c-4a61-a73d-3050faf0f7a0</td>\n",
              "      <td>£3.77</td>\n",
              "      <td>Ordered</td>\n",
              "      <td>NaN</td>\n",
              "      <td>Yes</td>\n",
              "      <td>No</td>\n",
              "      <td>no decline</td>\n",
              "    </tr>\n",
              "  </tbody>\n",
              "</table>\n",
              "</div>"
            ],
            "text/plain": [
              "                            Request UUID Quote Unit Price   Status  \\\n",
              "28  fca03c4f-3f16-40d0-b87c-16d9343e4a52            £4.65  Ordered   \n",
              "30  d596642b-c417-49e6-aa3b-ec6185fb2b9f            £0.58  Ordered   \n",
              "79  9cf11f62-7b1e-4a7f-9c40-c12ad721a72b            £1.66  Ordered   \n",
              "80  3c583881-a99d-42ca-a81b-648bc6884976            £1.58  Ordered   \n",
              "84  2473d2dc-0a5c-4a61-a73d-3050faf0f7a0            £3.77  Ordered   \n",
              "\n",
              "   Decline Reason Samples Available Documents Provided Decline Reason New  \n",
              "28            NaN               Yes                Yes         no decline  \n",
              "30            NaN                No                Yes         no decline  \n",
              "79            NaN                No                Yes         no decline  \n",
              "80            NaN                No                Yes         no decline  \n",
              "84            NaN               Yes                 No         no decline  "
            ]
          },
          "execution_count": 133,
          "metadata": {},
          "output_type": "execute_result"
        }
      ],
      "source": [
        "# Filter the dataframe based on the value of \"status\" == Ordered\n",
        "\n",
        "quotes_ordered = quotes[quotes['Status'] == 'Ordered']\n",
        "print(quotes_ordered.shape)\n",
        "quotes_ordered.head()"
      ]
    },
    {
      "cell_type": "code",
      "execution_count": 159,
      "metadata": {},
      "outputs": [
        {
          "ename": "ValueError",
          "evalue": "'explode' must be of length 'x'",
          "output_type": "error",
          "traceback": [
            "\u001b[0;31m---------------------------------------------------------------------------\u001b[0m",
            "\u001b[0;31mValueError\u001b[0m                                Traceback (most recent call last)",
            "Cell \u001b[0;32mIn[159], line 35\u001b[0m\n\u001b[1;32m     32\u001b[0m plt\u001b[38;5;241m.\u001b[39msubplot(\u001b[38;5;241m133\u001b[39m)\n\u001b[1;32m     33\u001b[0m plt\u001b[38;5;241m.\u001b[39mtitle(\u001b[38;5;124m'\u001b[39m\u001b[38;5;124m'\u001b[39m)\n\u001b[0;32m---> 35\u001b[0m group_samples_provided[\u001b[38;5;124m'\u001b[39m\u001b[38;5;124mSamples Available\u001b[39m\u001b[38;5;124m'\u001b[39m]\u001b[38;5;241m.\u001b[39mvalue_counts()\u001b[38;5;241m.\u001b[39mplot(\n\u001b[1;32m     36\u001b[0m     kind\u001b[38;5;241m=\u001b[39m\u001b[38;5;124m'\u001b[39m\u001b[38;5;124mpie\u001b[39m\u001b[38;5;124m'\u001b[39m,\n\u001b[1;32m     37\u001b[0m     autopct\u001b[38;5;241m=\u001b[39m\u001b[38;5;124m'\u001b[39m\u001b[38;5;132;01m%1.1f\u001b[39;00m\u001b[38;5;132;01m%%\u001b[39;00m\u001b[38;5;124m'\u001b[39m,\n\u001b[1;32m     38\u001b[0m     explode\u001b[38;5;241m=\u001b[39m(\u001b[38;5;241m0.05\u001b[39m, \u001b[38;5;241m0.05\u001b[39m),\n\u001b[1;32m     39\u001b[0m     colors\u001b[38;5;241m=\u001b[39m[\u001b[38;5;124m'\u001b[39m\u001b[38;5;124mlightgreen\u001b[39m\u001b[38;5;124m'\u001b[39m, \u001b[38;5;124m'\u001b[39m\u001b[38;5;124mlightcoral\u001b[39m\u001b[38;5;124m'\u001b[39m], \n\u001b[1;32m     40\u001b[0m )\n\u001b[1;32m     41\u001b[0m plt\u001b[38;5;241m.\u001b[39mylabel(\u001b[38;5;124m'\u001b[39m\u001b[38;5;124m'\u001b[39m)\n\u001b[1;32m     43\u001b[0m plt\u001b[38;5;241m.\u001b[39mshow()\n",
            "File \u001b[0;32m~/anaconda3/lib/python3.11/site-packages/pandas/plotting/_core.py:1031\u001b[0m, in \u001b[0;36mPlotAccessor.__call__\u001b[0;34m(self, *args, **kwargs)\u001b[0m\n\u001b[1;32m   1028\u001b[0m             label_name \u001b[38;5;241m=\u001b[39m label_kw \u001b[38;5;129;01mor\u001b[39;00m data\u001b[38;5;241m.\u001b[39mcolumns\n\u001b[1;32m   1029\u001b[0m             data\u001b[38;5;241m.\u001b[39mcolumns \u001b[38;5;241m=\u001b[39m label_name\n\u001b[0;32m-> 1031\u001b[0m \u001b[38;5;28;01mreturn\u001b[39;00m plot_backend\u001b[38;5;241m.\u001b[39mplot(data, kind\u001b[38;5;241m=\u001b[39mkind, \u001b[38;5;241m*\u001b[39m\u001b[38;5;241m*\u001b[39mkwargs)\n",
            "File \u001b[0;32m~/anaconda3/lib/python3.11/site-packages/pandas/plotting/_matplotlib/__init__.py:71\u001b[0m, in \u001b[0;36mplot\u001b[0;34m(data, kind, **kwargs)\u001b[0m\n\u001b[1;32m     69\u001b[0m         kwargs[\u001b[38;5;124m\"\u001b[39m\u001b[38;5;124max\u001b[39m\u001b[38;5;124m\"\u001b[39m] \u001b[38;5;241m=\u001b[39m \u001b[38;5;28mgetattr\u001b[39m(ax, \u001b[38;5;124m\"\u001b[39m\u001b[38;5;124mleft_ax\u001b[39m\u001b[38;5;124m\"\u001b[39m, ax)\n\u001b[1;32m     70\u001b[0m plot_obj \u001b[38;5;241m=\u001b[39m PLOT_CLASSES[kind](data, \u001b[38;5;241m*\u001b[39m\u001b[38;5;241m*\u001b[39mkwargs)\n\u001b[0;32m---> 71\u001b[0m plot_obj\u001b[38;5;241m.\u001b[39mgenerate()\n\u001b[1;32m     72\u001b[0m plot_obj\u001b[38;5;241m.\u001b[39mdraw()\n\u001b[1;32m     73\u001b[0m \u001b[38;5;28;01mreturn\u001b[39;00m plot_obj\u001b[38;5;241m.\u001b[39mresult\n",
            "File \u001b[0;32m~/anaconda3/lib/python3.11/site-packages/pandas/plotting/_matplotlib/core.py:453\u001b[0m, in \u001b[0;36mMPLPlot.generate\u001b[0;34m(self)\u001b[0m\n\u001b[1;32m    451\u001b[0m \u001b[38;5;28mself\u001b[39m\u001b[38;5;241m.\u001b[39m_compute_plot_data()\n\u001b[1;32m    452\u001b[0m \u001b[38;5;28mself\u001b[39m\u001b[38;5;241m.\u001b[39m_setup_subplots()\n\u001b[0;32m--> 453\u001b[0m \u001b[38;5;28mself\u001b[39m\u001b[38;5;241m.\u001b[39m_make_plot()\n\u001b[1;32m    454\u001b[0m \u001b[38;5;28mself\u001b[39m\u001b[38;5;241m.\u001b[39m_add_table()\n\u001b[1;32m    455\u001b[0m \u001b[38;5;28mself\u001b[39m\u001b[38;5;241m.\u001b[39m_make_legend()\n",
            "File \u001b[0;32m~/anaconda3/lib/python3.11/site-packages/pandas/plotting/_matplotlib/core.py:1866\u001b[0m, in \u001b[0;36mPiePlot._make_plot\u001b[0;34m(self)\u001b[0m\n\u001b[1;32m   1864\u001b[0m \u001b[38;5;28;01melse\u001b[39;00m:\n\u001b[1;32m   1865\u001b[0m     blabels \u001b[38;5;241m=\u001b[39m \u001b[38;5;28;01mNone\u001b[39;00m\n\u001b[0;32m-> 1866\u001b[0m results \u001b[38;5;241m=\u001b[39m ax\u001b[38;5;241m.\u001b[39mpie(y, labels\u001b[38;5;241m=\u001b[39mblabels, \u001b[38;5;241m*\u001b[39m\u001b[38;5;241m*\u001b[39mkwds)\n\u001b[1;32m   1868\u001b[0m \u001b[38;5;28;01mif\u001b[39;00m kwds\u001b[38;5;241m.\u001b[39mget(\u001b[38;5;124m\"\u001b[39m\u001b[38;5;124mautopct\u001b[39m\u001b[38;5;124m\"\u001b[39m, \u001b[38;5;28;01mNone\u001b[39;00m) \u001b[38;5;129;01mis\u001b[39;00m \u001b[38;5;129;01mnot\u001b[39;00m \u001b[38;5;28;01mNone\u001b[39;00m:\n\u001b[1;32m   1869\u001b[0m     patches, texts, autotexts \u001b[38;5;241m=\u001b[39m results\n",
            "File \u001b[0;32m~/anaconda3/lib/python3.11/site-packages/matplotlib/__init__.py:1442\u001b[0m, in \u001b[0;36m_preprocess_data.<locals>.inner\u001b[0;34m(ax, data, *args, **kwargs)\u001b[0m\n\u001b[1;32m   1439\u001b[0m \u001b[38;5;129m@functools\u001b[39m\u001b[38;5;241m.\u001b[39mwraps(func)\n\u001b[1;32m   1440\u001b[0m \u001b[38;5;28;01mdef\u001b[39;00m \u001b[38;5;21minner\u001b[39m(ax, \u001b[38;5;241m*\u001b[39margs, data\u001b[38;5;241m=\u001b[39m\u001b[38;5;28;01mNone\u001b[39;00m, \u001b[38;5;241m*\u001b[39m\u001b[38;5;241m*\u001b[39mkwargs):\n\u001b[1;32m   1441\u001b[0m     \u001b[38;5;28;01mif\u001b[39;00m data \u001b[38;5;129;01mis\u001b[39;00m \u001b[38;5;28;01mNone\u001b[39;00m:\n\u001b[0;32m-> 1442\u001b[0m         \u001b[38;5;28;01mreturn\u001b[39;00m func(ax, \u001b[38;5;241m*\u001b[39m\u001b[38;5;28mmap\u001b[39m(sanitize_sequence, args), \u001b[38;5;241m*\u001b[39m\u001b[38;5;241m*\u001b[39mkwargs)\n\u001b[1;32m   1444\u001b[0m     bound \u001b[38;5;241m=\u001b[39m new_sig\u001b[38;5;241m.\u001b[39mbind(ax, \u001b[38;5;241m*\u001b[39margs, \u001b[38;5;241m*\u001b[39m\u001b[38;5;241m*\u001b[39mkwargs)\n\u001b[1;32m   1445\u001b[0m     auto_label \u001b[38;5;241m=\u001b[39m (bound\u001b[38;5;241m.\u001b[39marguments\u001b[38;5;241m.\u001b[39mget(label_namer)\n\u001b[1;32m   1446\u001b[0m                   \u001b[38;5;129;01mor\u001b[39;00m bound\u001b[38;5;241m.\u001b[39mkwargs\u001b[38;5;241m.\u001b[39mget(label_namer))\n",
            "File \u001b[0;32m~/anaconda3/lib/python3.11/site-packages/matplotlib/axes/_axes.py:3211\u001b[0m, in \u001b[0;36mAxes.pie\u001b[0;34m(self, x, explode, labels, colors, autopct, pctdistance, shadow, labeldistance, startangle, radius, counterclock, wedgeprops, textprops, center, frame, rotatelabels, normalize, hatch)\u001b[0m\n\u001b[1;32m   3209\u001b[0m     \u001b[38;5;28;01mraise\u001b[39;00m \u001b[38;5;167;01mValueError\u001b[39;00m(\u001b[38;5;124m\"\u001b[39m\u001b[38;5;124m'\u001b[39m\u001b[38;5;124mlabel\u001b[39m\u001b[38;5;124m'\u001b[39m\u001b[38;5;124m must be of length \u001b[39m\u001b[38;5;124m'\u001b[39m\u001b[38;5;124mx\u001b[39m\u001b[38;5;124m'\u001b[39m\u001b[38;5;124m\"\u001b[39m)\n\u001b[1;32m   3210\u001b[0m \u001b[38;5;28;01mif\u001b[39;00m \u001b[38;5;28mlen\u001b[39m(x) \u001b[38;5;241m!=\u001b[39m \u001b[38;5;28mlen\u001b[39m(explode):\n\u001b[0;32m-> 3211\u001b[0m     \u001b[38;5;28;01mraise\u001b[39;00m \u001b[38;5;167;01mValueError\u001b[39;00m(\u001b[38;5;124m\"\u001b[39m\u001b[38;5;124m'\u001b[39m\u001b[38;5;124mexplode\u001b[39m\u001b[38;5;124m'\u001b[39m\u001b[38;5;124m must be of length \u001b[39m\u001b[38;5;124m'\u001b[39m\u001b[38;5;124mx\u001b[39m\u001b[38;5;124m'\u001b[39m\u001b[38;5;124m\"\u001b[39m)\n\u001b[1;32m   3212\u001b[0m \u001b[38;5;28;01mif\u001b[39;00m colors \u001b[38;5;129;01mis\u001b[39;00m \u001b[38;5;28;01mNone\u001b[39;00m:\n\u001b[1;32m   3213\u001b[0m     get_next_color \u001b[38;5;241m=\u001b[39m \u001b[38;5;28mself\u001b[39m\u001b[38;5;241m.\u001b[39m_get_patches_for_fill\u001b[38;5;241m.\u001b[39mget_next_color\n",
            "\u001b[0;31mValueError\u001b[0m: 'explode' must be of length 'x'"
          ]
        },
        {
          "data": {
            "image/png": "[encoded data removed]",
            "text/plain": [
              "<Figure size 600x1000 with 3 Axes>"
            ]
          },
          "metadata": {},
          "output_type": "display_data"
        }
      ],
      "source": [
        "# graphical representation of the variables 'Samples Available' and 'Documents Provided' separated and grouped\n",
        "\n",
        "plt.figure(figsize=(6,10))\n",
        "\n",
        "# Samples available\n",
        "plt.subplot(131)\n",
        "plt.title('Samples available?')\n",
        "\n",
        "quotes_ordered[\"Samples Available\"].value_counts().plot(\n",
        "    kind='pie',\n",
        "    autopct='%1.1f%%',\n",
        "    explode=(0.05, 0.05),\n",
        "    colors=['lightcoral', 'lightgreen'], \n",
        ")\n",
        "plt.ylabel('')\n",
        "\n",
        "# Documents Provided\n",
        "plt.subplot(132)\n",
        "plt.title('Documents Provided?')\n",
        "\n",
        "quotes_ordered[\"Documents Provided\"].value_counts().plot(\n",
        "    kind='pie',\n",
        "    autopct='%1.1f%%',\n",
        "    explode=(0.05, 0.05),\n",
        "    colors=['lightgreen', 'lightcoral'], \n",
        ")\n",
        "plt.ylabel('')\n",
        "\n",
        "# Samples available and Documents Provided\n",
        "\n",
        "#### note ...\n",
        "# i nedd to create an other column to aditionate this 2 values and draw after \n",
        "\n",
        "\n",
        "group_samples_provided = quotes_ordered[(quotes_ordered['Samples Available'] == 'Yes') & (quotes_ordered['Documents Provided'] == 'Yes')]\n",
        "\n",
        "plt.subplot(133)\n",
        "plt.title('')\n",
        "\n",
        "group_samples_provided['Samples Available'].value_counts().plot(\n",
        "    kind='pie',\n",
        "    autopct='%1.1f%%',\n",
        "    explode=(0.05, 0.05),\n",
        "    colors=['lightgreen', 'lightcoral'], \n",
        ")\n",
        "plt.ylabel('')\n",
        "\n",
        "plt.show()\n"
      ]
    },
    {
      "cell_type": "code",
      "execution_count": 156,
      "metadata": {},
      "outputs": [
        {
          "data": {
            "text/html": [
              "<div>\n",
              "<style scoped>\n",
              "    .dataframe tbody tr th:only-of-type {\n",
              "        vertical-align: middle;\n",
              "    }\n",
              "\n",
              "    .dataframe tbody tr th {\n",
              "        vertical-align: top;\n",
              "    }\n",
              "\n",
              "    .dataframe thead th {\n",
              "        text-align: right;\n",
              "    }\n",
              "</style>\n",
              "<table border=\"1\" class=\"dataframe\">\n",
              "  <thead>\n",
              "    <tr style=\"text-align: right;\">\n",
              "      <th></th>\n",
              "      <th>Request UUID</th>\n",
              "      <th>Quote Unit Price</th>\n",
              "      <th>Status</th>\n",
              "      <th>Decline Reason</th>\n",
              "      <th>Samples Available</th>\n",
              "      <th>Documents Provided</th>\n",
              "      <th>Decline Reason New</th>\n",
              "    </tr>\n",
              "  </thead>\n",
              "  <tbody>\n",
              "    <tr>\n",
              "      <th>28</th>\n",
              "      <td>fca03c4f-3f16-40d0-b87c-16d9343e4a52</td>\n",
              "      <td>£4.65</td>\n",
              "      <td>Ordered</td>\n",
              "      <td>NaN</td>\n",
              "      <td>Yes</td>\n",
              "      <td>Yes</td>\n",
              "      <td>no decline</td>\n",
              "    </tr>\n",
              "    <tr>\n",
              "      <th>88</th>\n",
              "      <td>26137052-6469-47ef-9ac2-a0fd353acdaf</td>\n",
              "      <td>£1.60</td>\n",
              "      <td>Ordered</td>\n",
              "      <td>NaN</td>\n",
              "      <td>Yes</td>\n",
              "      <td>Yes</td>\n",
              "      <td>no decline</td>\n",
              "    </tr>\n",
              "    <tr>\n",
              "      <th>136</th>\n",
              "      <td>fc24a58c-9cac-43a0-a198-136e8a89e2ba</td>\n",
              "      <td>£1.10</td>\n",
              "      <td>Ordered</td>\n",
              "      <td>NaN</td>\n",
              "      <td>Yes</td>\n",
              "      <td>Yes</td>\n",
              "      <td>no decline</td>\n",
              "    </tr>\n",
              "    <tr>\n",
              "      <th>142</th>\n",
              "      <td>719bf28d-9b8f-4f62-bab4-6a6dc0125770</td>\n",
              "      <td>£5.90</td>\n",
              "      <td>Ordered</td>\n",
              "      <td>NaN</td>\n",
              "      <td>Yes</td>\n",
              "      <td>Yes</td>\n",
              "      <td>no decline</td>\n",
              "    </tr>\n",
              "    <tr>\n",
              "      <th>220</th>\n",
              "      <td>8e24415e-0e99-4312-89df-1a549ac60892</td>\n",
              "      <td>£4.00</td>\n",
              "      <td>Ordered</td>\n",
              "      <td>NaN</td>\n",
              "      <td>Yes</td>\n",
              "      <td>Yes</td>\n",
              "      <td>no decline</td>\n",
              "    </tr>\n",
              "  </tbody>\n",
              "</table>\n",
              "</div>"
            ],
            "text/plain": [
              "                             Request UUID Quote Unit Price   Status  \\\n",
              "28   fca03c4f-3f16-40d0-b87c-16d9343e4a52            £4.65  Ordered   \n",
              "88   26137052-6469-47ef-9ac2-a0fd353acdaf            £1.60  Ordered   \n",
              "136  fc24a58c-9cac-43a0-a198-136e8a89e2ba            £1.10  Ordered   \n",
              "142  719bf28d-9b8f-4f62-bab4-6a6dc0125770            £5.90  Ordered   \n",
              "220  8e24415e-0e99-4312-89df-1a549ac60892            £4.00  Ordered   \n",
              "\n",
              "    Decline Reason Samples Available Documents Provided Decline Reason New  \n",
              "28             NaN               Yes                Yes         no decline  \n",
              "88             NaN               Yes                Yes         no decline  \n",
              "136            NaN               Yes                Yes         no decline  \n",
              "142            NaN               Yes                Yes         no decline  \n",
              "220            NaN               Yes                Yes         no decline  "
            ]
          },
          "execution_count": 156,
          "metadata": {},
          "output_type": "execute_result"
        }
      ],
      "source": [
        "group_samples_provided = quotes_ordered[(quotes_ordered['Samples Available'] == 'Yes') & (quotes_ordered['Documents Provided'] == 'Yes')]\n",
        "group_samples_provided.head()"
      ]
    },
    {
      "cell_type": "code",
      "execution_count": 46,
      "metadata": {
        "colab": {
          "base_uri": "https://localhost:8080/"
        },
        "id": "1Qk-CNkbEE9y",
        "outputId": "e1b60a0b-9062-403c-cfdd-f0662b12f635"
      },
      "outputs": [
        {
          "data": {
            "text/plain": [
              "19"
            ]
          },
          "execution_count": 46,
          "metadata": {},
          "output_type": "execute_result"
        }
      ],
      "source": [
        "# column : Samples Available and Documents Provided = \"Yes\" in the same time\n",
        "\n",
        "len(quotes_ordered[(quotes_ordered['Samples Available'] == 'Yes') & (quotes_ordered['Documents Provided'] == 'Yes')])\n"
      ]
    },
    {
      "cell_type": "markdown",
      "metadata": {
        "id": "Ec81LLrlEs3W"
      },
      "source": [
        "* On accepted quotes, approximately:\n",
        " * 40% have Samples Available\n",
        " * 36% have Documents Provided\n",
        " * 33% have both Samples Available and Documents Provided"
      ]
    },
    {
      "cell_type": "code",
      "execution_count": null,
      "metadata": {
        "id": "fAbfXZFuErtp"
      },
      "outputs": [],
      "source": []
    },
    {
      "cell_type": "markdown",
      "metadata": {
        "id": "Sk8IqBKcHV3D"
      },
      "source": [
        "### Merge quotes_order with Request\n",
        "\n"
      ]
    },
    {
      "cell_type": "markdown",
      "metadata": {
        "id": "9i_27WYhHqiM"
      },
      "source": [
        "* understanding why a quote is accepted based on the\n",
        " * Target Unit Price\n",
        " * Current Unit Price\n",
        " * Quote Unit Price\n",
        "\n",
        "---\n",
        "\n"
      ]
    },
    {
      "cell_type": "code",
      "execution_count": 47,
      "metadata": {
        "colab": {
          "base_uri": "https://localhost:8080/",
          "height": 275
        },
        "id": "gYOy-5L3Ie8m",
        "outputId": "5d52e893-8e99-42ea-9928-274f023bec4b"
      },
      "outputs": [
        {
          "name": "stdout",
          "output_type": "stream",
          "text": [
            "(58, 6)\n"
          ]
        },
        {
          "ename": "NameError",
          "evalue": "name 'quotes_order_request' is not defined",
          "output_type": "error",
          "traceback": [
            "\u001b[0;31m---------------------------------------------------------------------------\u001b[0m",
            "\u001b[0;31mNameError\u001b[0m                                 Traceback (most recent call last)",
            "Cell \u001b[0;32mIn[47], line 5\u001b[0m\n\u001b[1;32m      3\u001b[0m \u001b[38;5;28mprint\u001b[39m(quotes_ordered\u001b[38;5;241m.\u001b[39mshape)\n\u001b[1;32m      4\u001b[0m quotes_ordered_request \u001b[38;5;241m=\u001b[39m quotes_ordered\u001b[38;5;241m.\u001b[39mmerge(right\u001b[38;5;241m=\u001b[39m request, on\u001b[38;5;241m=\u001b[39m \u001b[38;5;124m'\u001b[39m\u001b[38;5;124mRequest UUID\u001b[39m\u001b[38;5;124m'\u001b[39m, how \u001b[38;5;241m=\u001b[39m \u001b[38;5;124m'\u001b[39m\u001b[38;5;124minner\u001b[39m\u001b[38;5;124m'\u001b[39m)\n\u001b[0;32m----> 5\u001b[0m \u001b[38;5;28mprint\u001b[39m(quotes_order_request\u001b[38;5;241m.\u001b[39mshape)\n\u001b[1;32m      6\u001b[0m quotes_ordered_request\u001b[38;5;241m.\u001b[39mhead()\n",
            "\u001b[0;31mNameError\u001b[0m: name 'quotes_order_request' is not defined"
          ]
        }
      ],
      "source": [
        "# inner merge\n",
        "\n",
        "print(quotes_ordered.shape)\n",
        "quotes_ordered_request = quotes_ordered.merge(right= request, on= 'Request UUID', how = 'inner')\n",
        "print(quotes_order_request.shape)\n",
        "quotes_ordered_request.head()"
      ]
    },
    {
      "cell_type": "code",
      "execution_count": null,
      "metadata": {
        "id": "_BmmAc4LNTgW"
      },
      "outputs": [],
      "source": [
        "# delete £ on columns 'price'\n",
        "\n",
        "quotes_ordered_request['Quote Unit Price'] = quotes_ordered_request['Quote Unit Price'].replace('£', '', regex=True)\n",
        "quotes_ordered_request['Current Unit Price'] = quotes_ordered_request['Current Unit Price'].replace('£', '', regex=True)\n",
        "quotes_ordered_request['Target Unit Price'] = quotes_ordered_request['Target Unit Price'].replace('£', '', regex=True)"
      ]
    },
    {
      "cell_type": "code",
      "execution_count": null,
      "metadata": {
        "colab": {
          "base_uri": "https://localhost:8080/",
          "height": 240
        },
        "id": "djtwCGy3N09Z",
        "outputId": "f9f16f81-81cb-499d-ef8f-b89ff5a42fdd"
      },
      "outputs": [
        {
          "data": {
            "text/html": [
              "\n",
              "  <div id=\"df-7f0c5951-f7c4-4ecd-b4cf-1fa0da275df9\" class=\"colab-df-container\">\n",
              "    <div>\n",
              "<style scoped>\n",
              "    .dataframe tbody tr th:only-of-type {\n",
              "        vertical-align: middle;\n",
              "    }\n",
              "\n",
              "    .dataframe tbody tr th {\n",
              "        vertical-align: top;\n",
              "    }\n",
              "\n",
              "    .dataframe thead th {\n",
              "        text-align: right;\n",
              "    }\n",
              "</style>\n",
              "<table border=\"1\" class=\"dataframe\">\n",
              "  <thead>\n",
              "    <tr style=\"text-align: right;\">\n",
              "      <th></th>\n",
              "      <th>Request UUID</th>\n",
              "      <th>Quote Unit Price</th>\n",
              "      <th>Status</th>\n",
              "      <th>Decline Reason</th>\n",
              "      <th>Samples Available</th>\n",
              "      <th>Documents Provided</th>\n",
              "      <th>Current Unit Price</th>\n",
              "      <th>Target Unit Price</th>\n",
              "      <th>Supply Priority</th>\n",
              "    </tr>\n",
              "  </thead>\n",
              "  <tbody>\n",
              "    <tr>\n",
              "      <th>0</th>\n",
              "      <td>fca03c4f-3f16-40d0-b87c-16d9343e4a52</td>\n",
              "      <td>4.65</td>\n",
              "      <td>Ordered</td>\n",
              "      <td>NaN</td>\n",
              "      <td>Yes</td>\n",
              "      <td>Yes</td>\n",
              "      <td>4.50</td>\n",
              "      <td>4.50</td>\n",
              "      <td>Price</td>\n",
              "    </tr>\n",
              "    <tr>\n",
              "      <th>1</th>\n",
              "      <td>d596642b-c417-49e6-aa3b-ec6185fb2b9f</td>\n",
              "      <td>0.58</td>\n",
              "      <td>Ordered</td>\n",
              "      <td>NaN</td>\n",
              "      <td>No</td>\n",
              "      <td>Yes</td>\n",
              "      <td>1.00</td>\n",
              "      <td>1.00</td>\n",
              "      <td>Price</td>\n",
              "    </tr>\n",
              "    <tr>\n",
              "      <th>2</th>\n",
              "      <td>9cf11f62-7b1e-4a7f-9c40-c12ad721a72b</td>\n",
              "      <td>1.66</td>\n",
              "      <td>Ordered</td>\n",
              "      <td>NaN</td>\n",
              "      <td>No</td>\n",
              "      <td>Yes</td>\n",
              "      <td>1.66</td>\n",
              "      <td>1.66</td>\n",
              "      <td>Price</td>\n",
              "    </tr>\n",
              "    <tr>\n",
              "      <th>3</th>\n",
              "      <td>3c583881-a99d-42ca-a81b-648bc6884976</td>\n",
              "      <td>1.58</td>\n",
              "      <td>Ordered</td>\n",
              "      <td>NaN</td>\n",
              "      <td>No</td>\n",
              "      <td>Yes</td>\n",
              "      <td>1.66</td>\n",
              "      <td>1.66</td>\n",
              "      <td>Price</td>\n",
              "    </tr>\n",
              "    <tr>\n",
              "      <th>4</th>\n",
              "      <td>2473d2dc-0a5c-4a61-a73d-3050faf0f7a0</td>\n",
              "      <td>3.77</td>\n",
              "      <td>Ordered</td>\n",
              "      <td>NaN</td>\n",
              "      <td>Yes</td>\n",
              "      <td>No</td>\n",
              "      <td>3.00</td>\n",
              "      <td>3.00</td>\n",
              "      <td>Price</td>\n",
              "    </tr>\n",
              "  </tbody>\n",
              "</table>\n",
              "</div>\n",
              "    <div class=\"colab-df-buttons\">\n",
              "\n",
              "  <div class=\"colab-df-container\">\n",
              "    <button class=\"colab-df-convert\" onclick=\"convertToInteractive('df-7f0c5951-f7c4-4ecd-b4cf-1fa0da275df9')\"\n",
              "            title=\"Convert this dataframe to an interactive table.\"\n",
              "            style=\"display:none;\">\n",
              "\n",
              "  <svg xmlns=\"http://www.w3.org/2000/svg\" height=\"24px\" viewBox=\"0 -960 960 960\">\n",
              "    <path d=\"M120-120v-720h720v720H120Zm60-500h600v-160H180v160Zm220 220h160v-160H400v160Zm0 220h160v-160H400v160ZM180-400h160v-160H180v160Zm440 0h160v-160H620v160ZM180-180h160v-160H180v160Zm440 0h160v-160H620v160Z\"/>\n",
              "  </svg>\n",
              "    </button>\n",
              "\n",
              "  <style>\n",
              "    .colab-df-container {\n",
              "      display:flex;\n",
              "      gap: 12px;\n",
              "    }\n",
              "\n",
              "    .colab-df-convert {\n",
              "      background-color: #E8F0FE;\n",
              "      border: none;\n",
              "      border-radius: 50%;\n",
              "      cursor: pointer;\n",
              "      display: none;\n",
              "      fill: #1967D2;\n",
              "      height: 32px;\n",
              "      padding: 0 0 0 0;\n",
              "      width: 32px;\n",
              "    }\n",
              "\n",
              "    .colab-df-convert:hover {\n",
              "      background-color: #E2EBFA;\n",
              "      box-shadow: 0px 1px 2px rgba(60, 64, 67, 0.3), 0px 1px 3px 1px rgba(60, 64, 67, 0.15);\n",
              "      fill: #174EA6;\n",
              "    }\n",
              "\n",
              "    .colab-df-buttons div {\n",
              "      margin-bottom: 4px;\n",
              "    }\n",
              "\n",
              "    [theme=dark] .colab-df-convert {\n",
              "      background-color: #3B4455;\n",
              "      fill: #D2E3FC;\n",
              "    }\n",
              "\n",
              "    [theme=dark] .colab-df-convert:hover {\n",
              "      background-color: #434B5C;\n",
              "      box-shadow: 0px 1px 3px 1px rgba(0, 0, 0, 0.15);\n",
              "      filter: drop-shadow(0px 1px 2px rgba(0, 0, 0, 0.3));\n",
              "      fill: #FFFFFF;\n",
              "    }\n",
              "  </style>\n",
              "\n",
              "    <script>\n",
              "      const buttonEl =\n",
              "        document.querySelector('#df-7f0c5951-f7c4-4ecd-b4cf-1fa0da275df9 button.colab-df-convert');\n",
              "      buttonEl.style.display =\n",
              "        google.colab.kernel.accessAllowed ? 'block' : 'none';\n",
              "\n",
              "      async function convertToInteractive(key) {\n",
              "        const element = document.querySelector('#df-7f0c5951-f7c4-4ecd-b4cf-1fa0da275df9');\n",
              "        const dataTable =\n",
              "          await google.colab.kernel.invokeFunction('convertToInteractive',\n",
              "                                                    [key], {});\n",
              "        if (!dataTable) return;\n",
              "\n",
              "        const docLinkHtml = 'Like what you see? Visit the ' +\n",
              "          '<a target=\"_blank\" href=https://colab.research.google.com/notebooks/data_table.ipynb>data table notebook</a>'\n",
              "          + ' to learn more about interactive tables.';\n",
              "        element.innerHTML = '';\n",
              "        dataTable['output_type'] = 'display_data';\n",
              "        await google.colab.output.renderOutput(dataTable, element);\n",
              "        const docLink = document.createElement('div');\n",
              "        docLink.innerHTML = docLinkHtml;\n",
              "        element.appendChild(docLink);\n",
              "      }\n",
              "    </script>\n",
              "  </div>\n",
              "\n",
              "\n",
              "<div id=\"df-051b16bb-999c-47df-8530-1fcb5c41ab3d\">\n",
              "  <button class=\"colab-df-quickchart\" onclick=\"quickchart('df-051b16bb-999c-47df-8530-1fcb5c41ab3d')\"\n",
              "            title=\"Suggest charts\"\n",
              "            style=\"display:none;\">\n",
              "\n",
              "<svg xmlns=\"http://www.w3.org/2000/svg\" height=\"24px\"viewBox=\"0 0 24 24\"\n",
              "     width=\"24px\">\n",
              "    <g>\n",
              "        <path d=\"M19 3H5c-1.1 0-2 .9-2 2v14c0 1.1.9 2 2 2h14c1.1 0 2-.9 2-2V5c0-1.1-.9-2-2-2zM9 17H7v-7h2v7zm4 0h-2V7h2v10zm4 0h-2v-4h2v4z\"/>\n",
              "    </g>\n",
              "</svg>\n",
              "  </button>\n",
              "\n",
              "<style>\n",
              "  .colab-df-quickchart {\n",
              "      --bg-color: #E8F0FE;\n",
              "      --fill-color: #1967D2;\n",
              "      --hover-bg-color: #E2EBFA;\n",
              "      --hover-fill-color: #174EA6;\n",
              "      --disabled-fill-color: #AAA;\n",
              "      --disabled-bg-color: #DDD;\n",
              "  }\n",
              "\n",
              "  [theme=dark] .colab-df-quickchart {\n",
              "      --bg-color: #3B4455;\n",
              "      --fill-color: #D2E3FC;\n",
              "      --hover-bg-color: #434B5C;\n",
              "      --hover-fill-color: #FFFFFF;\n",
              "      --disabled-bg-color: #3B4455;\n",
              "      --disabled-fill-color: #666;\n",
              "  }\n",
              "\n",
              "  .colab-df-quickchart {\n",
              "    background-color: var(--bg-color);\n",
              "    border: none;\n",
              "    border-radius: 50%;\n",
              "    cursor: pointer;\n",
              "    display: none;\n",
              "    fill: var(--fill-color);\n",
              "    height: 32px;\n",
              "    padding: 0;\n",
              "    width: 32px;\n",
              "  }\n",
              "\n",
              "  .colab-df-quickchart:hover {\n",
              "    background-color: var(--hover-bg-color);\n",
              "    box-shadow: 0 1px 2px rgba(60, 64, 67, 0.3), 0 1px 3px 1px rgba(60, 64, 67, 0.15);\n",
              "    fill: var(--button-hover-fill-color);\n",
              "  }\n",
              "\n",
              "  .colab-df-quickchart-complete:disabled,\n",
              "  .colab-df-quickchart-complete:disabled:hover {\n",
              "    background-color: var(--disabled-bg-color);\n",
              "    fill: var(--disabled-fill-color);\n",
              "    box-shadow: none;\n",
              "  }\n",
              "\n",
              "  .colab-df-spinner {\n",
              "    border: 2px solid var(--fill-color);\n",
              "    border-color: transparent;\n",
              "    border-bottom-color: var(--fill-color);\n",
              "    animation:\n",
              "      spin 1s steps(1) infinite;\n",
              "  }\n",
              "\n",
              "  @keyframes spin {\n",
              "    0% {\n",
              "      border-color: transparent;\n",
              "      border-bottom-color: var(--fill-color);\n",
              "      border-left-color: var(--fill-color);\n",
              "    }\n",
              "    20% {\n",
              "      border-color: transparent;\n",
              "      border-left-color: var(--fill-color);\n",
              "      border-top-color: var(--fill-color);\n",
              "    }\n",
              "    30% {\n",
              "      border-color: transparent;\n",
              "      border-left-color: var(--fill-color);\n",
              "      border-top-color: var(--fill-color);\n",
              "      border-right-color: var(--fill-color);\n",
              "    }\n",
              "    40% {\n",
              "      border-color: transparent;\n",
              "      border-right-color: var(--fill-color);\n",
              "      border-top-color: var(--fill-color);\n",
              "    }\n",
              "    60% {\n",
              "      border-color: transparent;\n",
              "      border-right-color: var(--fill-color);\n",
              "    }\n",
              "    80% {\n",
              "      border-color: transparent;\n",
              "      border-right-color: var(--fill-color);\n",
              "      border-bottom-color: var(--fill-color);\n",
              "    }\n",
              "    90% {\n",
              "      border-color: transparent;\n",
              "      border-bottom-color: var(--fill-color);\n",
              "    }\n",
              "  }\n",
              "</style>\n",
              "\n",
              "  <script>\n",
              "    async function quickchart(key) {\n",
              "      const quickchartButtonEl =\n",
              "        document.querySelector('#' + key + ' button');\n",
              "      quickchartButtonEl.disabled = true;  // To prevent multiple clicks.\n",
              "      quickchartButtonEl.classList.add('colab-df-spinner');\n",
              "      try {\n",
              "        const charts = await google.colab.kernel.invokeFunction(\n",
              "            'suggestCharts', [key], {});\n",
              "      } catch (error) {\n",
              "        console.error('Error during call to suggestCharts:', error);\n",
              "      }\n",
              "      quickchartButtonEl.classList.remove('colab-df-spinner');\n",
              "      quickchartButtonEl.classList.add('colab-df-quickchart-complete');\n",
              "    }\n",
              "    (() => {\n",
              "      let quickchartButtonEl =\n",
              "        document.querySelector('#df-051b16bb-999c-47df-8530-1fcb5c41ab3d button');\n",
              "      quickchartButtonEl.style.display =\n",
              "        google.colab.kernel.accessAllowed ? 'block' : 'none';\n",
              "    })();\n",
              "  </script>\n",
              "</div>\n",
              "    </div>\n",
              "  </div>\n"
            ],
            "text/plain": [
              "                           Request UUID Quote Unit Price   Status  \\\n",
              "0  fca03c4f-3f16-40d0-b87c-16d9343e4a52             4.65  Ordered   \n",
              "1  d596642b-c417-49e6-aa3b-ec6185fb2b9f             0.58  Ordered   \n",
              "2  9cf11f62-7b1e-4a7f-9c40-c12ad721a72b             1.66  Ordered   \n",
              "3  3c583881-a99d-42ca-a81b-648bc6884976             1.58  Ordered   \n",
              "4  2473d2dc-0a5c-4a61-a73d-3050faf0f7a0             3.77  Ordered   \n",
              "\n",
              "  Decline Reason Samples Available Documents Provided Current Unit Price  \\\n",
              "0            NaN               Yes                Yes               4.50   \n",
              "1            NaN                No                Yes               1.00   \n",
              "2            NaN                No                Yes               1.66   \n",
              "3            NaN                No                Yes               1.66   \n",
              "4            NaN               Yes                 No               3.00   \n",
              "\n",
              "  Target Unit Price Supply Priority  \n",
              "0              4.50           Price  \n",
              "1              1.00           Price  \n",
              "2              1.66           Price  \n",
              "3              1.66           Price  \n",
              "4              3.00           Price  "
            ]
          },
          "execution_count": 145,
          "metadata": {},
          "output_type": "execute_result"
        }
      ],
      "source": [
        "quotes_ordered_request.head()"
      ]
    },
    {
      "cell_type": "code",
      "execution_count": null,
      "metadata": {
        "id": "5giMAQFyOvst"
      },
      "outputs": [],
      "source": [
        "# convert columns 'price' to integer\n",
        "\n",
        "columns_to_convert = ['Quote Unit Price', 'Current Unit Price', 'Target Unit Price']\n",
        "quotes_ordered_request[columns_to_convert] = quotes_ordered_request[columns_to_convert].astype(float).round(2)\n"
      ]
    },
    {
      "cell_type": "code",
      "execution_count": null,
      "metadata": {
        "colab": {
          "base_uri": "https://localhost:8080/"
        },
        "id": "2YRzLn1UOP9s",
        "outputId": "ad1177b8-e21d-48ca-e55b-831e6ff98045"
      },
      "outputs": [
        {
          "name": "stdout",
          "output_type": "stream",
          "text": [
            "<class 'pandas.core.frame.DataFrame'>\n",
            "Int64Index: 58 entries, 0 to 57\n",
            "Data columns (total 9 columns):\n",
            " #   Column              Non-Null Count  Dtype  \n",
            "---  ------              --------------  -----  \n",
            " 0   Request UUID        58 non-null     object \n",
            " 1   Quote Unit Price    58 non-null     float64\n",
            " 2   Status              58 non-null     object \n",
            " 3   Decline Reason      0 non-null      object \n",
            " 4   Samples Available   58 non-null     object \n",
            " 5   Documents Provided  58 non-null     object \n",
            " 6   Current Unit Price  58 non-null     float64\n",
            " 7   Target Unit Price   58 non-null     float64\n",
            " 8   Supply Priority     39 non-null     object \n",
            "dtypes: float64(3), object(6)\n",
            "memory usage: 4.5+ KB\n"
          ]
        }
      ],
      "source": [
        "quotes_ordered_request.info()"
      ]
    },
    {
      "cell_type": "code",
      "execution_count": null,
      "metadata": {
        "id": "J6dD_yVkM682"
      },
      "outputs": [],
      "source": [
        "# delete rows with values = 0,01\n",
        "\n",
        "quotes_ordered_request = quotes_ordered_request.loc[(quotes_ordered_request['Current Unit Price'] != 0.01) & (quotes_ordered_request['Target Unit Price'] != 0.01)]\n"
      ]
    },
    {
      "cell_type": "markdown",
      "metadata": {
        "id": "oJS0BfBgK_3k"
      },
      "source": [
        "* Addition of a column **'Price Difference (%)'** that calculates the percentage between the value requested by the buyer **Target Unit Price** and the price provided on the quote by the buyer **Quote Unit Price.**"
      ]
    },
    {
      "cell_type": "code",
      "execution_count": null,
      "metadata": {
        "colab": {
          "base_uri": "https://localhost:8080/"
        },
        "id": "F9_C85WDLBI1",
        "outputId": "8fe590f1-d536-42c8-c8e0-2b8f680710cc"
      },
      "outputs": [
        {
          "name": "stderr",
          "output_type": "stream",
          "text": [
            "<ipython-input-149-6c4dddc26466>:1: SettingWithCopyWarning: \n",
            "A value is trying to be set on a copy of a slice from a DataFrame.\n",
            "Try using .loc[row_indexer,col_indexer] = value instead\n",
            "\n",
            "See the caveats in the documentation: https://pandas.pydata.org/pandas-docs/stable/user_guide/indexing.html#returning-a-view-versus-a-copy\n",
            "  quotes_ordered_request['Price Difference (%)'] = ((quotes_ordered_request['Quote Unit Price'] - quotes_ordered_request['Target Unit Price']) / quotes_ordered_request['Target Unit Price']) * 100\n"
          ]
        }
      ],
      "source": [
        "quotes_ordered_request['Price Difference (%)'] = ((quotes_ordered_request['Quote Unit Price'] - quotes_ordered_request['Target Unit Price']) / quotes_ordered_request['Target Unit Price']) * 100\n"
      ]
    },
    {
      "cell_type": "code",
      "execution_count": null,
      "metadata": {
        "colab": {
          "base_uri": "https://localhost:8080/",
          "height": 310
        },
        "id": "cz3_rtkhQVEB",
        "outputId": "5903312e-364b-43e4-992e-65ae7d41f08d"
      },
      "outputs": [
        {
          "data": {
            "text/html": [
              "\n",
              "  <div id=\"df-81ea3520-5d9a-4c73-9a9c-cbeffe593bfa\" class=\"colab-df-container\">\n",
              "    <div>\n",
              "<style scoped>\n",
              "    .dataframe tbody tr th:only-of-type {\n",
              "        vertical-align: middle;\n",
              "    }\n",
              "\n",
              "    .dataframe tbody tr th {\n",
              "        vertical-align: top;\n",
              "    }\n",
              "\n",
              "    .dataframe thead th {\n",
              "        text-align: right;\n",
              "    }\n",
              "</style>\n",
              "<table border=\"1\" class=\"dataframe\">\n",
              "  <thead>\n",
              "    <tr style=\"text-align: right;\">\n",
              "      <th></th>\n",
              "      <th>Request UUID</th>\n",
              "      <th>Quote Unit Price</th>\n",
              "      <th>Status</th>\n",
              "      <th>Decline Reason</th>\n",
              "      <th>Samples Available</th>\n",
              "      <th>Documents Provided</th>\n",
              "      <th>Current Unit Price</th>\n",
              "      <th>Target Unit Price</th>\n",
              "      <th>Supply Priority</th>\n",
              "      <th>Price Difference (%)</th>\n",
              "    </tr>\n",
              "  </thead>\n",
              "  <tbody>\n",
              "    <tr>\n",
              "      <th>0</th>\n",
              "      <td>fca03c4f-3f16-40d0-b87c-16d9343e4a52</td>\n",
              "      <td>4.65</td>\n",
              "      <td>Ordered</td>\n",
              "      <td>NaN</td>\n",
              "      <td>Yes</td>\n",
              "      <td>Yes</td>\n",
              "      <td>4.50</td>\n",
              "      <td>4.50</td>\n",
              "      <td>Price</td>\n",
              "      <td>3.333333</td>\n",
              "    </tr>\n",
              "    <tr>\n",
              "      <th>1</th>\n",
              "      <td>d596642b-c417-49e6-aa3b-ec6185fb2b9f</td>\n",
              "      <td>0.58</td>\n",
              "      <td>Ordered</td>\n",
              "      <td>NaN</td>\n",
              "      <td>No</td>\n",
              "      <td>Yes</td>\n",
              "      <td>1.00</td>\n",
              "      <td>1.00</td>\n",
              "      <td>Price</td>\n",
              "      <td>-42.000000</td>\n",
              "    </tr>\n",
              "    <tr>\n",
              "      <th>2</th>\n",
              "      <td>9cf11f62-7b1e-4a7f-9c40-c12ad721a72b</td>\n",
              "      <td>1.66</td>\n",
              "      <td>Ordered</td>\n",
              "      <td>NaN</td>\n",
              "      <td>No</td>\n",
              "      <td>Yes</td>\n",
              "      <td>1.66</td>\n",
              "      <td>1.66</td>\n",
              "      <td>Price</td>\n",
              "      <td>0.000000</td>\n",
              "    </tr>\n",
              "    <tr>\n",
              "      <th>3</th>\n",
              "      <td>3c583881-a99d-42ca-a81b-648bc6884976</td>\n",
              "      <td>1.58</td>\n",
              "      <td>Ordered</td>\n",
              "      <td>NaN</td>\n",
              "      <td>No</td>\n",
              "      <td>Yes</td>\n",
              "      <td>1.66</td>\n",
              "      <td>1.66</td>\n",
              "      <td>Price</td>\n",
              "      <td>-4.819277</td>\n",
              "    </tr>\n",
              "    <tr>\n",
              "      <th>4</th>\n",
              "      <td>2473d2dc-0a5c-4a61-a73d-3050faf0f7a0</td>\n",
              "      <td>3.77</td>\n",
              "      <td>Ordered</td>\n",
              "      <td>NaN</td>\n",
              "      <td>Yes</td>\n",
              "      <td>No</td>\n",
              "      <td>3.00</td>\n",
              "      <td>3.00</td>\n",
              "      <td>Price</td>\n",
              "      <td>25.666667</td>\n",
              "    </tr>\n",
              "  </tbody>\n",
              "</table>\n",
              "</div>\n",
              "    <div class=\"colab-df-buttons\">\n",
              "\n",
              "  <div class=\"colab-df-container\">\n",
              "    <button class=\"colab-df-convert\" onclick=\"convertToInteractive('df-81ea3520-5d9a-4c73-9a9c-cbeffe593bfa')\"\n",
              "            title=\"Convert this dataframe to an interactive table.\"\n",
              "            style=\"display:none;\">\n",
              "\n",
              "  <svg xmlns=\"http://www.w3.org/2000/svg\" height=\"24px\" viewBox=\"0 -960 960 960\">\n",
              "    <path d=\"M120-120v-720h720v720H120Zm60-500h600v-160H180v160Zm220 220h160v-160H400v160Zm0 220h160v-160H400v160ZM180-400h160v-160H180v160Zm440 0h160v-160H620v160ZM180-180h160v-160H180v160Zm440 0h160v-160H620v160Z\"/>\n",
              "  </svg>\n",
              "    </button>\n",
              "\n",
              "  <style>\n",
              "    .colab-df-container {\n",
              "      display:flex;\n",
              "      gap: 12px;\n",
              "    }\n",
              "\n",
              "    .colab-df-convert {\n",
              "      background-color: #E8F0FE;\n",
              "      border: none;\n",
              "      border-radius: 50%;\n",
              "      cursor: pointer;\n",
              "      display: none;\n",
              "      fill: #1967D2;\n",
              "      height: 32px;\n",
              "      padding: 0 0 0 0;\n",
              "      width: 32px;\n",
              "    }\n",
              "\n",
              "    .colab-df-convert:hover {\n",
              "      background-color: #E2EBFA;\n",
              "      box-shadow: 0px 1px 2px rgba(60, 64, 67, 0.3), 0px 1px 3px 1px rgba(60, 64, 67, 0.15);\n",
              "      fill: #174EA6;\n",
              "    }\n",
              "\n",
              "    .colab-df-buttons div {\n",
              "      margin-bottom: 4px;\n",
              "    }\n",
              "\n",
              "    [theme=dark] .colab-df-convert {\n",
              "      background-color: #3B4455;\n",
              "      fill: #D2E3FC;\n",
              "    }\n",
              "\n",
              "    [theme=dark] .colab-df-convert:hover {\n",
              "      background-color: #434B5C;\n",
              "      box-shadow: 0px 1px 3px 1px rgba(0, 0, 0, 0.15);\n",
              "      filter: drop-shadow(0px 1px 2px rgba(0, 0, 0, 0.3));\n",
              "      fill: #FFFFFF;\n",
              "    }\n",
              "  </style>\n",
              "\n",
              "    <script>\n",
              "      const buttonEl =\n",
              "        document.querySelector('#df-81ea3520-5d9a-4c73-9a9c-cbeffe593bfa button.colab-df-convert');\n",
              "      buttonEl.style.display =\n",
              "        google.colab.kernel.accessAllowed ? 'block' : 'none';\n",
              "\n",
              "      async function convertToInteractive(key) {\n",
              "        const element = document.querySelector('#df-81ea3520-5d9a-4c73-9a9c-cbeffe593bfa');\n",
              "        const dataTable =\n",
              "          await google.colab.kernel.invokeFunction('convertToInteractive',\n",
              "                                                    [key], {});\n",
              "        if (!dataTable) return;\n",
              "\n",
              "        const docLinkHtml = 'Like what you see? Visit the ' +\n",
              "          '<a target=\"_blank\" href=https://colab.research.google.com/notebooks/data_table.ipynb>data table notebook</a>'\n",
              "          + ' to learn more about interactive tables.';\n",
              "        element.innerHTML = '';\n",
              "        dataTable['output_type'] = 'display_data';\n",
              "        await google.colab.output.renderOutput(dataTable, element);\n",
              "        const docLink = document.createElement('div');\n",
              "        docLink.innerHTML = docLinkHtml;\n",
              "        element.appendChild(docLink);\n",
              "      }\n",
              "    </script>\n",
              "  </div>\n",
              "\n",
              "\n",
              "<div id=\"df-1356172b-f172-4c52-b3a7-f1c447c21b53\">\n",
              "  <button class=\"colab-df-quickchart\" onclick=\"quickchart('df-1356172b-f172-4c52-b3a7-f1c447c21b53')\"\n",
              "            title=\"Suggest charts\"\n",
              "            style=\"display:none;\">\n",
              "\n",
              "<svg xmlns=\"http://www.w3.org/2000/svg\" height=\"24px\"viewBox=\"0 0 24 24\"\n",
              "     width=\"24px\">\n",
              "    <g>\n",
              "        <path d=\"M19 3H5c-1.1 0-2 .9-2 2v14c0 1.1.9 2 2 2h14c1.1 0 2-.9 2-2V5c0-1.1-.9-2-2-2zM9 17H7v-7h2v7zm4 0h-2V7h2v10zm4 0h-2v-4h2v4z\"/>\n",
              "    </g>\n",
              "</svg>\n",
              "  </button>\n",
              "\n",
              "<style>\n",
              "  .colab-df-quickchart {\n",
              "      --bg-color: #E8F0FE;\n",
              "      --fill-color: #1967D2;\n",
              "      --hover-bg-color: #E2EBFA;\n",
              "      --hover-fill-color: #174EA6;\n",
              "      --disabled-fill-color: #AAA;\n",
              "      --disabled-bg-color: #DDD;\n",
              "  }\n",
              "\n",
              "  [theme=dark] .colab-df-quickchart {\n",
              "      --bg-color: #3B4455;\n",
              "      --fill-color: #D2E3FC;\n",
              "      --hover-bg-color: #434B5C;\n",
              "      --hover-fill-color: #FFFFFF;\n",
              "      --disabled-bg-color: #3B4455;\n",
              "      --disabled-fill-color: #666;\n",
              "  }\n",
              "\n",
              "  .colab-df-quickchart {\n",
              "    background-color: var(--bg-color);\n",
              "    border: none;\n",
              "    border-radius: 50%;\n",
              "    cursor: pointer;\n",
              "    display: none;\n",
              "    fill: var(--fill-color);\n",
              "    height: 32px;\n",
              "    padding: 0;\n",
              "    width: 32px;\n",
              "  }\n",
              "\n",
              "  .colab-df-quickchart:hover {\n",
              "    background-color: var(--hover-bg-color);\n",
              "    box-shadow: 0 1px 2px rgba(60, 64, 67, 0.3), 0 1px 3px 1px rgba(60, 64, 67, 0.15);\n",
              "    fill: var(--button-hover-fill-color);\n",
              "  }\n",
              "\n",
              "  .colab-df-quickchart-complete:disabled,\n",
              "  .colab-df-quickchart-complete:disabled:hover {\n",
              "    background-color: var(--disabled-bg-color);\n",
              "    fill: var(--disabled-fill-color);\n",
              "    box-shadow: none;\n",
              "  }\n",
              "\n",
              "  .colab-df-spinner {\n",
              "    border: 2px solid var(--fill-color);\n",
              "    border-color: transparent;\n",
              "    border-bottom-color: var(--fill-color);\n",
              "    animation:\n",
              "      spin 1s steps(1) infinite;\n",
              "  }\n",
              "\n",
              "  @keyframes spin {\n",
              "    0% {\n",
              "      border-color: transparent;\n",
              "      border-bottom-color: var(--fill-color);\n",
              "      border-left-color: var(--fill-color);\n",
              "    }\n",
              "    20% {\n",
              "      border-color: transparent;\n",
              "      border-left-color: var(--fill-color);\n",
              "      border-top-color: var(--fill-color);\n",
              "    }\n",
              "    30% {\n",
              "      border-color: transparent;\n",
              "      border-left-color: var(--fill-color);\n",
              "      border-top-color: var(--fill-color);\n",
              "      border-right-color: var(--fill-color);\n",
              "    }\n",
              "    40% {\n",
              "      border-color: transparent;\n",
              "      border-right-color: var(--fill-color);\n",
              "      border-top-color: var(--fill-color);\n",
              "    }\n",
              "    60% {\n",
              "      border-color: transparent;\n",
              "      border-right-color: var(--fill-color);\n",
              "    }\n",
              "    80% {\n",
              "      border-color: transparent;\n",
              "      border-right-color: var(--fill-color);\n",
              "      border-bottom-color: var(--fill-color);\n",
              "    }\n",
              "    90% {\n",
              "      border-color: transparent;\n",
              "      border-bottom-color: var(--fill-color);\n",
              "    }\n",
              "  }\n",
              "</style>\n",
              "\n",
              "  <script>\n",
              "    async function quickchart(key) {\n",
              "      const quickchartButtonEl =\n",
              "        document.querySelector('#' + key + ' button');\n",
              "      quickchartButtonEl.disabled = true;  // To prevent multiple clicks.\n",
              "      quickchartButtonEl.classList.add('colab-df-spinner');\n",
              "      try {\n",
              "        const charts = await google.colab.kernel.invokeFunction(\n",
              "            'suggestCharts', [key], {});\n",
              "      } catch (error) {\n",
              "        console.error('Error during call to suggestCharts:', error);\n",
              "      }\n",
              "      quickchartButtonEl.classList.remove('colab-df-spinner');\n",
              "      quickchartButtonEl.classList.add('colab-df-quickchart-complete');\n",
              "    }\n",
              "    (() => {\n",
              "      let quickchartButtonEl =\n",
              "        document.querySelector('#df-1356172b-f172-4c52-b3a7-f1c447c21b53 button');\n",
              "      quickchartButtonEl.style.display =\n",
              "        google.colab.kernel.accessAllowed ? 'block' : 'none';\n",
              "    })();\n",
              "  </script>\n",
              "</div>\n",
              "    </div>\n",
              "  </div>\n"
            ],
            "text/plain": [
              "                           Request UUID  Quote Unit Price   Status  \\\n",
              "0  fca03c4f-3f16-40d0-b87c-16d9343e4a52              4.65  Ordered   \n",
              "1  d596642b-c417-49e6-aa3b-ec6185fb2b9f              0.58  Ordered   \n",
              "2  9cf11f62-7b1e-4a7f-9c40-c12ad721a72b              1.66  Ordered   \n",
              "3  3c583881-a99d-42ca-a81b-648bc6884976              1.58  Ordered   \n",
              "4  2473d2dc-0a5c-4a61-a73d-3050faf0f7a0              3.77  Ordered   \n",
              "\n",
              "  Decline Reason Samples Available Documents Provided  Current Unit Price  \\\n",
              "0            NaN               Yes                Yes                4.50   \n",
              "1            NaN                No                Yes                1.00   \n",
              "2            NaN                No                Yes                1.66   \n",
              "3            NaN                No                Yes                1.66   \n",
              "4            NaN               Yes                 No                3.00   \n",
              "\n",
              "   Target Unit Price Supply Priority  Price Difference (%)  \n",
              "0               4.50           Price              3.333333  \n",
              "1               1.00           Price            -42.000000  \n",
              "2               1.66           Price              0.000000  \n",
              "3               1.66           Price             -4.819277  \n",
              "4               3.00           Price             25.666667  "
            ]
          },
          "execution_count": 150,
          "metadata": {},
          "output_type": "execute_result"
        }
      ],
      "source": [
        "quotes_ordered_request.head()"
      ]
    },
    {
      "cell_type": "markdown",
      "metadata": {
        "id": "leDoRE7KXHNm"
      },
      "source": [
        "* We could add 2 more columns for:\n",
        " * Price negotiated upwards.\n",
        " * Price negotiated downwards."
      ]
    },
    {
      "cell_type": "markdown",
      "metadata": {
        "id": "rYbK8qsOX-Zn"
      },
      "source": [
        "### Request"
      ]
    },
    {
      "cell_type": "code",
      "execution_count": null,
      "metadata": {
        "colab": {
          "base_uri": "https://localhost:8080/",
          "height": 206
        },
        "id": "1OKIfOpCYB_T",
        "outputId": "7812a9dd-aa88-40ca-8acc-26d4ee755598"
      },
      "outputs": [
        {
          "data": {
            "text/html": [
              "\n",
              "  <div id=\"df-b7724674-c9a2-4bea-b433-2f087b91fd7c\" class=\"colab-df-container\">\n",
              "    <div>\n",
              "<style scoped>\n",
              "    .dataframe tbody tr th:only-of-type {\n",
              "        vertical-align: middle;\n",
              "    }\n",
              "\n",
              "    .dataframe tbody tr th {\n",
              "        vertical-align: top;\n",
              "    }\n",
              "\n",
              "    .dataframe thead th {\n",
              "        text-align: right;\n",
              "    }\n",
              "</style>\n",
              "<table border=\"1\" class=\"dataframe\">\n",
              "  <thead>\n",
              "    <tr style=\"text-align: right;\">\n",
              "      <th></th>\n",
              "      <th>Request UUID</th>\n",
              "      <th>Current Unit Price</th>\n",
              "      <th>Target Unit Price</th>\n",
              "      <th>Supply Priority</th>\n",
              "    </tr>\n",
              "  </thead>\n",
              "  <tbody>\n",
              "    <tr>\n",
              "      <th>0</th>\n",
              "      <td>820412eb-8d4d-4d6c-a5e3-cfc977cd6d48</td>\n",
              "      <td>£3.50</td>\n",
              "      <td>£3.00</td>\n",
              "      <td>Price</td>\n",
              "    </tr>\n",
              "    <tr>\n",
              "      <th>1</th>\n",
              "      <td>08f1a913-1318-4656-9418-ce580a9871cb</td>\n",
              "      <td>£0.01</td>\n",
              "      <td>£0.01</td>\n",
              "      <td>Price</td>\n",
              "    </tr>\n",
              "    <tr>\n",
              "      <th>2</th>\n",
              "      <td>8cd6fd33-a1bc-43cb-9c63-df7d629d5362</td>\n",
              "      <td>£0.01</td>\n",
              "      <td>£0.01</td>\n",
              "      <td>Price</td>\n",
              "    </tr>\n",
              "    <tr>\n",
              "      <th>3</th>\n",
              "      <td>9388fbf6-410b-4f85-999a-1ff4d4cb733b</td>\n",
              "      <td>£0.01</td>\n",
              "      <td>£0.01</td>\n",
              "      <td>Price</td>\n",
              "    </tr>\n",
              "    <tr>\n",
              "      <th>4</th>\n",
              "      <td>37d05dfe-7f47-4eed-8e78-9f74c303bcad</td>\n",
              "      <td>£0.01</td>\n",
              "      <td>£0.01</td>\n",
              "      <td>Price</td>\n",
              "    </tr>\n",
              "  </tbody>\n",
              "</table>\n",
              "</div>\n",
              "    <div class=\"colab-df-buttons\">\n",
              "\n",
              "  <div class=\"colab-df-container\">\n",
              "    <button class=\"colab-df-convert\" onclick=\"convertToInteractive('df-b7724674-c9a2-4bea-b433-2f087b91fd7c')\"\n",
              "            title=\"Convert this dataframe to an interactive table.\"\n",
              "            style=\"display:none;\">\n",
              "\n",
              "  <svg xmlns=\"http://www.w3.org/2000/svg\" height=\"24px\" viewBox=\"0 -960 960 960\">\n",
              "    <path d=\"M120-120v-720h720v720H120Zm60-500h600v-160H180v160Zm220 220h160v-160H400v160Zm0 220h160v-160H400v160ZM180-400h160v-160H180v160Zm440 0h160v-160H620v160ZM180-180h160v-160H180v160Zm440 0h160v-160H620v160Z\"/>\n",
              "  </svg>\n",
              "    </button>\n",
              "\n",
              "  <style>\n",
              "    .colab-df-container {\n",
              "      display:flex;\n",
              "      gap: 12px;\n",
              "    }\n",
              "\n",
              "    .colab-df-convert {\n",
              "      background-color: #E8F0FE;\n",
              "      border: none;\n",
              "      border-radius: 50%;\n",
              "      cursor: pointer;\n",
              "      display: none;\n",
              "      fill: #1967D2;\n",
              "      height: 32px;\n",
              "      padding: 0 0 0 0;\n",
              "      width: 32px;\n",
              "    }\n",
              "\n",
              "    .colab-df-convert:hover {\n",
              "      background-color: #E2EBFA;\n",
              "      box-shadow: 0px 1px 2px rgba(60, 64, 67, 0.3), 0px 1px 3px 1px rgba(60, 64, 67, 0.15);\n",
              "      fill: #174EA6;\n",
              "    }\n",
              "\n",
              "    .colab-df-buttons div {\n",
              "      margin-bottom: 4px;\n",
              "    }\n",
              "\n",
              "    [theme=dark] .colab-df-convert {\n",
              "      background-color: #3B4455;\n",
              "      fill: #D2E3FC;\n",
              "    }\n",
              "\n",
              "    [theme=dark] .colab-df-convert:hover {\n",
              "      background-color: #434B5C;\n",
              "      box-shadow: 0px 1px 3px 1px rgba(0, 0, 0, 0.15);\n",
              "      filter: drop-shadow(0px 1px 2px rgba(0, 0, 0, 0.3));\n",
              "      fill: #FFFFFF;\n",
              "    }\n",
              "  </style>\n",
              "\n",
              "    <script>\n",
              "      const buttonEl =\n",
              "        document.querySelector('#df-b7724674-c9a2-4bea-b433-2f087b91fd7c button.colab-df-convert');\n",
              "      buttonEl.style.display =\n",
              "        google.colab.kernel.accessAllowed ? 'block' : 'none';\n",
              "\n",
              "      async function convertToInteractive(key) {\n",
              "        const element = document.querySelector('#df-b7724674-c9a2-4bea-b433-2f087b91fd7c');\n",
              "        const dataTable =\n",
              "          await google.colab.kernel.invokeFunction('convertToInteractive',\n",
              "                                                    [key], {});\n",
              "        if (!dataTable) return;\n",
              "\n",
              "        const docLinkHtml = 'Like what you see? Visit the ' +\n",
              "          '<a target=\"_blank\" href=https://colab.research.google.com/notebooks/data_table.ipynb>data table notebook</a>'\n",
              "          + ' to learn more about interactive tables.';\n",
              "        element.innerHTML = '';\n",
              "        dataTable['output_type'] = 'display_data';\n",
              "        await google.colab.output.renderOutput(dataTable, element);\n",
              "        const docLink = document.createElement('div');\n",
              "        docLink.innerHTML = docLinkHtml;\n",
              "        element.appendChild(docLink);\n",
              "      }\n",
              "    </script>\n",
              "  </div>\n",
              "\n",
              "\n",
              "<div id=\"df-ff75aa2d-720a-4cd6-b9be-09fffa7629dd\">\n",
              "  <button class=\"colab-df-quickchart\" onclick=\"quickchart('df-ff75aa2d-720a-4cd6-b9be-09fffa7629dd')\"\n",
              "            title=\"Suggest charts\"\n",
              "            style=\"display:none;\">\n",
              "\n",
              "<svg xmlns=\"http://www.w3.org/2000/svg\" height=\"24px\"viewBox=\"0 0 24 24\"\n",
              "     width=\"24px\">\n",
              "    <g>\n",
              "        <path d=\"M19 3H5c-1.1 0-2 .9-2 2v14c0 1.1.9 2 2 2h14c1.1 0 2-.9 2-2V5c0-1.1-.9-2-2-2zM9 17H7v-7h2v7zm4 0h-2V7h2v10zm4 0h-2v-4h2v4z\"/>\n",
              "    </g>\n",
              "</svg>\n",
              "  </button>\n",
              "\n",
              "<style>\n",
              "  .colab-df-quickchart {\n",
              "      --bg-color: #E8F0FE;\n",
              "      --fill-color: #1967D2;\n",
              "      --hover-bg-color: #E2EBFA;\n",
              "      --hover-fill-color: #174EA6;\n",
              "      --disabled-fill-color: #AAA;\n",
              "      --disabled-bg-color: #DDD;\n",
              "  }\n",
              "\n",
              "  [theme=dark] .colab-df-quickchart {\n",
              "      --bg-color: #3B4455;\n",
              "      --fill-color: #D2E3FC;\n",
              "      --hover-bg-color: #434B5C;\n",
              "      --hover-fill-color: #FFFFFF;\n",
              "      --disabled-bg-color: #3B4455;\n",
              "      --disabled-fill-color: #666;\n",
              "  }\n",
              "\n",
              "  .colab-df-quickchart {\n",
              "    background-color: var(--bg-color);\n",
              "    border: none;\n",
              "    border-radius: 50%;\n",
              "    cursor: pointer;\n",
              "    display: none;\n",
              "    fill: var(--fill-color);\n",
              "    height: 32px;\n",
              "    padding: 0;\n",
              "    width: 32px;\n",
              "  }\n",
              "\n",
              "  .colab-df-quickchart:hover {\n",
              "    background-color: var(--hover-bg-color);\n",
              "    box-shadow: 0 1px 2px rgba(60, 64, 67, 0.3), 0 1px 3px 1px rgba(60, 64, 67, 0.15);\n",
              "    fill: var(--button-hover-fill-color);\n",
              "  }\n",
              "\n",
              "  .colab-df-quickchart-complete:disabled,\n",
              "  .colab-df-quickchart-complete:disabled:hover {\n",
              "    background-color: var(--disabled-bg-color);\n",
              "    fill: var(--disabled-fill-color);\n",
              "    box-shadow: none;\n",
              "  }\n",
              "\n",
              "  .colab-df-spinner {\n",
              "    border: 2px solid var(--fill-color);\n",
              "    border-color: transparent;\n",
              "    border-bottom-color: var(--fill-color);\n",
              "    animation:\n",
              "      spin 1s steps(1) infinite;\n",
              "  }\n",
              "\n",
              "  @keyframes spin {\n",
              "    0% {\n",
              "      border-color: transparent;\n",
              "      border-bottom-color: var(--fill-color);\n",
              "      border-left-color: var(--fill-color);\n",
              "    }\n",
              "    20% {\n",
              "      border-color: transparent;\n",
              "      border-left-color: var(--fill-color);\n",
              "      border-top-color: var(--fill-color);\n",
              "    }\n",
              "    30% {\n",
              "      border-color: transparent;\n",
              "      border-left-color: var(--fill-color);\n",
              "      border-top-color: var(--fill-color);\n",
              "      border-right-color: var(--fill-color);\n",
              "    }\n",
              "    40% {\n",
              "      border-color: transparent;\n",
              "      border-right-color: var(--fill-color);\n",
              "      border-top-color: var(--fill-color);\n",
              "    }\n",
              "    60% {\n",
              "      border-color: transparent;\n",
              "      border-right-color: var(--fill-color);\n",
              "    }\n",
              "    80% {\n",
              "      border-color: transparent;\n",
              "      border-right-color: var(--fill-color);\n",
              "      border-bottom-color: var(--fill-color);\n",
              "    }\n",
              "    90% {\n",
              "      border-color: transparent;\n",
              "      border-bottom-color: var(--fill-color);\n",
              "    }\n",
              "  }\n",
              "</style>\n",
              "\n",
              "  <script>\n",
              "    async function quickchart(key) {\n",
              "      const quickchartButtonEl =\n",
              "        document.querySelector('#' + key + ' button');\n",
              "      quickchartButtonEl.disabled = true;  // To prevent multiple clicks.\n",
              "      quickchartButtonEl.classList.add('colab-df-spinner');\n",
              "      try {\n",
              "        const charts = await google.colab.kernel.invokeFunction(\n",
              "            'suggestCharts', [key], {});\n",
              "      } catch (error) {\n",
              "        console.error('Error during call to suggestCharts:', error);\n",
              "      }\n",
              "      quickchartButtonEl.classList.remove('colab-df-spinner');\n",
              "      quickchartButtonEl.classList.add('colab-df-quickchart-complete');\n",
              "    }\n",
              "    (() => {\n",
              "      let quickchartButtonEl =\n",
              "        document.querySelector('#df-ff75aa2d-720a-4cd6-b9be-09fffa7629dd button');\n",
              "      quickchartButtonEl.style.display =\n",
              "        google.colab.kernel.accessAllowed ? 'block' : 'none';\n",
              "    })();\n",
              "  </script>\n",
              "</div>\n",
              "    </div>\n",
              "  </div>\n"
            ],
            "text/plain": [
              "                           Request UUID Current Unit Price Target Unit Price  \\\n",
              "0  820412eb-8d4d-4d6c-a5e3-cfc977cd6d48              £3.50             £3.00   \n",
              "1  08f1a913-1318-4656-9418-ce580a9871cb              £0.01             £0.01   \n",
              "2  8cd6fd33-a1bc-43cb-9c63-df7d629d5362              £0.01             £0.01   \n",
              "3  9388fbf6-410b-4f85-999a-1ff4d4cb733b              £0.01             £0.01   \n",
              "4  37d05dfe-7f47-4eed-8e78-9f74c303bcad              £0.01             £0.01   \n",
              "\n",
              "  Supply Priority  \n",
              "0           Price  \n",
              "1           Price  \n",
              "2           Price  \n",
              "3           Price  \n",
              "4           Price  "
            ]
          },
          "execution_count": 151,
          "metadata": {},
          "output_type": "execute_result"
        }
      ],
      "source": [
        "request.head()"
      ]
    },
    {
      "cell_type": "code",
      "execution_count": null,
      "metadata": {
        "id": "1evbkcVfYPni"
      },
      "outputs": [],
      "source": [
        "# delete £\n",
        "request['Current Unit Price'] = request['Current Unit Price'].replace('£', '', regex=True)\n",
        "request['Target Unit Price'] = request['Target Unit Price'].replace('£', '', regex=True)"
      ]
    },
    {
      "cell_type": "code",
      "execution_count": null,
      "metadata": {
        "id": "ZfZmbkBuYmEb"
      },
      "outputs": [],
      "source": [
        "# delete rows with values = 0,01\n",
        "\n",
        "request = request.loc[(request['Current Unit Price'] != '0.01') & (request['Target Unit Price'] != '0.01')]\n"
      ]
    },
    {
      "cell_type": "code",
      "execution_count": null,
      "metadata": {
        "colab": {
          "base_uri": "https://localhost:8080/"
        },
        "id": "SjmUvujqZjM7",
        "outputId": "8468b31e-c468-444c-b91f-0778a983b8f7"
      },
      "outputs": [
        {
          "data": {
            "text/plain": [
              "(354, 4)"
            ]
          },
          "execution_count": 155,
          "metadata": {},
          "output_type": "execute_result"
        }
      ],
      "source": [
        "request.shape"
      ]
    },
    {
      "cell_type": "code",
      "execution_count": null,
      "metadata": {
        "id": "z4LLZf8fY0f0"
      },
      "outputs": [],
      "source": [
        "# convert columns 'price' to integer\n",
        "\n",
        "request[columns_to_convert] = request[columns_to_convert].replace({',': ''}, regex=True).astype(float).round(2)\n",
        "\n",
        "columns_to_convert = ['Current Unit Price', 'Target Unit Price']\n",
        "request[columns_to_convert] = request[columns_to_convert].astype(float).round(2)\n"
      ]
    },
    {
      "cell_type": "code",
      "execution_count": null,
      "metadata": {
        "colab": {
          "base_uri": "https://localhost:8080/"
        },
        "id": "ubt39nmnY9Q7",
        "outputId": "639dcf08-1775-4fd4-f007-e4697fdbf0ed"
      },
      "outputs": [
        {
          "name": "stdout",
          "output_type": "stream",
          "text": [
            "<class 'pandas.core.frame.DataFrame'>\n",
            "Int64Index: 354 entries, 0 to 388\n",
            "Data columns (total 4 columns):\n",
            " #   Column              Non-Null Count  Dtype  \n",
            "---  ------              --------------  -----  \n",
            " 0   Request UUID        354 non-null    object \n",
            " 1   Current Unit Price  354 non-null    float64\n",
            " 2   Target Unit Price   354 non-null    float64\n",
            " 3   Supply Priority     258 non-null    object \n",
            "dtypes: float64(2), object(2)\n",
            "memory usage: 13.8+ KB\n"
          ]
        }
      ],
      "source": [
        "request.info()"
      ]
    },
    {
      "cell_type": "markdown",
      "metadata": {
        "id": "175sHqjhbATU"
      },
      "source": [
        "\n",
        "\n",
        "---\n",
        "\n",
        "\n",
        "\n",
        "* 29 dec : stop coding at 8:00. (2h)\n",
        "\n",
        "\n",
        "---\n",
        "\n"
      ]
    },
    {
      "cell_type": "code",
      "execution_count": null,
      "metadata": {
        "id": "EDWF_FLqbJzD"
      },
      "outputs": [],
      "source": []
    }
  ],
  "metadata": {
    "colab": {
      "collapsed_sections": [
        "P828RoZsBO5B",
        "Sk8IqBKcHV3D"
      ],
      "include_colab_link": true,
      "provenance": []
    },
    "kernelspec": {
      "display_name": "Python 3",
      "name": "python3"
    },
    "language_info": {
      "codemirror_mode": {
        "name": "ipython",
        "version": 3
      },
      "file_extension": ".py",
      "mimetype": "text/x-python",
      "name": "python",
      "nbconvert_exporter": "python",
      "pygments_lexer": "ipython3",
      "version": "3.11.4"
    }
  },
  "nbformat": 4,
  "nbformat_minor": 0
}
