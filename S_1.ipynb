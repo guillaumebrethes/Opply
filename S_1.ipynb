{
  "cells": [
    {
      "cell_type": "code",
      "execution_count": 214,
      "metadata": {
        "colab": {
          "base_uri": "https://localhost:8080/"
        },
        "id": "xOuMJJYR3EG7",
        "outputId": "5ad94fde-a7c8-4b17-bc4c-997f553d8fc7"
      },
      "outputs": [],
      "source": [
        "# from google.colab import drive\n",
        "# drive.mount('/content/drive/')"
      ]
    },
    {
      "cell_type": "markdown",
      "metadata": {
        "id": "2pVfCjqV_U7i"
      },
      "source": [
        "### Importation module"
      ]
    },
    {
      "cell_type": "code",
      "execution_count": 215,
      "metadata": {
        "id": "MlnDOsJN_UfJ"
      },
      "outputs": [],
      "source": [
        "import numpy as np\n",
        "%matplotlib inline\n",
        "import pandas as pd\n",
        "import seaborn as sns\n",
        "import calendar\n",
        "import matplotlib.pyplot as plt\n"
      ]
    },
    {
      "cell_type": "markdown",
      "metadata": {},
      "source": [
        "### Connection with Colab / VSC"
      ]
    },
    {
      "cell_type": "code",
      "execution_count": 216,
      "metadata": {},
      "outputs": [],
      "source": [
        "# colab\n",
        "# quotes = pd.read_csv(\"/content/drive/MyDrive/Opply/Opply/d5d9348e5c87368cc1b74e6d4dde9794/Quotes.csv\")\n",
        "# request = pd.read_csv('/content/drive/MyDrive/Opply/Opply/d5d9348e5c87368cc1b74e6d4dde9794/Requests.csv')\n",
        "\n",
        "# vsc\n",
        "\n",
        "quotes = pd.read_csv(\"Quotes.csv\")\n",
        "requests = pd.read_csv(\"Requests.csv\")"
      ]
    },
    {
      "cell_type": "markdown",
      "metadata": {
        "id": "P828RoZsBO5B"
      },
      "source": [
        "# 1 - Exploration"
      ]
    },
    {
      "cell_type": "code",
      "execution_count": 217,
      "metadata": {
        "colab": {
          "base_uri": "https://localhost:8080/"
        },
        "id": "wcGKDAHy_4dj",
        "outputId": "6665b686-67b8-4b2b-eaf8-b820555c498d"
      },
      "outputs": [
        {
          "name": "stdout",
          "output_type": "stream",
          "text": [
            "(389, 4)\n",
            "(492, 6)\n"
          ]
        }
      ],
      "source": [
        "print(requests.shape)\n",
        "print(quotes.shape)"
      ]
    },
    {
      "cell_type": "code",
      "execution_count": 218,
      "metadata": {
        "id": "nUiZCozBA9Mm"
      },
      "outputs": [
        {
          "data": {
            "text/html": [
              "<div>\n",
              "<style scoped>\n",
              "    .dataframe tbody tr th:only-of-type {\n",
              "        vertical-align: middle;\n",
              "    }\n",
              "\n",
              "    .dataframe tbody tr th {\n",
              "        vertical-align: top;\n",
              "    }\n",
              "\n",
              "    .dataframe thead th {\n",
              "        text-align: right;\n",
              "    }\n",
              "</style>\n",
              "<table border=\"1\" class=\"dataframe\">\n",
              "  <thead>\n",
              "    <tr style=\"text-align: right;\">\n",
              "      <th></th>\n",
              "      <th>Request UUID</th>\n",
              "      <th>Current Unit Price</th>\n",
              "      <th>Target Unit Price</th>\n",
              "      <th>Supply Priority</th>\n",
              "    </tr>\n",
              "  </thead>\n",
              "  <tbody>\n",
              "    <tr>\n",
              "      <th>0</th>\n",
              "      <td>820412eb-8d4d-4d6c-a5e3-cfc977cd6d48</td>\n",
              "      <td>£3.50</td>\n",
              "      <td>£3.00</td>\n",
              "      <td>Price</td>\n",
              "    </tr>\n",
              "    <tr>\n",
              "      <th>1</th>\n",
              "      <td>08f1a913-1318-4656-9418-ce580a9871cb</td>\n",
              "      <td>£0.01</td>\n",
              "      <td>£0.01</td>\n",
              "      <td>Price</td>\n",
              "    </tr>\n",
              "    <tr>\n",
              "      <th>2</th>\n",
              "      <td>8cd6fd33-a1bc-43cb-9c63-df7d629d5362</td>\n",
              "      <td>£0.01</td>\n",
              "      <td>£0.01</td>\n",
              "      <td>Price</td>\n",
              "    </tr>\n",
              "    <tr>\n",
              "      <th>3</th>\n",
              "      <td>9388fbf6-410b-4f85-999a-1ff4d4cb733b</td>\n",
              "      <td>£0.01</td>\n",
              "      <td>£0.01</td>\n",
              "      <td>Price</td>\n",
              "    </tr>\n",
              "    <tr>\n",
              "      <th>4</th>\n",
              "      <td>37d05dfe-7f47-4eed-8e78-9f74c303bcad</td>\n",
              "      <td>£0.01</td>\n",
              "      <td>£0.01</td>\n",
              "      <td>Price</td>\n",
              "    </tr>\n",
              "  </tbody>\n",
              "</table>\n",
              "</div>"
            ],
            "text/plain": [
              "                           Request UUID Current Unit Price Target Unit Price  \\\n",
              "0  820412eb-8d4d-4d6c-a5e3-cfc977cd6d48              £3.50             £3.00   \n",
              "1  08f1a913-1318-4656-9418-ce580a9871cb              £0.01             £0.01   \n",
              "2  8cd6fd33-a1bc-43cb-9c63-df7d629d5362              £0.01             £0.01   \n",
              "3  9388fbf6-410b-4f85-999a-1ff4d4cb733b              £0.01             £0.01   \n",
              "4  37d05dfe-7f47-4eed-8e78-9f74c303bcad              £0.01             £0.01   \n",
              "\n",
              "  Supply Priority  \n",
              "0           Price  \n",
              "1           Price  \n",
              "2           Price  \n",
              "3           Price  \n",
              "4           Price  "
            ]
          },
          "execution_count": 218,
          "metadata": {},
          "output_type": "execute_result"
        }
      ],
      "source": [
        "requests.head()"
      ]
    },
    {
      "cell_type": "code",
      "execution_count": 219,
      "metadata": {
        "id": "vN_7N1m6BAiY"
      },
      "outputs": [
        {
          "data": {
            "text/html": [
              "<div>\n",
              "<style scoped>\n",
              "    .dataframe tbody tr th:only-of-type {\n",
              "        vertical-align: middle;\n",
              "    }\n",
              "\n",
              "    .dataframe tbody tr th {\n",
              "        vertical-align: top;\n",
              "    }\n",
              "\n",
              "    .dataframe thead th {\n",
              "        text-align: right;\n",
              "    }\n",
              "</style>\n",
              "<table border=\"1\" class=\"dataframe\">\n",
              "  <thead>\n",
              "    <tr style=\"text-align: right;\">\n",
              "      <th></th>\n",
              "      <th>Request UUID</th>\n",
              "      <th>Quote Unit Price</th>\n",
              "      <th>Status</th>\n",
              "      <th>Decline Reason</th>\n",
              "      <th>Samples Available</th>\n",
              "      <th>Documents Provided</th>\n",
              "    </tr>\n",
              "  </thead>\n",
              "  <tbody>\n",
              "    <tr>\n",
              "      <th>0</th>\n",
              "      <td>94ba38d1-57ed-4a60-92d1-47b55a40a6dd</td>\n",
              "      <td>£5.10</td>\n",
              "      <td>Available</td>\n",
              "      <td>NaN</td>\n",
              "      <td>NaN</td>\n",
              "      <td>NaN</td>\n",
              "    </tr>\n",
              "    <tr>\n",
              "      <th>1</th>\n",
              "      <td>820412eb-8d4d-4d6c-a5e3-cfc977cd6d48</td>\n",
              "      <td>£3.50</td>\n",
              "      <td>Available</td>\n",
              "      <td>NaN</td>\n",
              "      <td>Yes</td>\n",
              "      <td>NaN</td>\n",
              "    </tr>\n",
              "    <tr>\n",
              "      <th>2</th>\n",
              "      <td>08f1a913-1318-4656-9418-ce580a9871cb</td>\n",
              "      <td>£1,768.89</td>\n",
              "      <td>Available</td>\n",
              "      <td>NaN</td>\n",
              "      <td>Yes</td>\n",
              "      <td>Yes</td>\n",
              "    </tr>\n",
              "    <tr>\n",
              "      <th>3</th>\n",
              "      <td>4dedeeb1-12a5-4589-82ee-015e46d85790</td>\n",
              "      <td>£4.65</td>\n",
              "      <td>Declined</td>\n",
              "      <td>pricing: Too high</td>\n",
              "      <td>NaN</td>\n",
              "      <td>NaN</td>\n",
              "    </tr>\n",
              "    <tr>\n",
              "      <th>4</th>\n",
              "      <td>820412eb-8d4d-4d6c-a5e3-cfc977cd6d48</td>\n",
              "      <td>£13.00</td>\n",
              "      <td>Available</td>\n",
              "      <td>NaN</td>\n",
              "      <td>NaN</td>\n",
              "      <td>NaN</td>\n",
              "    </tr>\n",
              "  </tbody>\n",
              "</table>\n",
              "</div>"
            ],
            "text/plain": [
              "                           Request UUID Quote Unit Price     Status  \\\n",
              "0  94ba38d1-57ed-4a60-92d1-47b55a40a6dd            £5.10  Available   \n",
              "1  820412eb-8d4d-4d6c-a5e3-cfc977cd6d48            £3.50  Available   \n",
              "2  08f1a913-1318-4656-9418-ce580a9871cb        £1,768.89  Available   \n",
              "3  4dedeeb1-12a5-4589-82ee-015e46d85790            £4.65   Declined   \n",
              "4  820412eb-8d4d-4d6c-a5e3-cfc977cd6d48           £13.00  Available   \n",
              "\n",
              "      Decline Reason Samples Available Documents Provided  \n",
              "0                NaN               NaN                NaN  \n",
              "1                NaN               Yes                NaN  \n",
              "2                NaN               Yes                Yes  \n",
              "3  pricing: Too high               NaN                NaN  \n",
              "4                NaN               NaN                NaN  "
            ]
          },
          "execution_count": 219,
          "metadata": {},
          "output_type": "execute_result"
        }
      ],
      "source": [
        "quotes.head()"
      ]
    },
    {
      "cell_type": "code",
      "execution_count": 220,
      "metadata": {
        "id": "no95GHsWBvSx"
      },
      "outputs": [
        {
          "name": "stdout",
          "output_type": "stream",
          "text": [
            "<class 'pandas.core.frame.DataFrame'>\n",
            "RangeIndex: 389 entries, 0 to 388\n",
            "Data columns (total 4 columns):\n",
            " #   Column              Non-Null Count  Dtype \n",
            "---  ------              --------------  ----- \n",
            " 0   Request UUID        389 non-null    object\n",
            " 1   Current Unit Price  389 non-null    object\n",
            " 2   Target Unit Price   389 non-null    object\n",
            " 3   Supply Priority     287 non-null    object\n",
            "dtypes: object(4)\n",
            "memory usage: 12.3+ KB\n"
          ]
        }
      ],
      "source": [
        "requests.info()"
      ]
    },
    {
      "cell_type": "code",
      "execution_count": 221,
      "metadata": {
        "id": "3QTmlZX8B1rG"
      },
      "outputs": [
        {
          "name": "stdout",
          "output_type": "stream",
          "text": [
            "<class 'pandas.core.frame.DataFrame'>\n",
            "RangeIndex: 492 entries, 0 to 491\n",
            "Data columns (total 6 columns):\n",
            " #   Column              Non-Null Count  Dtype \n",
            "---  ------              --------------  ----- \n",
            " 0   Request UUID        492 non-null    object\n",
            " 1   Quote Unit Price    492 non-null    object\n",
            " 2   Status              492 non-null    object\n",
            " 3   Decline Reason      58 non-null     object\n",
            " 4   Samples Available   275 non-null    object\n",
            " 5   Documents Provided  279 non-null    object\n",
            "dtypes: object(6)\n",
            "memory usage: 23.2+ KB\n"
          ]
        }
      ],
      "source": [
        "quotes.info()"
      ]
    },
    {
      "cell_type": "code",
      "execution_count": null,
      "metadata": {},
      "outputs": [],
      "source": []
    },
    {
      "cell_type": "markdown",
      "metadata": {
        "id": "mriIf9jUC5RP"
      },
      "source": [
        "* Identified unique values for each column.\n"
      ]
    },
    {
      "cell_type": "code",
      "execution_count": null,
      "metadata": {
        "id": "-7yjMJDcC3J9"
      },
      "outputs": [],
      "source": [
        "# Quotes\n",
        "for col in quotes.columns:\n",
        "  unique_value = quotes[col].unique()\n",
        "  print(f\"> : {col} ==> : {unique_value}\")\n",
        "\n",
        "  value_counts = quotes[col].value_counts(normalize= True).round(2) * 100\n",
        "  value_counts_with_percent = value_counts.map(\"{:.2f} %\".format)\n",
        "\n",
        "  print(value_counts_with_percent)\n",
        "  print(f'- {quotes[col].dtypes} -')\n",
        "  print('---------------------------')"
      ]
    },
    {
      "cell_type": "markdown",
      "metadata": {},
      "source": [
        "* 50 % of Decline Reason is : pricing \n",
        "  * to do : group the 'pricing:' and 'pricing' lines and analyze why ?"
      ]
    },
    {
      "cell_type": "code",
      "execution_count": null,
      "metadata": {
        "id": "ZOrfgc4dFa6V"
      },
      "outputs": [],
      "source": [
        "# Requests\n",
        "for col in requests.columns:\n",
        "  unique_value = requests[col].unique()\n",
        "  print(f\"> : {col} ==> : {unique_value}\")\n",
        "\n",
        "  value_counts = requests[col].value_counts(normalize= True).round(2) * 100\n",
        "  value_counts_with_percent = value_counts.map(\"{:.2f} %\".format)\n",
        "\n",
        "  print(value_counts_with_percent)\n",
        "  print(f'- {requests[col].dtypes} -')\n",
        "  print('---------------------------')"
      ]
    },
    {
      "cell_type": "markdown",
      "metadata": {
        "id": "bavKdKslHz1_"
      },
      "source": [
        "# 2 - Quotes :"
      ]
    },
    {
      "cell_type": "markdown",
      "metadata": {},
      "source": [
        "## 2 - 1 - Cleaning :"
      ]
    },
    {
      "cell_type": "code",
      "execution_count": 224,
      "metadata": {
        "colab": {
          "base_uri": "https://localhost:8080/"
        },
        "id": "Q4IbvIf0H7Y4",
        "outputId": "7197481e-af1b-49d1-887c-1f2f014a6de9"
      },
      "outputs": [
        {
          "data": {
            "text/plain": [
              "Status\n",
              "Expired             290\n",
              "Available           124\n",
              "Ordered              58\n",
              "Declined             17\n",
              "Contract Created      1\n",
              "pending_payment       1\n",
              "Proceeded             1\n",
              "Name: count, dtype: int64"
            ]
          },
          "execution_count": 224,
          "metadata": {},
          "output_type": "execute_result"
        }
      ],
      "source": [
        "quotes[\"Status\"].value_counts()"
      ]
    },
    {
      "cell_type": "code",
      "execution_count": 225,
      "metadata": {
        "id": "MFWf_bZAKh-P"
      },
      "outputs": [],
      "source": [
        "# * replace nan by 'no' on column \"Samples Available\" and \"Documents Provided\"\n",
        "\n",
        "quotes[\"Documents Provided\"] = quotes[\"Documents Provided\"].fillna('No')\n",
        "quotes[\"Samples Available\"] = quotes[\"Samples Available\"].fillna('No')"
      ]
    },
    {
      "cell_type": "code",
      "execution_count": 261,
      "metadata": {},
      "outputs": [],
      "source": [
        "# delete £\n",
        "\n",
        "quotes['Quote Unit Price'] = quotes['Quote Unit Price'].replace('£', '', regex=True)"
      ]
    },
    {
      "cell_type": "code",
      "execution_count": 265,
      "metadata": {},
      "outputs": [],
      "source": [
        "# convert columns 'Quote Unit Price\t' to integer\n",
        "\n",
        "quotes['Quote Unit Price'] = quotes['Quote Unit Price'].replace({',': ''}, regex=True).astype(float).round(2)\n",
        "quotes['Quote Unit Price'] = quotes['Quote Unit Price'].astype(float).round(2)\n"
      ]
    },
    {
      "cell_type": "markdown",
      "metadata": {},
      "source": [
        "## 2 - 2 - Analysis"
      ]
    },
    {
      "cell_type": "markdown",
      "metadata": {},
      "source": [
        "### 2-2-1 New column : \"decline reason new\""
      ]
    },
    {
      "cell_type": "markdown",
      "metadata": {},
      "source": [
        "* creation of new column **'decline reason new'** with 3 labels :\n",
        "  * **not specified** : for all values nan\n",
        "  * **pricing** : for all row of the reason mentionned pricing (I suppose that as soon as pricing is indicated, it means that the price is too high)\n",
        "  * **no decline** : column 'Status' = 'Ordered'\n",
        "  * **others** : for other reason"
      ]
    },
    {
      "cell_type": "markdown",
      "metadata": {},
      "source": [
        "for other reason"
      ]
    },
    {
      "cell_type": "code",
      "execution_count": 230,
      "metadata": {},
      "outputs": [],
      "source": [
        "# NaN by \"not specified\"\n",
        "quotes[\"Decline Reason New\"] = np.where(quotes['Decline Reason'].isna(), 'not specified', quotes[\"Decline Reason\"])\n",
        "\n",
        "# \"pricing\" \n",
        "quotes[\"Decline Reason New\"] = np.where(quotes['Decline Reason New'].str.contains('pricing', case=False), 'pricing', quotes[\"Decline Reason New\"])\n",
        "\n",
        "# \"no decline\"\n",
        "quotes[\"Decline Reason New\"] = np.where(quotes['Status'] == 'Ordered', 'no decline', quotes[\"Decline Reason New\"])\n",
        "\n",
        "# \"others\"\n",
        "quotes[\"Decline Reason New\"] = np.where(\n",
        "    (\n",
        "        (quotes[\"Decline Reason New\"] != 'not specified') &\n",
        "        (quotes[\"Decline Reason New\"] != 'no decline') &\n",
        "        (~quotes[\"Decline Reason New\"].str.contains('pricing', case=False))\n",
        "    ),\n",
        "    'others',\n",
        "    quotes[\"Decline Reason New\"]\n",
        ")\n"
      ]
    },
    {
      "cell_type": "code",
      "execution_count": 231,
      "metadata": {},
      "outputs": [
        {
          "data": {
            "text/plain": [
              "Decline Reason New\n",
              "not specified    76.0\n",
              "no decline       12.0\n",
              "pricing          10.0\n",
              "others            2.0\n",
              "Name: proportion, dtype: float64"
            ]
          },
          "execution_count": 231,
          "metadata": {},
          "output_type": "execute_result"
        }
      ],
      "source": [
        "# Repartion of Decline Reason New\n",
        "quotes['Decline Reason New'].value_counts(normalize= True).round(2) * 100"
      ]
    },
    {
      "cell_type": "markdown",
      "metadata": {},
      "source": [
        "* only 10% of decline are due to price "
      ]
    },
    {
      "cell_type": "code",
      "execution_count": 232,
      "metadata": {},
      "outputs": [
        {
          "data": {
            "text/html": [
              "<div>\n",
              "<style scoped>\n",
              "    .dataframe tbody tr th:only-of-type {\n",
              "        vertical-align: middle;\n",
              "    }\n",
              "\n",
              "    .dataframe tbody tr th {\n",
              "        vertical-align: top;\n",
              "    }\n",
              "\n",
              "    .dataframe thead th {\n",
              "        text-align: right;\n",
              "    }\n",
              "</style>\n",
              "<table border=\"1\" class=\"dataframe\">\n",
              "  <thead>\n",
              "    <tr style=\"text-align: right;\">\n",
              "      <th></th>\n",
              "      <th>Request UUID</th>\n",
              "      <th>Quote Unit Price</th>\n",
              "      <th>Status</th>\n",
              "      <th>Decline Reason</th>\n",
              "      <th>Samples Available</th>\n",
              "      <th>Documents Provided</th>\n",
              "      <th>Decline Reason New</th>\n",
              "    </tr>\n",
              "  </thead>\n",
              "  <tbody>\n",
              "    <tr>\n",
              "      <th>0</th>\n",
              "      <td>94ba38d1-57ed-4a60-92d1-47b55a40a6dd</td>\n",
              "      <td>£5.10</td>\n",
              "      <td>Available</td>\n",
              "      <td>NaN</td>\n",
              "      <td>No</td>\n",
              "      <td>No</td>\n",
              "      <td>not specified</td>\n",
              "    </tr>\n",
              "    <tr>\n",
              "      <th>1</th>\n",
              "      <td>820412eb-8d4d-4d6c-a5e3-cfc977cd6d48</td>\n",
              "      <td>£3.50</td>\n",
              "      <td>Available</td>\n",
              "      <td>NaN</td>\n",
              "      <td>Yes</td>\n",
              "      <td>No</td>\n",
              "      <td>not specified</td>\n",
              "    </tr>\n",
              "    <tr>\n",
              "      <th>2</th>\n",
              "      <td>08f1a913-1318-4656-9418-ce580a9871cb</td>\n",
              "      <td>£1,768.89</td>\n",
              "      <td>Available</td>\n",
              "      <td>NaN</td>\n",
              "      <td>Yes</td>\n",
              "      <td>Yes</td>\n",
              "      <td>not specified</td>\n",
              "    </tr>\n",
              "    <tr>\n",
              "      <th>4</th>\n",
              "      <td>820412eb-8d4d-4d6c-a5e3-cfc977cd6d48</td>\n",
              "      <td>£13.00</td>\n",
              "      <td>Available</td>\n",
              "      <td>NaN</td>\n",
              "      <td>No</td>\n",
              "      <td>No</td>\n",
              "      <td>not specified</td>\n",
              "    </tr>\n",
              "    <tr>\n",
              "      <th>6</th>\n",
              "      <td>4dedeeb1-12a5-4589-82ee-015e46d85790</td>\n",
              "      <td>£2.97</td>\n",
              "      <td>Available</td>\n",
              "      <td>NaN</td>\n",
              "      <td>Yes</td>\n",
              "      <td>Yes</td>\n",
              "      <td>not specified</td>\n",
              "    </tr>\n",
              "  </tbody>\n",
              "</table>\n",
              "</div>"
            ],
            "text/plain": [
              "                           Request UUID Quote Unit Price     Status  \\\n",
              "0  94ba38d1-57ed-4a60-92d1-47b55a40a6dd            £5.10  Available   \n",
              "1  820412eb-8d4d-4d6c-a5e3-cfc977cd6d48            £3.50  Available   \n",
              "2  08f1a913-1318-4656-9418-ce580a9871cb        £1,768.89  Available   \n",
              "4  820412eb-8d4d-4d6c-a5e3-cfc977cd6d48           £13.00  Available   \n",
              "6  4dedeeb1-12a5-4589-82ee-015e46d85790            £2.97  Available   \n",
              "\n",
              "  Decline Reason Samples Available Documents Provided Decline Reason New  \n",
              "0            NaN                No                 No      not specified  \n",
              "1            NaN               Yes                 No      not specified  \n",
              "2            NaN               Yes                Yes      not specified  \n",
              "4            NaN                No                 No      not specified  \n",
              "6            NaN               Yes                Yes      not specified  "
            ]
          },
          "execution_count": 232,
          "metadata": {},
          "output_type": "execute_result"
        }
      ],
      "source": [
        "# create df with \"Decline Reason New\" = not specified\n",
        "# understand why label \"not specified = 76%\"\n",
        "quotes_not_specified = quotes[quotes['Decline Reason New'] == 'not specified']\n",
        "quotes_not_specified.head()"
      ]
    },
    {
      "cell_type": "code",
      "execution_count": 233,
      "metadata": {},
      "outputs": [
        {
          "data": {
            "image/png": "[encoded data removed]",
            "text/plain": [
              "<Figure size 300x300 with 1 Axes>"
            ]
          },
          "metadata": {},
          "output_type": "display_data"
        }
      ],
      "source": [
        "# when Decline Reason is not specified, we represent the distribution of 'Status' \n",
        "colors = ['skyblue', 'orange', 'lightgreen', 'pink', 'lightcoral']\n",
        "\n",
        "plt.figure(figsize=(3,3))\n",
        "quotes_not_specified[\"Status\"].value_counts().plot(\n",
        "    kind='pie',\n",
        "    autopct='%1.1f%%',\n",
        "    explode=(0.05, 0.05, 0.05, 0.05, 0.05),\n",
        "    colors=colors\n",
        ")\n",
        "plt.show()\n"
      ]
    },
    {
      "cell_type": "markdown",
      "metadata": {},
      "source": [
        "* let's try to understand what's in Expired"
      ]
    },
    {
      "cell_type": "code",
      "execution_count": 234,
      "metadata": {},
      "outputs": [
        {
          "data": {
            "text/html": [
              "<div>\n",
              "<style scoped>\n",
              "    .dataframe tbody tr th:only-of-type {\n",
              "        vertical-align: middle;\n",
              "    }\n",
              "\n",
              "    .dataframe tbody tr th {\n",
              "        vertical-align: top;\n",
              "    }\n",
              "\n",
              "    .dataframe thead th {\n",
              "        text-align: right;\n",
              "    }\n",
              "</style>\n",
              "<table border=\"1\" class=\"dataframe\">\n",
              "  <thead>\n",
              "    <tr style=\"text-align: right;\">\n",
              "      <th></th>\n",
              "      <th>Request UUID</th>\n",
              "      <th>Quote Unit Price</th>\n",
              "      <th>Status</th>\n",
              "      <th>Decline Reason</th>\n",
              "      <th>Samples Available</th>\n",
              "      <th>Documents Provided</th>\n",
              "      <th>Decline Reason New</th>\n",
              "    </tr>\n",
              "  </thead>\n",
              "  <tbody>\n",
              "    <tr>\n",
              "      <th>11</th>\n",
              "      <td>50ef47ee-1cb8-44bf-9444-2c057fdc72ca</td>\n",
              "      <td>£2.86</td>\n",
              "      <td>Expired</td>\n",
              "      <td>NaN</td>\n",
              "      <td>No</td>\n",
              "      <td>Yes</td>\n",
              "      <td>not specified</td>\n",
              "    </tr>\n",
              "    <tr>\n",
              "      <th>48</th>\n",
              "      <td>52fc0262-ed22-40f7-b983-a8df4c6d7a0d</td>\n",
              "      <td>£77.00</td>\n",
              "      <td>Expired</td>\n",
              "      <td>NaN</td>\n",
              "      <td>Yes</td>\n",
              "      <td>Yes</td>\n",
              "      <td>not specified</td>\n",
              "    </tr>\n",
              "    <tr>\n",
              "      <th>60</th>\n",
              "      <td>b9701840-f486-4e5a-989e-bfaf42c0ca65</td>\n",
              "      <td>£12.25</td>\n",
              "      <td>Expired</td>\n",
              "      <td>NaN</td>\n",
              "      <td>No</td>\n",
              "      <td>Yes</td>\n",
              "      <td>not specified</td>\n",
              "    </tr>\n",
              "    <tr>\n",
              "      <th>62</th>\n",
              "      <td>cc66f476-9f26-426c-9216-0150c87f8c78</td>\n",
              "      <td>£20.00</td>\n",
              "      <td>Expired</td>\n",
              "      <td>NaN</td>\n",
              "      <td>Yes</td>\n",
              "      <td>No</td>\n",
              "      <td>not specified</td>\n",
              "    </tr>\n",
              "    <tr>\n",
              "      <th>66</th>\n",
              "      <td>1c0a5675-bc9e-4a4f-8e1f-eb1f673e0038</td>\n",
              "      <td>£2.00</td>\n",
              "      <td>Expired</td>\n",
              "      <td>NaN</td>\n",
              "      <td>Yes</td>\n",
              "      <td>Yes</td>\n",
              "      <td>not specified</td>\n",
              "    </tr>\n",
              "  </tbody>\n",
              "</table>\n",
              "</div>"
            ],
            "text/plain": [
              "                            Request UUID Quote Unit Price   Status  \\\n",
              "11  50ef47ee-1cb8-44bf-9444-2c057fdc72ca            £2.86  Expired   \n",
              "48  52fc0262-ed22-40f7-b983-a8df4c6d7a0d           £77.00  Expired   \n",
              "60  b9701840-f486-4e5a-989e-bfaf42c0ca65           £12.25  Expired   \n",
              "62  cc66f476-9f26-426c-9216-0150c87f8c78           £20.00  Expired   \n",
              "66  1c0a5675-bc9e-4a4f-8e1f-eb1f673e0038            £2.00  Expired   \n",
              "\n",
              "   Decline Reason Samples Available Documents Provided Decline Reason New  \n",
              "11            NaN                No                Yes      not specified  \n",
              "48            NaN               Yes                Yes      not specified  \n",
              "60            NaN                No                Yes      not specified  \n",
              "62            NaN               Yes                 No      not specified  \n",
              "66            NaN               Yes                Yes      not specified  "
            ]
          },
          "execution_count": 234,
          "metadata": {},
          "output_type": "execute_result"
        }
      ],
      "source": [
        "\n",
        "# Filter \n",
        "quotes_decline_not_specified_expired = quotes[(quotes['Decline Reason New'] == 'not specified') & (quotes['Status'] == 'Expired')]\n",
        "quotes_decline_not_specified_expired.head()"
      ]
    },
    {
      "cell_type": "code",
      "execution_count": 235,
      "metadata": {},
      "outputs": [
        {
          "data": {
            "text/plain": [
              "(249, 7)"
            ]
          },
          "execution_count": 235,
          "metadata": {},
          "output_type": "execute_result"
        }
      ],
      "source": [
        "quotes_decline_not_specified_expired.shape"
      ]
    },
    {
      "cell_type": "code",
      "execution_count": 236,
      "metadata": {},
      "outputs": [
        {
          "data": {
            "text/plain": [
              "249"
            ]
          },
          "execution_count": 236,
          "metadata": {},
          "output_type": "execute_result"
        }
      ],
      "source": [
        "quotes_decline_not_specified_expired[\"Decline Reason\"].isna().sum()"
      ]
    },
    {
      "cell_type": "markdown",
      "metadata": {},
      "source": [
        "* when in the same time :\n",
        "  * Status = Expired \n",
        "  * Decline Reason New = not specified\n",
        " decline reason is NaN in 100% of cases"
      ]
    },
    {
      "cell_type": "markdown",
      "metadata": {},
      "source": [
        "### 2-2-2 Column \"Ordered\""
      ]
    },
    {
      "cell_type": "code",
      "execution_count": 237,
      "metadata": {},
      "outputs": [
        {
          "data": {
            "text/plain": [
              "Status\n",
              "Expired             59.0\n",
              "Available           25.0\n",
              "Ordered             12.0\n",
              "Declined             3.0\n",
              "Contract Created     0.0\n",
              "pending_payment      0.0\n",
              "Proceeded            0.0\n",
              "Name: proportion, dtype: float64"
            ]
          },
          "execution_count": 237,
          "metadata": {},
          "output_type": "execute_result"
        }
      ],
      "source": [
        "quotes[\"Status\"].value_counts(normalize= True).round(2) * 100"
      ]
    },
    {
      "cell_type": "markdown",
      "metadata": {
        "id": "n2kiWzrUCJ2I"
      },
      "source": [
        "* 11.79% of quotes are Ordered"
      ]
    },
    {
      "cell_type": "markdown",
      "metadata": {},
      "source": [
        "### command carried out , so variable status = \"Ordered\". "
      ]
    },
    {
      "cell_type": "code",
      "execution_count": 238,
      "metadata": {
        "colab": {
          "base_uri": "https://localhost:8080/",
          "height": 223
        },
        "id": "q3TC_8-s-oGj",
        "outputId": "531ebbf6-bf7d-4e5e-8b65-8cfe18688f59"
      },
      "outputs": [
        {
          "name": "stdout",
          "output_type": "stream",
          "text": [
            "(58, 7)\n"
          ]
        },
        {
          "data": {
            "text/html": [
              "<div>\n",
              "<style scoped>\n",
              "    .dataframe tbody tr th:only-of-type {\n",
              "        vertical-align: middle;\n",
              "    }\n",
              "\n",
              "    .dataframe tbody tr th {\n",
              "        vertical-align: top;\n",
              "    }\n",
              "\n",
              "    .dataframe thead th {\n",
              "        text-align: right;\n",
              "    }\n",
              "</style>\n",
              "<table border=\"1\" class=\"dataframe\">\n",
              "  <thead>\n",
              "    <tr style=\"text-align: right;\">\n",
              "      <th></th>\n",
              "      <th>Request UUID</th>\n",
              "      <th>Quote Unit Price</th>\n",
              "      <th>Status</th>\n",
              "      <th>Decline Reason</th>\n",
              "      <th>Samples Available</th>\n",
              "      <th>Documents Provided</th>\n",
              "      <th>Decline Reason New</th>\n",
              "    </tr>\n",
              "  </thead>\n",
              "  <tbody>\n",
              "    <tr>\n",
              "      <th>28</th>\n",
              "      <td>fca03c4f-3f16-40d0-b87c-16d9343e4a52</td>\n",
              "      <td>£4.65</td>\n",
              "      <td>Ordered</td>\n",
              "      <td>NaN</td>\n",
              "      <td>Yes</td>\n",
              "      <td>Yes</td>\n",
              "      <td>no decline</td>\n",
              "    </tr>\n",
              "    <tr>\n",
              "      <th>30</th>\n",
              "      <td>d596642b-c417-49e6-aa3b-ec6185fb2b9f</td>\n",
              "      <td>£0.58</td>\n",
              "      <td>Ordered</td>\n",
              "      <td>NaN</td>\n",
              "      <td>No</td>\n",
              "      <td>Yes</td>\n",
              "      <td>no decline</td>\n",
              "    </tr>\n",
              "    <tr>\n",
              "      <th>79</th>\n",
              "      <td>9cf11f62-7b1e-4a7f-9c40-c12ad721a72b</td>\n",
              "      <td>£1.66</td>\n",
              "      <td>Ordered</td>\n",
              "      <td>NaN</td>\n",
              "      <td>No</td>\n",
              "      <td>Yes</td>\n",
              "      <td>no decline</td>\n",
              "    </tr>\n",
              "    <tr>\n",
              "      <th>80</th>\n",
              "      <td>3c583881-a99d-42ca-a81b-648bc6884976</td>\n",
              "      <td>£1.58</td>\n",
              "      <td>Ordered</td>\n",
              "      <td>NaN</td>\n",
              "      <td>No</td>\n",
              "      <td>Yes</td>\n",
              "      <td>no decline</td>\n",
              "    </tr>\n",
              "    <tr>\n",
              "      <th>84</th>\n",
              "      <td>2473d2dc-0a5c-4a61-a73d-3050faf0f7a0</td>\n",
              "      <td>£3.77</td>\n",
              "      <td>Ordered</td>\n",
              "      <td>NaN</td>\n",
              "      <td>Yes</td>\n",
              "      <td>No</td>\n",
              "      <td>no decline</td>\n",
              "    </tr>\n",
              "  </tbody>\n",
              "</table>\n",
              "</div>"
            ],
            "text/plain": [
              "                            Request UUID Quote Unit Price   Status  \\\n",
              "28  fca03c4f-3f16-40d0-b87c-16d9343e4a52            £4.65  Ordered   \n",
              "30  d596642b-c417-49e6-aa3b-ec6185fb2b9f            £0.58  Ordered   \n",
              "79  9cf11f62-7b1e-4a7f-9c40-c12ad721a72b            £1.66  Ordered   \n",
              "80  3c583881-a99d-42ca-a81b-648bc6884976            £1.58  Ordered   \n",
              "84  2473d2dc-0a5c-4a61-a73d-3050faf0f7a0            £3.77  Ordered   \n",
              "\n",
              "   Decline Reason Samples Available Documents Provided Decline Reason New  \n",
              "28            NaN               Yes                Yes         no decline  \n",
              "30            NaN                No                Yes         no decline  \n",
              "79            NaN                No                Yes         no decline  \n",
              "80            NaN                No                Yes         no decline  \n",
              "84            NaN               Yes                 No         no decline  "
            ]
          },
          "execution_count": 238,
          "metadata": {},
          "output_type": "execute_result"
        }
      ],
      "source": [
        "# Filter the dataframe based on the value of \"status\" == Ordered\n",
        "\n",
        "quotes_ordered = quotes[quotes['Status'] == 'Ordered']\n",
        "print(quotes_ordered.shape)\n",
        "quotes_ordered.head()"
      ]
    },
    {
      "cell_type": "code",
      "execution_count": 239,
      "metadata": {},
      "outputs": [
        {
          "name": "stderr",
          "output_type": "stream",
          "text": [
            "/var/folders/kz/qqr4yxrj5nn1nh6fbydp02yc0000gn/T/ipykernel_68733/654951754.py:32: SettingWithCopyWarning: \n",
            "A value is trying to be set on a copy of a slice from a DataFrame.\n",
            "Try using .loc[row_indexer,col_indexer] = value instead\n",
            "\n",
            "See the caveats in the documentation: https://pandas.pydata.org/pandas-docs/stable/user_guide/indexing.html#returning-a-view-versus-a-copy\n",
            "  quotes_ordered[\"group_samples_provided\"] = \"No\"\n",
            "/var/folders/kz/qqr4yxrj5nn1nh6fbydp02yc0000gn/T/ipykernel_68733/654951754.py:36: SettingWithCopyWarning: \n",
            "A value is trying to be set on a copy of a slice from a DataFrame.\n",
            "Try using .loc[row_indexer,col_indexer] = value instead\n",
            "\n",
            "See the caveats in the documentation: https://pandas.pydata.org/pandas-docs/stable/user_guide/indexing.html#returning-a-view-versus-a-copy\n",
            "  quotes_ordered[\"group_samples_provided\"] = np.where(\n"
          ]
        },
        {
          "data": {
            "image/png": "[encoded data removed]",
            "text/plain": [
              "<Figure size 1000x1000 with 3 Axes>"
            ]
          },
          "metadata": {},
          "output_type": "display_data"
        }
      ],
      "source": [
        "# graphical representation of the variables 'Samples Available' and 'Documents Provided' separated and grouped\n",
        "\n",
        "plt.figure(figsize=(10,10))\n",
        "fontsize = 10\n",
        "\n",
        "# Samples available\n",
        "plt.subplot(131)\n",
        "plt.title('Samples available?', fontsize=fontsize)\n",
        "\n",
        "quotes_ordered[\"Samples Available\"].value_counts().plot(\n",
        "    kind='pie',\n",
        "    autopct='%1.1f%%',\n",
        "    explode=(0.05, 0.05),\n",
        "    colors=['lightcoral', 'lightgreen'], \n",
        ")\n",
        "plt.ylabel('')\n",
        "\n",
        "# Documents Provided\n",
        "plt.subplot(132)\n",
        "plt.title('Documents Provided?', fontsize=fontsize)\n",
        "\n",
        "quotes_ordered[\"Documents Provided\"].value_counts().plot(\n",
        "    kind='pie',\n",
        "    autopct='%1.1f%%',\n",
        "    explode=(0.05, 0.05),\n",
        "    colors=['lightgreen', 'lightcoral'], \n",
        ")\n",
        "plt.ylabel('')\n",
        "\n",
        "# Samples available and Documents Provided in the same time\n",
        "## Create a new column \"group_samples_provided\" by default = \"no\" \n",
        "quotes_ordered[\"group_samples_provided\"] = \"No\"\n",
        "\n",
        "## Condition samples available and Documents Provided in the same time = yes \n",
        "## \"group_samples_provided\" = yes\n",
        "quotes_ordered[\"group_samples_provided\"] = np.where(\n",
        "    (quotes_ordered['Samples Available'] == 'Yes') & \n",
        "    (quotes_ordered['Documents Provided'] == 'Yes'),\n",
        "    \"Yes\",\n",
        "    quotes_ordered[\"group_samples_provided\"]\n",
        ")\n",
        "\n",
        "\n",
        "plt.subplot(133)\n",
        "plt.title('Samples available and Documents Provided ?', fontsize=fontsize)\n",
        "\n",
        "quotes_ordered['group_samples_provided'].value_counts().plot(\n",
        "    kind='pie',\n",
        "    autopct='%1.1f%%',\n",
        "    explode=(0.05, 0.05),\n",
        "    colors=['lightcoral', 'lightgreen'], \n",
        ")\n",
        "plt.ylabel('')\n",
        "\n",
        "plt.subplots_adjust(wspace=0.8)\n",
        "plt.show()\n"
      ]
    },
    {
      "cell_type": "markdown",
      "metadata": {},
      "source": [
        "* 39,7 % of ordered had \"samples available\"\n",
        "* 63,8 % of ordered had \"Documents Provided\"\n",
        "* 32,8 % of ordered had \"Documents Provided\" and \"samples available\""
      ]
    },
    {
      "cell_type": "markdown",
      "metadata": {},
      "source": []
    },
    {
      "cell_type": "markdown",
      "metadata": {
        "id": "rYbK8qsOX-Zn"
      },
      "source": [
        "# 3 - Requests :"
      ]
    },
    {
      "cell_type": "markdown",
      "metadata": {},
      "source": [
        "## 3 - 1 - Cleaning :"
      ]
    },
    {
      "cell_type": "code",
      "execution_count": 240,
      "metadata": {
        "colab": {
          "base_uri": "https://localhost:8080/",
          "height": 206
        },
        "id": "1OKIfOpCYB_T",
        "outputId": "7812a9dd-aa88-40ca-8acc-26d4ee755598"
      },
      "outputs": [
        {
          "data": {
            "text/html": [
              "<div>\n",
              "<style scoped>\n",
              "    .dataframe tbody tr th:only-of-type {\n",
              "        vertical-align: middle;\n",
              "    }\n",
              "\n",
              "    .dataframe tbody tr th {\n",
              "        vertical-align: top;\n",
              "    }\n",
              "\n",
              "    .dataframe thead th {\n",
              "        text-align: right;\n",
              "    }\n",
              "</style>\n",
              "<table border=\"1\" class=\"dataframe\">\n",
              "  <thead>\n",
              "    <tr style=\"text-align: right;\">\n",
              "      <th></th>\n",
              "      <th>Request UUID</th>\n",
              "      <th>Current Unit Price</th>\n",
              "      <th>Target Unit Price</th>\n",
              "      <th>Supply Priority</th>\n",
              "    </tr>\n",
              "  </thead>\n",
              "  <tbody>\n",
              "    <tr>\n",
              "      <th>0</th>\n",
              "      <td>820412eb-8d4d-4d6c-a5e3-cfc977cd6d48</td>\n",
              "      <td>£3.50</td>\n",
              "      <td>£3.00</td>\n",
              "      <td>Price</td>\n",
              "    </tr>\n",
              "    <tr>\n",
              "      <th>1</th>\n",
              "      <td>08f1a913-1318-4656-9418-ce580a9871cb</td>\n",
              "      <td>£0.01</td>\n",
              "      <td>£0.01</td>\n",
              "      <td>Price</td>\n",
              "    </tr>\n",
              "    <tr>\n",
              "      <th>2</th>\n",
              "      <td>8cd6fd33-a1bc-43cb-9c63-df7d629d5362</td>\n",
              "      <td>£0.01</td>\n",
              "      <td>£0.01</td>\n",
              "      <td>Price</td>\n",
              "    </tr>\n",
              "    <tr>\n",
              "      <th>3</th>\n",
              "      <td>9388fbf6-410b-4f85-999a-1ff4d4cb733b</td>\n",
              "      <td>£0.01</td>\n",
              "      <td>£0.01</td>\n",
              "      <td>Price</td>\n",
              "    </tr>\n",
              "    <tr>\n",
              "      <th>4</th>\n",
              "      <td>37d05dfe-7f47-4eed-8e78-9f74c303bcad</td>\n",
              "      <td>£0.01</td>\n",
              "      <td>£0.01</td>\n",
              "      <td>Price</td>\n",
              "    </tr>\n",
              "  </tbody>\n",
              "</table>\n",
              "</div>"
            ],
            "text/plain": [
              "                           Request UUID Current Unit Price Target Unit Price  \\\n",
              "0  820412eb-8d4d-4d6c-a5e3-cfc977cd6d48              £3.50             £3.00   \n",
              "1  08f1a913-1318-4656-9418-ce580a9871cb              £0.01             £0.01   \n",
              "2  8cd6fd33-a1bc-43cb-9c63-df7d629d5362              £0.01             £0.01   \n",
              "3  9388fbf6-410b-4f85-999a-1ff4d4cb733b              £0.01             £0.01   \n",
              "4  37d05dfe-7f47-4eed-8e78-9f74c303bcad              £0.01             £0.01   \n",
              "\n",
              "  Supply Priority  \n",
              "0           Price  \n",
              "1           Price  \n",
              "2           Price  \n",
              "3           Price  \n",
              "4           Price  "
            ]
          },
          "execution_count": 240,
          "metadata": {},
          "output_type": "execute_result"
        }
      ],
      "source": [
        "requests.head()"
      ]
    },
    {
      "cell_type": "code",
      "execution_count": 241,
      "metadata": {
        "id": "1evbkcVfYPni"
      },
      "outputs": [],
      "source": [
        "# delete £\n",
        "requests['Current Unit Price'] = requests['Current Unit Price'].replace('£', '', regex=True)\n",
        "requests['Target Unit Price'] = requests['Target Unit Price'].replace('£', '', regex=True)"
      ]
    },
    {
      "cell_type": "code",
      "execution_count": 244,
      "metadata": {
        "id": "ZfZmbkBuYmEb"
      },
      "outputs": [],
      "source": [
        "# delete rows with values = 0,01\n",
        "requests = requests.loc[(requests['Current Unit Price'] != '0.01') & (requests['Target Unit Price'] != '0.01')]\n"
      ]
    },
    {
      "cell_type": "code",
      "execution_count": 269,
      "metadata": {},
      "outputs": [
        {
          "name": "stdout",
          "output_type": "stream",
          "text": [
            "<class 'pandas.core.frame.DataFrame'>\n",
            "Index: 354 entries, 0 to 388\n",
            "Data columns (total 4 columns):\n",
            " #   Column              Non-Null Count  Dtype  \n",
            "---  ------              --------------  -----  \n",
            " 0   Request UUID        354 non-null    object \n",
            " 1   Current Unit Price  354 non-null    float64\n",
            " 2   Target Unit Price   354 non-null    float64\n",
            " 3   Supply Priority     258 non-null    object \n",
            "dtypes: float64(2), object(2)\n",
            "memory usage: 13.8+ KB\n"
          ]
        }
      ],
      "source": [
        "# convert 'columns_to_convert' in int\n",
        "\n",
        "columns_to_convert = ['Current Unit Price', 'Target Unit Price']\n",
        "\n",
        "requests[columns_to_convert] = requests[columns_to_convert].replace({',': ''}, regex=True).astype(float).round(2)\n",
        "requests[columns_to_convert] = requests[columns_to_convert].astype(float).round(2)\n",
        "\n",
        "requests.info()"
      ]
    },
    {
      "cell_type": "code",
      "execution_count": 275,
      "metadata": {},
      "outputs": [
        {
          "name": "stdout",
          "output_type": "stream",
          "text": [
            "requests : (354, 4)\n",
            "quotes   : (492, 7)\n",
            "There are , 39 % more Quotes than Requests\n"
          ]
        }
      ],
      "source": [
        "\n",
        "print(\"requests :\", requests.shape)\n",
        "print(\"quotes   :\", quotes.shape)\n",
        "\n",
        "result = (((quotes.shape[0] - requests.shape[0]) / requests.shape[0] ) * 100 )\n",
        "print(\"There are ,\", round(result), \"% more Quotes than Requests\")"
      ]
    },
    {
      "cell_type": "markdown",
      "metadata": {},
      "source": [
        "## 3 - 2 - Analysis"
      ]
    },
    {
      "cell_type": "markdown",
      "metadata": {
        "id": "Sk8IqBKcHV3D"
      },
      "source": [
        "### Merge quotes_order with Request\n",
        "\n"
      ]
    },
    {
      "cell_type": "markdown",
      "metadata": {},
      "source": [
        "* Before start merge, show file : Table Requests-QUotes"
      ]
    },
    {
      "cell_type": "markdown",
      "metadata": {
        "id": "9i_27WYhHqiM"
      },
      "source": [
        "* understanding why a quote is accepted based on the\n",
        " * Target Unit Price\n",
        " * Current Unit Price\n",
        " * Quote Unit Price\n",
        "\n",
        "---\n",
        "\n"
      ]
    },
    {
      "cell_type": "code",
      "execution_count": null,
      "metadata": {
        "colab": {
          "base_uri": "https://localhost:8080/",
          "height": 275
        },
        "id": "gYOy-5L3Ie8m",
        "outputId": "5d52e893-8e99-42ea-9928-274f023bec4b"
      },
      "outputs": [],
      "source": [
        "# inner merge\n",
        "\n",
        "print(quotes_ordered.shape)\n",
        "quotes_ordered_request = quotes_ordered.merge(right= request, on= 'Request UUID', how = 'inner')\n",
        "print(quotes_order_request.shape)\n",
        "quotes_ordered_request.head()"
      ]
    },
    {
      "cell_type": "markdown",
      "metadata": {},
      "source": []
    },
    {
      "cell_type": "code",
      "execution_count": null,
      "metadata": {
        "colab": {
          "base_uri": "https://localhost:8080/",
          "height": 240
        },
        "id": "djtwCGy3N09Z",
        "outputId": "f9f16f81-81cb-499d-ef8f-b89ff5a42fdd"
      },
      "outputs": [],
      "source": [
        "quotes_ordered_request.head()"
      ]
    },
    {
      "cell_type": "code",
      "execution_count": null,
      "metadata": {
        "id": "5giMAQFyOvst"
      },
      "outputs": [],
      "source": [
        "# convert columns 'price' to integer\n",
        "\n",
        "columns_to_convert = ['Quote Unit Price', 'Current Unit Price', 'Target Unit Price']\n",
        "quotes_ordered_request[columns_to_convert] = quotes_ordered_request[columns_to_convert].astype(float).round(2)\n"
      ]
    },
    {
      "cell_type": "code",
      "execution_count": null,
      "metadata": {
        "colab": {
          "base_uri": "https://localhost:8080/"
        },
        "id": "2YRzLn1UOP9s",
        "outputId": "ad1177b8-e21d-48ca-e55b-831e6ff98045"
      },
      "outputs": [],
      "source": [
        "quotes_ordered_request.info()"
      ]
    },
    {
      "cell_type": "code",
      "execution_count": null,
      "metadata": {
        "id": "J6dD_yVkM682"
      },
      "outputs": [],
      "source": [
        "# delete rows with values = 0,01\n",
        "\n",
        "quotes_ordered_request = quotes_ordered_request.loc[(quotes_ordered_request['Current Unit Price'] != 0.01) & (quotes_ordered_request['Target Unit Price'] != 0.01)]\n"
      ]
    },
    {
      "cell_type": "markdown",
      "metadata": {
        "id": "oJS0BfBgK_3k"
      },
      "source": [
        "* Addition of a column **'Price Difference (%)'** that calculates the percentage between the value requested by the buyer **Target Unit Price** and the price provided on the quote by the buyer **Quote Unit Price.**"
      ]
    },
    {
      "cell_type": "code",
      "execution_count": null,
      "metadata": {
        "colab": {
          "base_uri": "https://localhost:8080/"
        },
        "id": "F9_C85WDLBI1",
        "outputId": "8fe590f1-d536-42c8-c8e0-2b8f680710cc"
      },
      "outputs": [
        {
          "name": "stderr",
          "output_type": "stream",
          "text": [
            "<ipython-input-149-6c4dddc26466>:1: SettingWithCopyWarning: \n",
            "A value is trying to be set on a copy of a slice from a DataFrame.\n",
            "Try using .loc[row_indexer,col_indexer] = value instead\n",
            "\n",
            "See the caveats in the documentation: https://pandas.pydata.org/pandas-docs/stable/user_guide/indexing.html#returning-a-view-versus-a-copy\n",
            "  quotes_ordered_request['Price Difference (%)'] = ((quotes_ordered_request['Quote Unit Price'] - quotes_ordered_request['Target Unit Price']) / quotes_ordered_request['Target Unit Price']) * 100\n"
          ]
        }
      ],
      "source": [
        "quotes_ordered_request['Price Difference (%)'] = ((quotes_ordered_request['Quote Unit Price'] - quotes_ordered_request['Target Unit Price']) / quotes_ordered_request['Target Unit Price']) * 100\n"
      ]
    },
    {
      "cell_type": "code",
      "execution_count": null,
      "metadata": {
        "colab": {
          "base_uri": "https://localhost:8080/",
          "height": 310
        },
        "id": "cz3_rtkhQVEB",
        "outputId": "5903312e-364b-43e4-992e-65ae7d41f08d"
      },
      "outputs": [],
      "source": [
        "quotes_ordered_request.head()"
      ]
    },
    {
      "cell_type": "markdown",
      "metadata": {
        "id": "leDoRE7KXHNm"
      },
      "source": [
        "* We could add 2 more columns for:\n",
        " * Price negotiated upwards.\n",
        " * Price negotiated downwards."
      ]
    },
    {
      "cell_type": "code",
      "execution_count": null,
      "metadata": {
        "colab": {
          "base_uri": "https://localhost:8080/"
        },
        "id": "SjmUvujqZjM7",
        "outputId": "8468b31e-c468-444c-b91f-0778a983b8f7"
      },
      "outputs": [
        {
          "data": {
            "text/plain": [
              "(354, 4)"
            ]
          },
          "execution_count": 155,
          "metadata": {},
          "output_type": "execute_result"
        }
      ],
      "source": [
        "requests.shape"
      ]
    },
    {
      "cell_type": "code",
      "execution_count": null,
      "metadata": {
        "id": "z4LLZf8fY0f0"
      },
      "outputs": [],
      "source": [
        "# convert columns 'price' to integer\n",
        "\n",
        "requests[columns_to_convert] = requests[columns_to_convert].replace({',': ''}, regex=True).astype(float).round(2)\n",
        "\n",
        "columns_to_convert = ['Current Unit Price', 'Target Unit Price']\n",
        "requests[columns_to_convert] = requests[columns_to_convert].astype(float).round(2)\n"
      ]
    },
    {
      "cell_type": "code",
      "execution_count": null,
      "metadata": {
        "colab": {
          "base_uri": "https://localhost:8080/"
        },
        "id": "ubt39nmnY9Q7",
        "outputId": "639dcf08-1775-4fd4-f007-e4697fdbf0ed"
      },
      "outputs": [
        {
          "name": "stdout",
          "output_type": "stream",
          "text": [
            "<class 'pandas.core.frame.DataFrame'>\n",
            "Int64Index: 354 entries, 0 to 388\n",
            "Data columns (total 4 columns):\n",
            " #   Column              Non-Null Count  Dtype  \n",
            "---  ------              --------------  -----  \n",
            " 0   Request UUID        354 non-null    object \n",
            " 1   Current Unit Price  354 non-null    float64\n",
            " 2   Target Unit Price   354 non-null    float64\n",
            " 3   Supply Priority     258 non-null    object \n",
            "dtypes: float64(2), object(2)\n",
            "memory usage: 13.8+ KB\n"
          ]
        }
      ],
      "source": [
        "requests.info()"
      ]
    },
    {
      "cell_type": "markdown",
      "metadata": {
        "id": "175sHqjhbATU"
      },
      "source": [
        "\n",
        "\n",
        "---\n",
        "\n",
        "\n",
        "\n",
        "* 29 dec : stop coding at 8:00. (2h)\n",
        "\n",
        "\n",
        "---\n",
        "\n"
      ]
    },
    {
      "cell_type": "code",
      "execution_count": null,
      "metadata": {
        "id": "EDWF_FLqbJzD"
      },
      "outputs": [],
      "source": []
    }
  ],
  "metadata": {
    "colab": {
      "collapsed_sections": [
        "P828RoZsBO5B",
        "Sk8IqBKcHV3D"
      ],
      "include_colab_link": true,
      "provenance": []
    },
    "kernelspec": {
      "display_name": "Python 3",
      "name": "python3"
    },
    "language_info": {
      "codemirror_mode": {
        "name": "ipython",
        "version": 3
      },
      "file_extension": ".py",
      "mimetype": "text/x-python",
      "name": "python",
      "nbconvert_exporter": "python",
      "pygments_lexer": "ipython3",
      "version": "3.11.4"
    }
  },
  "nbformat": 4,
  "nbformat_minor": 0
}
